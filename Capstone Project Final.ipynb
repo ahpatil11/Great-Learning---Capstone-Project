{
 "cells": [
  {
   "cell_type": "code",
   "execution_count": 2,
   "metadata": {},
   "outputs": [],
   "source": [
    "# import the libraries\n",
    "import pandas as pd\n",
    "import matplotlib.pyplot as plt\n",
    "import seaborn as sns\n",
    "from sklearn.model_selection import train_test_split\n",
    "import warnings\n",
    "warnings.filterwarnings('ignore')"
   ]
  },
  {
   "cell_type": "code",
   "execution_count": 2,
   "metadata": {},
   "outputs": [],
   "source": [
    "#load the dataset\n",
    "shopping=pd.read_csv('online_shoppers_intention.csv')"
   ]
  },
  {
   "cell_type": "markdown",
   "metadata": {},
   "source": [
    "### Attribute Information:"
   ]
  },
  {
   "cell_type": "raw",
   "metadata": {},
   "source": [
    "Attribute Information:\n",
    "The dataset consists of 10 numerical and 8 categorical attributes. \n",
    "The 'Revenue' attribute can be used as the class label. \n",
    "\n",
    "\"Administrative\", \"Administrative Duration\", \"Informational\", \"Informational Duration\", \"Product Related\" and \"Product Related Duration\" represent the number of different types of pages visited by the visitor in that session and total time spent in each of these page categories. The values of these features are derived from the URL information of the pages visited by the user and updated in real time when a user takes an action, e.g. moving from one page to another. The \"Bounce Rate\", \"Exit Rate\" and \"Page Value\" features represent the metrics measured by \"Google Analytics\" for each page in the e-commerce site. The value of \"Bounce Rate\" feature for a web page refers to the percentage of visitors who enter the site from that page and then leave (\"bounce\") without triggering any other requests to the analytics server during that session. The value of \"Exit Rate\" feature for a specific web page is calculated as for all pageviews to the page, the percentage that were the last in the session. The \"Page Value\" feature represents the average value for a web page that a user visited before completing an e-commerce transaction. The \"Special Day\" feature indicates the closeness of the site visiting time to a specific special day (e.g. Mother’s Day, Valentine's Day) in which the sessions are more likely to be finalized with transaction. The value of this attribute is determined by considering the dynamics of e-commerce such as the duration between the order date and delivery date. For example, for Valentina’s day, this value takes a nonzero value between February 2 and February 12, zero before and after this date unless it is close to another special day, and its maximum value of 1 on February 8. The dataset also includes operating system, browser, region, traffic type, visitor type as returning or new visitor, a Boolean value indicating whether the date of the visit is weekend, and month of the year.\n"
   ]
  },
  {
   "cell_type": "markdown",
   "metadata": {},
   "source": [
    "### Some Analysis to Understand the Data"
   ]
  },
  {
   "cell_type": "code",
   "execution_count": 3,
   "metadata": {},
   "outputs": [
    {
     "data": {
      "text/html": [
       "<div>\n",
       "<style scoped>\n",
       "    .dataframe tbody tr th:only-of-type {\n",
       "        vertical-align: middle;\n",
       "    }\n",
       "\n",
       "    .dataframe tbody tr th {\n",
       "        vertical-align: top;\n",
       "    }\n",
       "\n",
       "    .dataframe thead th {\n",
       "        text-align: right;\n",
       "    }\n",
       "</style>\n",
       "<table border=\"1\" class=\"dataframe\">\n",
       "  <thead>\n",
       "    <tr style=\"text-align: right;\">\n",
       "      <th></th>\n",
       "      <th>Administrative</th>\n",
       "      <th>Administrative_Duration</th>\n",
       "      <th>Informational</th>\n",
       "      <th>Informational_Duration</th>\n",
       "      <th>ProductRelated</th>\n",
       "      <th>ProductRelated_Duration</th>\n",
       "      <th>BounceRates</th>\n",
       "      <th>ExitRates</th>\n",
       "      <th>PageValues</th>\n",
       "      <th>SpecialDay</th>\n",
       "      <th>Month</th>\n",
       "      <th>OperatingSystems</th>\n",
       "      <th>Browser</th>\n",
       "      <th>Region</th>\n",
       "      <th>TrafficType</th>\n",
       "      <th>VisitorType</th>\n",
       "      <th>Weekend</th>\n",
       "      <th>Revenue</th>\n",
       "    </tr>\n",
       "  </thead>\n",
       "  <tbody>\n",
       "    <tr>\n",
       "      <th>0</th>\n",
       "      <td>0</td>\n",
       "      <td>0.0</td>\n",
       "      <td>0</td>\n",
       "      <td>0.0</td>\n",
       "      <td>1</td>\n",
       "      <td>0.000000</td>\n",
       "      <td>0.20</td>\n",
       "      <td>0.20</td>\n",
       "      <td>0.0</td>\n",
       "      <td>0.0</td>\n",
       "      <td>Feb</td>\n",
       "      <td>1</td>\n",
       "      <td>1</td>\n",
       "      <td>1</td>\n",
       "      <td>1</td>\n",
       "      <td>Returning_Visitor</td>\n",
       "      <td>False</td>\n",
       "      <td>False</td>\n",
       "    </tr>\n",
       "    <tr>\n",
       "      <th>1</th>\n",
       "      <td>0</td>\n",
       "      <td>0.0</td>\n",
       "      <td>0</td>\n",
       "      <td>0.0</td>\n",
       "      <td>2</td>\n",
       "      <td>64.000000</td>\n",
       "      <td>0.00</td>\n",
       "      <td>0.10</td>\n",
       "      <td>0.0</td>\n",
       "      <td>0.0</td>\n",
       "      <td>Feb</td>\n",
       "      <td>2</td>\n",
       "      <td>2</td>\n",
       "      <td>1</td>\n",
       "      <td>2</td>\n",
       "      <td>Returning_Visitor</td>\n",
       "      <td>False</td>\n",
       "      <td>False</td>\n",
       "    </tr>\n",
       "    <tr>\n",
       "      <th>2</th>\n",
       "      <td>0</td>\n",
       "      <td>0.0</td>\n",
       "      <td>0</td>\n",
       "      <td>0.0</td>\n",
       "      <td>1</td>\n",
       "      <td>0.000000</td>\n",
       "      <td>0.20</td>\n",
       "      <td>0.20</td>\n",
       "      <td>0.0</td>\n",
       "      <td>0.0</td>\n",
       "      <td>Feb</td>\n",
       "      <td>4</td>\n",
       "      <td>1</td>\n",
       "      <td>9</td>\n",
       "      <td>3</td>\n",
       "      <td>Returning_Visitor</td>\n",
       "      <td>False</td>\n",
       "      <td>False</td>\n",
       "    </tr>\n",
       "    <tr>\n",
       "      <th>3</th>\n",
       "      <td>0</td>\n",
       "      <td>0.0</td>\n",
       "      <td>0</td>\n",
       "      <td>0.0</td>\n",
       "      <td>2</td>\n",
       "      <td>2.666667</td>\n",
       "      <td>0.05</td>\n",
       "      <td>0.14</td>\n",
       "      <td>0.0</td>\n",
       "      <td>0.0</td>\n",
       "      <td>Feb</td>\n",
       "      <td>3</td>\n",
       "      <td>2</td>\n",
       "      <td>2</td>\n",
       "      <td>4</td>\n",
       "      <td>Returning_Visitor</td>\n",
       "      <td>False</td>\n",
       "      <td>False</td>\n",
       "    </tr>\n",
       "    <tr>\n",
       "      <th>4</th>\n",
       "      <td>0</td>\n",
       "      <td>0.0</td>\n",
       "      <td>0</td>\n",
       "      <td>0.0</td>\n",
       "      <td>10</td>\n",
       "      <td>627.500000</td>\n",
       "      <td>0.02</td>\n",
       "      <td>0.05</td>\n",
       "      <td>0.0</td>\n",
       "      <td>0.0</td>\n",
       "      <td>Feb</td>\n",
       "      <td>3</td>\n",
       "      <td>3</td>\n",
       "      <td>1</td>\n",
       "      <td>4</td>\n",
       "      <td>Returning_Visitor</td>\n",
       "      <td>True</td>\n",
       "      <td>False</td>\n",
       "    </tr>\n",
       "  </tbody>\n",
       "</table>\n",
       "</div>"
      ],
      "text/plain": [
       "   Administrative  Administrative_Duration  Informational  \\\n",
       "0               0                      0.0              0   \n",
       "1               0                      0.0              0   \n",
       "2               0                      0.0              0   \n",
       "3               0                      0.0              0   \n",
       "4               0                      0.0              0   \n",
       "\n",
       "   Informational_Duration  ProductRelated  ProductRelated_Duration  \\\n",
       "0                     0.0               1                 0.000000   \n",
       "1                     0.0               2                64.000000   \n",
       "2                     0.0               1                 0.000000   \n",
       "3                     0.0               2                 2.666667   \n",
       "4                     0.0              10               627.500000   \n",
       "\n",
       "   BounceRates  ExitRates  PageValues  SpecialDay Month  OperatingSystems  \\\n",
       "0         0.20       0.20         0.0         0.0   Feb                 1   \n",
       "1         0.00       0.10         0.0         0.0   Feb                 2   \n",
       "2         0.20       0.20         0.0         0.0   Feb                 4   \n",
       "3         0.05       0.14         0.0         0.0   Feb                 3   \n",
       "4         0.02       0.05         0.0         0.0   Feb                 3   \n",
       "\n",
       "   Browser  Region  TrafficType        VisitorType  Weekend  Revenue  \n",
       "0        1       1            1  Returning_Visitor    False    False  \n",
       "1        2       1            2  Returning_Visitor    False    False  \n",
       "2        1       9            3  Returning_Visitor    False    False  \n",
       "3        2       2            4  Returning_Visitor    False    False  \n",
       "4        3       1            4  Returning_Visitor     True    False  "
      ]
     },
     "execution_count": 3,
     "metadata": {},
     "output_type": "execute_result"
    }
   ],
   "source": [
    "#Print the first 5 rows of the dataframe.\n",
    "shopping.head()"
   ]
  },
  {
   "cell_type": "code",
   "execution_count": 4,
   "metadata": {},
   "outputs": [
    {
     "data": {
      "text/plain": [
       "(12330, 18)"
      ]
     },
     "execution_count": 4,
     "metadata": {},
     "output_type": "execute_result"
    }
   ],
   "source": [
    "# check the shape of the data-number of rows and number of columns\n",
    "shopping.shape\n",
    "#The dataset consists of 10 numerical and 8 categorical attributes. \n",
    "#The 'Revenue' attribute can be used as the class label. \n"
   ]
  },
  {
   "cell_type": "code",
   "execution_count": 5,
   "metadata": {},
   "outputs": [
    {
     "data": {
      "text/plain": [
       "Index(['Administrative', 'Administrative_Duration', 'Informational',\n",
       "       'Informational_Duration', 'ProductRelated', 'ProductRelated_Duration',\n",
       "       'BounceRates', 'ExitRates', 'PageValues', 'SpecialDay', 'Month',\n",
       "       'OperatingSystems', 'Browser', 'Region', 'TrafficType', 'VisitorType',\n",
       "       'Weekend', 'Revenue'],\n",
       "      dtype='object')"
      ]
     },
     "execution_count": 5,
     "metadata": {},
     "output_type": "execute_result"
    }
   ],
   "source": [
    "# check the columns in the dataset\n",
    "shopping.columns"
   ]
  },
  {
   "cell_type": "code",
   "execution_count": 6,
   "metadata": {},
   "outputs": [
    {
     "name": "stdout",
     "output_type": "stream",
     "text": [
      "<class 'pandas.core.frame.DataFrame'>\n",
      "RangeIndex: 12330 entries, 0 to 12329\n",
      "Data columns (total 18 columns):\n",
      "Administrative             12330 non-null int64\n",
      "Administrative_Duration    12330 non-null float64\n",
      "Informational              12330 non-null int64\n",
      "Informational_Duration     12330 non-null float64\n",
      "ProductRelated             12330 non-null int64\n",
      "ProductRelated_Duration    12330 non-null float64\n",
      "BounceRates                12330 non-null float64\n",
      "ExitRates                  12330 non-null float64\n",
      "PageValues                 12330 non-null float64\n",
      "SpecialDay                 12330 non-null float64\n",
      "Month                      12330 non-null object\n",
      "OperatingSystems           12330 non-null int64\n",
      "Browser                    12330 non-null int64\n",
      "Region                     12330 non-null int64\n",
      "TrafficType                12330 non-null int64\n",
      "VisitorType                12330 non-null object\n",
      "Weekend                    12330 non-null bool\n",
      "Revenue                    12330 non-null bool\n",
      "dtypes: bool(2), float64(7), int64(7), object(2)\n",
      "memory usage: 1.5+ MB\n"
     ]
    }
   ],
   "source": [
    "## gives information about the data types,columns, null value counts, memory usage etc\n",
    "shopping.info(verbose=True)"
   ]
  },
  {
   "cell_type": "code",
   "execution_count": 7,
   "metadata": {},
   "outputs": [],
   "source": [
    "# create a copy of original data\n",
    "data=shopping.copy()"
   ]
  },
  {
   "cell_type": "raw",
   "metadata": {},
   "source": [
    "DataFrame.describe() method generates descriptive statistics that summarize the central tendency, dispersion and shape of a dataset’s distribution, excluding NaN values. This method tells us a lot of things about a dataset. One important thing is that the describe() method deals only with numeric values. It doesn't work with any categorical values. So if there are any categorical values in a column the describe() method will ignore it and display summary for the other columns unless parameter include=\"all\" is passed.\n",
    "\n",
    "Now, let's understand the statistics that are generated by the describe() method:\n",
    "\n",
    "count tells us the number of NoN-empty rows in a feature.\n",
    "mean tells us the mean value of that feature.\n",
    "std tells us the Standard Deviation Value of that feature.\n",
    "min tells us the minimum value of that feature.\n",
    "25%, 50%, and 75% are the percentile/quartile of each features. This quartile information helps us to detect Outliers.\n",
    "max tells us the maximum value of that feature."
   ]
  },
  {
   "cell_type": "code",
   "execution_count": 8,
   "metadata": {},
   "outputs": [
    {
     "data": {
      "text/html": [
       "<div>\n",
       "<style scoped>\n",
       "    .dataframe tbody tr th:only-of-type {\n",
       "        vertical-align: middle;\n",
       "    }\n",
       "\n",
       "    .dataframe tbody tr th {\n",
       "        vertical-align: top;\n",
       "    }\n",
       "\n",
       "    .dataframe thead th {\n",
       "        text-align: right;\n",
       "    }\n",
       "</style>\n",
       "<table border=\"1\" class=\"dataframe\">\n",
       "  <thead>\n",
       "    <tr style=\"text-align: right;\">\n",
       "      <th></th>\n",
       "      <th>Administrative</th>\n",
       "      <th>Administrative_Duration</th>\n",
       "      <th>Informational</th>\n",
       "      <th>Informational_Duration</th>\n",
       "      <th>ProductRelated</th>\n",
       "      <th>ProductRelated_Duration</th>\n",
       "      <th>BounceRates</th>\n",
       "      <th>ExitRates</th>\n",
       "      <th>PageValues</th>\n",
       "      <th>SpecialDay</th>\n",
       "      <th>OperatingSystems</th>\n",
       "      <th>Browser</th>\n",
       "      <th>Region</th>\n",
       "      <th>TrafficType</th>\n",
       "    </tr>\n",
       "  </thead>\n",
       "  <tbody>\n",
       "    <tr>\n",
       "      <th>count</th>\n",
       "      <td>12330.000000</td>\n",
       "      <td>12330.000000</td>\n",
       "      <td>12330.000000</td>\n",
       "      <td>12330.000000</td>\n",
       "      <td>12330.000000</td>\n",
       "      <td>12330.000000</td>\n",
       "      <td>12330.000000</td>\n",
       "      <td>12330.000000</td>\n",
       "      <td>12330.000000</td>\n",
       "      <td>12330.000000</td>\n",
       "      <td>12330.000000</td>\n",
       "      <td>12330.000000</td>\n",
       "      <td>12330.000000</td>\n",
       "      <td>12330.000000</td>\n",
       "    </tr>\n",
       "    <tr>\n",
       "      <th>mean</th>\n",
       "      <td>2.315166</td>\n",
       "      <td>80.818611</td>\n",
       "      <td>0.503569</td>\n",
       "      <td>34.472398</td>\n",
       "      <td>31.731468</td>\n",
       "      <td>1194.746220</td>\n",
       "      <td>0.022191</td>\n",
       "      <td>0.043073</td>\n",
       "      <td>5.889258</td>\n",
       "      <td>0.061427</td>\n",
       "      <td>2.124006</td>\n",
       "      <td>2.357097</td>\n",
       "      <td>3.147364</td>\n",
       "      <td>4.069586</td>\n",
       "    </tr>\n",
       "    <tr>\n",
       "      <th>std</th>\n",
       "      <td>3.321784</td>\n",
       "      <td>176.779107</td>\n",
       "      <td>1.270156</td>\n",
       "      <td>140.749294</td>\n",
       "      <td>44.475503</td>\n",
       "      <td>1913.669288</td>\n",
       "      <td>0.048488</td>\n",
       "      <td>0.048597</td>\n",
       "      <td>18.568437</td>\n",
       "      <td>0.198917</td>\n",
       "      <td>0.911325</td>\n",
       "      <td>1.717277</td>\n",
       "      <td>2.401591</td>\n",
       "      <td>4.025169</td>\n",
       "    </tr>\n",
       "    <tr>\n",
       "      <th>min</th>\n",
       "      <td>0.000000</td>\n",
       "      <td>0.000000</td>\n",
       "      <td>0.000000</td>\n",
       "      <td>0.000000</td>\n",
       "      <td>0.000000</td>\n",
       "      <td>0.000000</td>\n",
       "      <td>0.000000</td>\n",
       "      <td>0.000000</td>\n",
       "      <td>0.000000</td>\n",
       "      <td>0.000000</td>\n",
       "      <td>1.000000</td>\n",
       "      <td>1.000000</td>\n",
       "      <td>1.000000</td>\n",
       "      <td>1.000000</td>\n",
       "    </tr>\n",
       "    <tr>\n",
       "      <th>25%</th>\n",
       "      <td>0.000000</td>\n",
       "      <td>0.000000</td>\n",
       "      <td>0.000000</td>\n",
       "      <td>0.000000</td>\n",
       "      <td>7.000000</td>\n",
       "      <td>184.137500</td>\n",
       "      <td>0.000000</td>\n",
       "      <td>0.014286</td>\n",
       "      <td>0.000000</td>\n",
       "      <td>0.000000</td>\n",
       "      <td>2.000000</td>\n",
       "      <td>2.000000</td>\n",
       "      <td>1.000000</td>\n",
       "      <td>2.000000</td>\n",
       "    </tr>\n",
       "    <tr>\n",
       "      <th>50%</th>\n",
       "      <td>1.000000</td>\n",
       "      <td>7.500000</td>\n",
       "      <td>0.000000</td>\n",
       "      <td>0.000000</td>\n",
       "      <td>18.000000</td>\n",
       "      <td>598.936905</td>\n",
       "      <td>0.003112</td>\n",
       "      <td>0.025156</td>\n",
       "      <td>0.000000</td>\n",
       "      <td>0.000000</td>\n",
       "      <td>2.000000</td>\n",
       "      <td>2.000000</td>\n",
       "      <td>3.000000</td>\n",
       "      <td>2.000000</td>\n",
       "    </tr>\n",
       "    <tr>\n",
       "      <th>75%</th>\n",
       "      <td>4.000000</td>\n",
       "      <td>93.256250</td>\n",
       "      <td>0.000000</td>\n",
       "      <td>0.000000</td>\n",
       "      <td>38.000000</td>\n",
       "      <td>1464.157213</td>\n",
       "      <td>0.016813</td>\n",
       "      <td>0.050000</td>\n",
       "      <td>0.000000</td>\n",
       "      <td>0.000000</td>\n",
       "      <td>3.000000</td>\n",
       "      <td>2.000000</td>\n",
       "      <td>4.000000</td>\n",
       "      <td>4.000000</td>\n",
       "    </tr>\n",
       "    <tr>\n",
       "      <th>max</th>\n",
       "      <td>27.000000</td>\n",
       "      <td>3398.750000</td>\n",
       "      <td>24.000000</td>\n",
       "      <td>2549.375000</td>\n",
       "      <td>705.000000</td>\n",
       "      <td>63973.522230</td>\n",
       "      <td>0.200000</td>\n",
       "      <td>0.200000</td>\n",
       "      <td>361.763742</td>\n",
       "      <td>1.000000</td>\n",
       "      <td>8.000000</td>\n",
       "      <td>13.000000</td>\n",
       "      <td>9.000000</td>\n",
       "      <td>20.000000</td>\n",
       "    </tr>\n",
       "  </tbody>\n",
       "</table>\n",
       "</div>"
      ],
      "text/plain": [
       "       Administrative  Administrative_Duration  Informational  \\\n",
       "count    12330.000000             12330.000000   12330.000000   \n",
       "mean         2.315166                80.818611       0.503569   \n",
       "std          3.321784               176.779107       1.270156   \n",
       "min          0.000000                 0.000000       0.000000   \n",
       "25%          0.000000                 0.000000       0.000000   \n",
       "50%          1.000000                 7.500000       0.000000   \n",
       "75%          4.000000                93.256250       0.000000   \n",
       "max         27.000000              3398.750000      24.000000   \n",
       "\n",
       "       Informational_Duration  ProductRelated  ProductRelated_Duration  \\\n",
       "count            12330.000000    12330.000000             12330.000000   \n",
       "mean                34.472398       31.731468              1194.746220   \n",
       "std                140.749294       44.475503              1913.669288   \n",
       "min                  0.000000        0.000000                 0.000000   \n",
       "25%                  0.000000        7.000000               184.137500   \n",
       "50%                  0.000000       18.000000               598.936905   \n",
       "75%                  0.000000       38.000000              1464.157213   \n",
       "max               2549.375000      705.000000             63973.522230   \n",
       "\n",
       "        BounceRates     ExitRates    PageValues    SpecialDay  \\\n",
       "count  12330.000000  12330.000000  12330.000000  12330.000000   \n",
       "mean       0.022191      0.043073      5.889258      0.061427   \n",
       "std        0.048488      0.048597     18.568437      0.198917   \n",
       "min        0.000000      0.000000      0.000000      0.000000   \n",
       "25%        0.000000      0.014286      0.000000      0.000000   \n",
       "50%        0.003112      0.025156      0.000000      0.000000   \n",
       "75%        0.016813      0.050000      0.000000      0.000000   \n",
       "max        0.200000      0.200000    361.763742      1.000000   \n",
       "\n",
       "       OperatingSystems       Browser        Region   TrafficType  \n",
       "count      12330.000000  12330.000000  12330.000000  12330.000000  \n",
       "mean           2.124006      2.357097      3.147364      4.069586  \n",
       "std            0.911325      1.717277      2.401591      4.025169  \n",
       "min            1.000000      1.000000      1.000000      1.000000  \n",
       "25%            2.000000      2.000000      1.000000      2.000000  \n",
       "50%            2.000000      2.000000      3.000000      2.000000  \n",
       "75%            3.000000      2.000000      4.000000      4.000000  \n",
       "max            8.000000     13.000000      9.000000     20.000000  "
      ]
     },
     "execution_count": 8,
     "metadata": {},
     "output_type": "execute_result"
    }
   ],
   "source": [
    "### basic statistic details about the data (note only numerical columns would be displayed here unless parameter include=\"all\")\n",
    "shopping.describe()"
   ]
  },
  {
   "cell_type": "code",
   "execution_count": 9,
   "metadata": {},
   "outputs": [],
   "source": [
    "# create a new dataframe only for numerical features\n",
    "num_data=shopping.select_dtypes(exclude=['object','bool']).head()"
   ]
  },
  {
   "cell_type": "code",
   "execution_count": 10,
   "metadata": {},
   "outputs": [
    {
     "name": "stdout",
     "output_type": "stream",
     "text": [
      "Number of unique values in  Administrative 27\n",
      "Number of unique values in  Administrative_Duration 3335\n",
      "Number of unique values in  Informational 17\n",
      "Number of unique values in  Informational_Duration 1258\n",
      "Number of unique values in  ProductRelated 311\n",
      "Number of unique values in  ProductRelated_Duration 9551\n",
      "Number of unique values in  BounceRates 1872\n",
      "Number of unique values in  ExitRates 4777\n",
      "Number of unique values in  PageValues 2704\n",
      "Number of unique values in  SpecialDay 6\n",
      "Number of unique values in  Month 10\n",
      "Number of unique values in  OperatingSystems 8\n",
      "Number of unique values in  Browser 13\n",
      "Number of unique values in  Region 9\n",
      "Number of unique values in  TrafficType 20\n",
      "Number of unique values in  VisitorType 3\n",
      "Number of unique values in  Weekend 2\n",
      "Number of unique values in  Revenue 2\n"
     ]
    }
   ],
   "source": [
    "for i in shopping.columns:\n",
    "    print('Number of unique values in ',i,data[i].nunique())"
   ]
  },
  {
   "cell_type": "code",
   "execution_count": 11,
   "metadata": {},
   "outputs": [
    {
     "data": {
      "text/html": [
       "<div>\n",
       "<style scoped>\n",
       "    .dataframe tbody tr th:only-of-type {\n",
       "        vertical-align: middle;\n",
       "    }\n",
       "\n",
       "    .dataframe tbody tr th {\n",
       "        vertical-align: top;\n",
       "    }\n",
       "\n",
       "    .dataframe thead th {\n",
       "        text-align: right;\n",
       "    }\n",
       "</style>\n",
       "<table border=\"1\" class=\"dataframe\">\n",
       "  <thead>\n",
       "    <tr style=\"text-align: right;\">\n",
       "      <th></th>\n",
       "      <th>total</th>\n",
       "      <th>percent</th>\n",
       "    </tr>\n",
       "  </thead>\n",
       "  <tbody>\n",
       "  </tbody>\n",
       "</table>\n",
       "</div>"
      ],
      "text/plain": [
       "Empty DataFrame\n",
       "Columns: [total, percent]\n",
       "Index: []"
      ]
     },
     "execution_count": 11,
     "metadata": {},
     "output_type": "execute_result"
    }
   ],
   "source": [
    "# check the missing values\n",
    "def missing_check(df):\n",
    "    total=df.isnull().sum().sort_values(ascending=False)\n",
    "    percent=(df.isnull().sum()/df.isnull().count()*100).sort_values(ascending=False)\n",
    "    missing_data=pd.concat([total,percent],axis=1,keys=['total','percent'])\n",
    "    return missing_data[missing_data.percent!=0.0]\n",
    "missing_check(shopping)"
   ]
  },
  {
   "cell_type": "code",
   "execution_count": 12,
   "metadata": {},
   "outputs": [
    {
     "data": {
      "text/plain": [
       "Administrative             0\n",
       "Administrative_Duration    0\n",
       "Informational              0\n",
       "Informational_Duration     0\n",
       "ProductRelated             0\n",
       "ProductRelated_Duration    0\n",
       "BounceRates                0\n",
       "ExitRates                  0\n",
       "PageValues                 0\n",
       "SpecialDay                 0\n",
       "Month                      0\n",
       "OperatingSystems           0\n",
       "Browser                    0\n",
       "Region                     0\n",
       "TrafficType                0\n",
       "VisitorType                0\n",
       "Weekend                    0\n",
       "Revenue                    0\n",
       "dtype: int64"
      ]
     },
     "execution_count": 12,
     "metadata": {},
     "output_type": "execute_result"
    }
   ],
   "source": [
    "shopping.isnull().sum()"
   ]
  },
  {
   "cell_type": "code",
   "execution_count": 13,
   "metadata": {},
   "outputs": [],
   "source": [
    "# there is no null values in the dataset"
   ]
  },
  {
   "cell_type": "code",
   "execution_count": 14,
   "metadata": {},
   "outputs": [],
   "source": [
    "Numerical_features=['Administrative', 'Informational','Administrative_Duration',\n",
    "       'Informational_Duration', 'ProductRelated', 'ProductRelated_Duration',\n",
    "       'BounceRates', 'ExitRates', 'PageValues', 'TrafficType']\n",
    "Categorical_features=['SpecialDay','Month',\n",
    "       'OperatingSystems', 'Browser', 'Region', 'VisitorType',\n",
    "       'Weekend', 'Revenue']"
   ]
  },
  {
   "cell_type": "raw",
   "metadata": {},
   "source": [
    "# In the numerical feaures: There are two types of values :\n",
    "#1.Continuous(These values are not countable)\n",
    "['Administrative_Duration','Informational_Duration', 'ProductRelated',\n",
    "'ProductRelated_Duration','BounceRates', 'ExitRates', 'PageValues']\n",
    "#2.Discreate(These are countable)\n",
    "['Administrative', 'Informational', 'TrafficType']"
   ]
  },
  {
   "cell_type": "markdown",
   "metadata": {},
   "source": [
    "# Data visualization"
   ]
  },
  {
   "cell_type": "markdown",
   "metadata": {},
   "source": [
    "# a) Univariate Analysis"
   ]
  },
  {
   "cell_type": "code",
   "execution_count": 15,
   "metadata": {},
   "outputs": [],
   "source": [
    "#Numerical_features"
   ]
  },
  {
   "cell_type": "code",
   "execution_count": 16,
   "metadata": {},
   "outputs": [
    {
     "data": {
      "text/plain": [
       "<matplotlib.axes._subplots.AxesSubplot at 0x23757cb8358>"
      ]
     },
     "execution_count": 16,
     "metadata": {},
     "output_type": "execute_result"
    },
    {
     "data": {
      "image/png": "[encoded data removed]",
      "text/plain": [
       "<Figure size 1080x1080 with 6 Axes>"
      ]
     },
     "metadata": {
      "needs_background": "light"
     },
     "output_type": "display_data"
    }
   ],
   "source": [
    "# check the distribution of the data in each feature\n",
    "plt.figure(figsize=(15,15))\n",
    "plt.subplot(3, 2, 1)\n",
    "sns.distplot(shopping['Administrative'])\n",
    "plt.subplot(3, 2, 2)\n",
    "sns.distplot(shopping['Informational'])\n",
    "plt.subplot(3, 2, 3)\n",
    "sns.distplot(shopping['Administrative_Duration'])\n",
    "plt.subplot(3, 2, 4)\n",
    "sns.distplot(shopping['ProductRelated_Duration'])\n",
    "plt.subplot(3, 2, 5)\n",
    "sns.distplot(shopping['ExitRates'])\n",
    "plt.subplot(3, 2, 6)\n",
    "sns.distplot(shopping['BounceRates'])"
   ]
  },
  {
   "cell_type": "code",
   "execution_count": 17,
   "metadata": {},
   "outputs": [],
   "source": [
    "# most of the features are right skewed.. we can do the suitable transformation to handle the right skewed data."
   ]
  },
  {
   "cell_type": "code",
   "execution_count": 18,
   "metadata": {},
   "outputs": [
    {
     "data": {
      "text/plain": [
       "<matplotlib.axes._subplots.AxesSubplot at 0x23757f50ef0>"
      ]
     },
     "execution_count": 18,
     "metadata": {},
     "output_type": "execute_result"
    },
    {
     "data": {
      "image/png": "[encoded data removed]",
      "text/plain": [
       "<Figure size 1080x1080 with 4 Axes>"
      ]
     },
     "metadata": {
      "needs_background": "light"
     },
     "output_type": "display_data"
    }
   ],
   "source": [
    "# We will use Boxplot to check the outliers in the numerical featuers\n",
    "plt.figure(figsize=(15,15))\n",
    "# plt.subplot(3, 2, 1)\n",
    "# sns.boxplot(shopping['Administrative'])\n",
    "# plt.subplot(3, 2, 2)\n",
    "# sns.boxplot(shopping['Informational'])\n",
    "plt.subplot(3, 2, 3)\n",
    "sns.boxplot(shopping['Administrative_Duration'])\n",
    "plt.subplot(3, 2, 4)\n",
    "sns.boxplot(shopping['ProductRelated_Duration'])\n",
    "plt.subplot(3, 2, 5)\n",
    "sns.boxplot(shopping['ExitRates'])\n",
    "plt.subplot(3, 2, 6)\n",
    "sns.boxplot(shopping['BounceRates'])"
   ]
  },
  {
   "cell_type": "code",
   "execution_count": 19,
   "metadata": {},
   "outputs": [],
   "source": [
    "# there are many outliers but we can't remove the outliers because it may effect the behaviour of the customer so \n",
    "# we will loose the info."
   ]
  },
  {
   "cell_type": "raw",
   "metadata": {},
   "source": [
    "Observations:\n",
    "50% of the users have Administrative_Duration close to 0.(These are uninterested customers) \n",
    "25% of the users have the bounce rate 0.(These are interested customers)\n",
    "# We will check the ProductId where ProductRelated_Duration>1464\n",
    "and also where the ProductRelated_Duration<184 to check if there is any info."
   ]
  },
  {
   "cell_type": "code",
   "execution_count": 20,
   "metadata": {},
   "outputs": [
    {
     "data": {
      "text/plain": [
       "array([False,  True])"
      ]
     },
     "execution_count": 20,
     "metadata": {},
     "output_type": "execute_result"
    }
   ],
   "source": [
    "shopping['Revenue'].unique()"
   ]
  },
  {
   "cell_type": "code",
   "execution_count": 21,
   "metadata": {},
   "outputs": [
    {
     "data": {
      "text/plain": [
       "25"
      ]
     },
     "execution_count": 21,
     "metadata": {},
     "output_type": "execute_result"
    }
   ],
   "source": [
    "shopping[(shopping['ProductRelated_Duration']<184) & (shopping['Revenue']==False) ]['ProductRelated'].nunique()"
   ]
  },
  {
   "cell_type": "code",
   "execution_count": 22,
   "metadata": {},
   "outputs": [
    {
     "data": {
      "text/plain": [
       "17"
      ]
     },
     "execution_count": 22,
     "metadata": {},
     "output_type": "execute_result"
    }
   ],
   "source": [
    "shopping[(shopping['ProductRelated_Duration']<184) & (shopping['Revenue']==True) ]['ProductRelated'].nunique()\n",
    "# ProductRelated_Duration is less but still transcation done"
   ]
  },
  {
   "cell_type": "code",
   "execution_count": 23,
   "metadata": {},
   "outputs": [],
   "source": [
    "# for the categorical features we will use countplot"
   ]
  },
  {
   "cell_type": "code",
   "execution_count": 24,
   "metadata": {},
   "outputs": [
    {
     "data": {
      "text/plain": [
       "0.0    11079\n",
       "0.6      351\n",
       "0.8      325\n",
       "0.4      243\n",
       "0.2      178\n",
       "1.0      154\n",
       "Name: SpecialDay, dtype: int64"
      ]
     },
     "execution_count": 24,
     "metadata": {},
     "output_type": "execute_result"
    }
   ],
   "source": [
    "shopping['SpecialDay'].value_counts()"
   ]
  },
  {
   "cell_type": "code",
   "execution_count": 25,
   "metadata": {},
   "outputs": [
    {
     "data": {
      "text/plain": [
       "<matplotlib.axes._subplots.AxesSubplot at 0x237525ae7f0>"
      ]
     },
     "execution_count": 25,
     "metadata": {},
     "output_type": "execute_result"
    },
    {
     "data": {
      "image/png": "[encoded data removed]",
      "text/plain": [
       "<Figure size 504x360 with 1 Axes>"
      ]
     },
     "metadata": {
      "needs_background": "light"
     },
     "output_type": "display_data"
    }
   ],
   "source": [
    "plt.figure(figsize=(7,5))\n",
    "sns.countplot(shopping['SpecialDay'])"
   ]
  },
  {
   "cell_type": "code",
   "execution_count": 26,
   "metadata": {},
   "outputs": [
    {
     "data": {
      "text/plain": [
       "Index(['May', 'Nov', 'Mar', 'Dec', 'Oct', 'Sep', 'Aug', 'Jul', 'June', 'Feb'], dtype='object')"
      ]
     },
     "execution_count": 26,
     "metadata": {},
     "output_type": "execute_result"
    }
   ],
   "source": [
    "shopping.Month.value_counts().index"
   ]
  },
  {
   "cell_type": "code",
   "execution_count": 27,
   "metadata": {},
   "outputs": [
    {
     "data": {
      "text/plain": [
       "<matplotlib.axes._subplots.AxesSubplot at 0x237582704e0>"
      ]
     },
     "execution_count": 27,
     "metadata": {},
     "output_type": "execute_result"
    },
    {
     "data": {
      "image/png": "[encoded data removed]",
      "text/plain": [
       "<Figure size 576x360 with 1 Axes>"
      ]
     },
     "metadata": {
      "needs_background": "light"
     },
     "output_type": "display_data"
    }
   ],
   "source": [
    "plt.figure(figsize=(8,5))\n",
    "sns.countplot(data['Month'],order=['May', 'Nov', 'Mar', 'Dec', 'Oct', 'Sep', 'Aug', 'Jul', 'June', 'Feb'])\n",
    "# In May there are more  number of users"
   ]
  },
  {
   "cell_type": "code",
   "execution_count": 28,
   "metadata": {},
   "outputs": [
    {
     "data": {
      "text/plain": [
       "<matplotlib.axes._subplots.AxesSubplot at 0x23757d32898>"
      ]
     },
     "execution_count": 28,
     "metadata": {},
     "output_type": "execute_result"
    },
    {
     "data": {
      "image/png": "[encoded data removed]",
      "text/plain": [
       "<Figure size 504x360 with 1 Axes>"
      ]
     },
     "metadata": {
      "needs_background": "light"
     },
     "output_type": "display_data"
    }
   ],
   "source": [
    "plt.figure(figsize=(7,5))\n",
    "sns.countplot(shopping['OperatingSystems'],order=data.OperatingSystems.value_counts().index)\n",
    "# more number of users have OS 2"
   ]
  },
  {
   "cell_type": "code",
   "execution_count": 29,
   "metadata": {},
   "outputs": [
    {
     "data": {
      "text/plain": [
       "<matplotlib.axes._subplots.AxesSubplot at 0x23758036fd0>"
      ]
     },
     "execution_count": 29,
     "metadata": {},
     "output_type": "execute_result"
    },
    {
     "data": {
      "image/png": "[encoded data removed]",
      "text/plain": [
       "<Figure size 576x360 with 1 Axes>"
      ]
     },
     "metadata": {
      "needs_background": "light"
     },
     "output_type": "display_data"
    }
   ],
   "source": [
    "plt.figure(figsize=(8,5))\n",
    "sns.countplot(shopping['Browser'],order=data.Browser.value_counts().index)\n",
    "# for Browsing the website, most number of users have opted for browser 2 (class label)"
   ]
  },
  {
   "cell_type": "code",
   "execution_count": 30,
   "metadata": {},
   "outputs": [
    {
     "data": {
      "text/plain": [
       "<matplotlib.axes._subplots.AxesSubplot at 0x237583512e8>"
      ]
     },
     "execution_count": 30,
     "metadata": {},
     "output_type": "execute_result"
    },
    {
     "data": {
      "image/png": "[encoded data removed]",
      "text/plain": [
       "<Figure size 576x360 with 1 Axes>"
      ]
     },
     "metadata": {
      "needs_background": "light"
     },
     "output_type": "display_data"
    }
   ],
   "source": [
    "plt.figure(figsize=(8,5))\n",
    "sns.countplot(shopping['Region'],order=data.Region.value_counts().index)\n",
    "# There are more numbers of users from region 1(class label)"
   ]
  },
  {
   "cell_type": "code",
   "execution_count": 31,
   "metadata": {},
   "outputs": [
    {
     "data": {
      "text/plain": [
       "<matplotlib.axes._subplots.AxesSubplot at 0x237582880b8>"
      ]
     },
     "execution_count": 31,
     "metadata": {},
     "output_type": "execute_result"
    },
    {
     "data": {
      "image/png": "[encoded data removed]",
      "text/plain": [
       "<Figure size 432x360 with 1 Axes>"
      ]
     },
     "metadata": {
      "needs_background": "light"
     },
     "output_type": "display_data"
    }
   ],
   "source": [
    "plt.figure(figsize=(6,5))\n",
    "sns.countplot(shopping['VisitorType'],order=data.VisitorType.value_counts().index)\n",
    "# most of the users are registred one\n",
    "# new visters are very less"
   ]
  },
  {
   "cell_type": "code",
   "execution_count": 32,
   "metadata": {},
   "outputs": [
    {
     "data": {
      "text/plain": [
       "<matplotlib.axes._subplots.AxesSubplot at 0x23759932780>"
      ]
     },
     "execution_count": 32,
     "metadata": {},
     "output_type": "execute_result"
    },
    {
     "data": {
      "image/png": "[encoded data removed]",
      "text/plain": [
       "<Figure size 1080x360 with 2 Axes>"
      ]
     },
     "metadata": {
      "needs_background": "light"
     },
     "output_type": "display_data"
    }
   ],
   "source": [
    "plt.figure(figsize=(15,5))\n",
    "plt.subplot(1, 2, 1)\n",
    "sns.countplot(shopping['Weekend'])\n",
    "plt.subplot(1, 2, 2)\n",
    "sns.countplot(data['Revenue'])\n",
    "## There are more number of users visit on weekdays rather than weekend"
   ]
  },
  {
   "cell_type": "markdown",
   "metadata": {},
   "source": [
    "# b) Bivariate Analysis"
   ]
  },
  {
   "cell_type": "code",
   "execution_count": 33,
   "metadata": {},
   "outputs": [],
   "source": [
    "# for 2- categorical feature we will use stacked bar graph\n",
    "# check all the categorical features with target variable-Revenue"
   ]
  },
  {
   "cell_type": "code",
   "execution_count": 34,
   "metadata": {},
   "outputs": [],
   "source": [
    "# we will check whether which visitor type are making more payment"
   ]
  },
  {
   "cell_type": "code",
   "execution_count": 35,
   "metadata": {},
   "outputs": [
    {
     "data": {
      "image/png": "[encoded data removed]",
      "text/plain": [
       "<Figure size 576x360 with 1 Axes>"
      ]
     },
     "metadata": {
      "needs_background": "light"
     },
     "output_type": "display_data"
    }
   ],
   "source": [
    "# visitor type Type vs Revenue\n",
    "\n",
    "df = pd.crosstab(data['VisitorType'], data['Revenue'])\n",
    "df.div(df.sum(1).astype(float), axis = 0).plot(kind = 'bar', stacked = True, figsize = (8, 5), color = ['lightblue', 'grey'])\n",
    "plt.title('Visiter Type vs Revenue', fontsize = 25)\n",
    "plt.show()"
   ]
  },
  {
   "cell_type": "code",
   "execution_count": 36,
   "metadata": {},
   "outputs": [],
   "source": [
    "# There is more chance of transcation if it is a new user"
   ]
  },
  {
   "cell_type": "code",
   "execution_count": 37,
   "metadata": {},
   "outputs": [],
   "source": [
    "# We will check weather the Revenue is more on the weekends or not"
   ]
  },
  {
   "cell_type": "code",
   "execution_count": 38,
   "metadata": {},
   "outputs": [
    {
     "data": {
      "image/png": "[encoded data removed]",
      "text/plain": [
       "<Figure size 576x360 with 1 Axes>"
      ]
     },
     "metadata": {
      "needs_background": "light"
     },
     "output_type": "display_data"
    }
   ],
   "source": [
    "# Weekend Type vs Revenue\n",
    "\n",
    "df = pd.crosstab(data['Weekend'], data['Revenue'])\n",
    "df.div(df.sum(1).astype(float), axis = 0).plot(kind = 'bar', stacked = True, figsize = (8, 5), color = ['lightblue', 'grey'])\n",
    "plt.title('Weekend vs Revenue', fontsize = 25)\n",
    "plt.show()"
   ]
  },
  {
   "cell_type": "code",
   "execution_count": 39,
   "metadata": {},
   "outputs": [],
   "source": [
    "# # There is more chance of transcation on weekends"
   ]
  },
  {
   "cell_type": "code",
   "execution_count": 40,
   "metadata": {},
   "outputs": [
    {
     "data": {
      "text/plain": [
       "Index(['Administrative', 'Administrative_Duration', 'Informational',\n",
       "       'Informational_Duration', 'ProductRelated', 'ProductRelated_Duration',\n",
       "       'BounceRates', 'ExitRates', 'PageValues', 'SpecialDay', 'Month',\n",
       "       'OperatingSystems', 'Browser', 'Region', 'TrafficType', 'VisitorType',\n",
       "       'Weekend', 'Revenue'],\n",
       "      dtype='object')"
      ]
     },
     "execution_count": 40,
     "metadata": {},
     "output_type": "execute_result"
    }
   ],
   "source": [
    "data.columns"
   ]
  },
  {
   "cell_type": "code",
   "execution_count": 41,
   "metadata": {},
   "outputs": [
    {
     "data": {
      "image/png": "[encoded data removed]",
      "text/plain": [
       "<Figure size 864x360 with 1 Axes>"
      ]
     },
     "metadata": {
      "needs_background": "light"
     },
     "output_type": "display_data"
    }
   ],
   "source": [
    "# Weekend Type vs Revenue\n",
    "\n",
    "df = pd.crosstab(data['TrafficType'], data['Revenue'])\n",
    "df.div(df.sum(1).astype(float), axis = 0).plot(kind = 'bar', stacked = True, figsize = (12, 5), color = ['lightblue', 'grey'])\n",
    "plt.title('Traffic Type vs Revenue', fontsize = 30)\n",
    "plt.show()"
   ]
  },
  {
   "cell_type": "code",
   "execution_count": 42,
   "metadata": {},
   "outputs": [
    {
     "data": {
      "image/png": "[encoded data removed]",
      "text/plain": [
       "<Figure size 576x360 with 1 Axes>"
      ]
     },
     "metadata": {
      "needs_background": "light"
     },
     "output_type": "display_data"
    }
   ],
   "source": [
    "# Weekend Type vs Revenue\n",
    "\n",
    "df = pd.crosstab(data['Region'], data['Revenue'])\n",
    "df.div(df.sum(1).astype(float), axis = 0).plot(kind = 'bar', stacked = True, figsize = (8, 5), color = ['lightblue', 'grey'])\n",
    "plt.title('Region vs Revenue', fontsize = 30)\n",
    "plt.show()"
   ]
  },
  {
   "cell_type": "code",
   "execution_count": 43,
   "metadata": {},
   "outputs": [
    {
     "data": {
      "image/png": "[encoded data removed]",
      "text/plain": [
       "<Figure size 576x360 with 1 Axes>"
      ]
     },
     "metadata": {
      "needs_background": "light"
     },
     "output_type": "display_data"
    }
   ],
   "source": [
    "df = pd.crosstab(data['Browser'], data['Revenue'])\n",
    "df.div(df.sum(1).astype(float), axis = 0).plot(kind = 'bar', stacked = True, figsize = (8, 5), color = ['lightblue', 'grey'])\n",
    "plt.title('Browser vs Revenue', fontsize = 30)\n",
    "plt.show()"
   ]
  },
  {
   "cell_type": "code",
   "execution_count": 44,
   "metadata": {},
   "outputs": [
    {
     "data": {
      "image/png": "[encoded data removed]",
      "text/plain": [
       "<Figure size 576x360 with 1 Axes>"
      ]
     },
     "metadata": {
      "needs_background": "light"
     },
     "output_type": "display_data"
    }
   ],
   "source": [
    "df = pd.crosstab(data['Month'], data['Revenue'])\n",
    "df.div(df.sum(1).astype(float), axis = 0).plot(kind = 'bar', stacked = True, figsize = (8, 5), color = ['lightblue', 'grey'])\n",
    "plt.title('Month vs Revenue', fontsize = 30)\n",
    "plt.show()"
   ]
  },
  {
   "cell_type": "code",
   "execution_count": 45,
   "metadata": {},
   "outputs": [
    {
     "data": {
      "text/plain": [
       "<matplotlib.axes._subplots.AxesSubplot at 0x23759e57eb8>"
      ]
     },
     "execution_count": 45,
     "metadata": {},
     "output_type": "execute_result"
    },
    {
     "data": {
      "image/png": "[encoded data removed]",
      "text/plain": [
       "<Figure size 432x288 with 1 Axes>"
      ]
     },
     "metadata": {
      "needs_background": "light"
     },
     "output_type": "display_data"
    }
   ],
   "source": [
    "sns.countplot(shopping['Month'],order=['May', 'Nov', 'Mar', 'Dec', 'Oct', 'Sep', 'Aug', 'Jul', 'June', 'Feb'])"
   ]
  },
  {
   "cell_type": "code",
   "execution_count": 46,
   "metadata": {},
   "outputs": [],
   "source": [
    "# In the month of  may users were more but trancation is less\n",
    "# Whereas In the month of November \n",
    "# In the month of the 'Oct', 'Sep', 'Aug' users are less "
   ]
  },
  {
   "cell_type": "code",
   "execution_count": 47,
   "metadata": {},
   "outputs": [],
   "source": [
    "#Analysis of the Numerical columns with the Target Variable (categorical variable)\n",
    "# We can use the boxplot or stripplot "
   ]
  },
  {
   "cell_type": "code",
   "execution_count": 48,
   "metadata": {},
   "outputs": [
    {
     "data": {
      "text/plain": [
       "<matplotlib.axes._subplots.AxesSubplot at 0x2375a094a58>"
      ]
     },
     "execution_count": 48,
     "metadata": {},
     "output_type": "execute_result"
    },
    {
     "data": {
      "image/png": "[encoded data removed]",
      "text/plain": [
       "<Figure size 1080x1080 with 6 Axes>"
      ]
     },
     "metadata": {
      "needs_background": "light"
     },
     "output_type": "display_data"
    }
   ],
   "source": [
    "plt.figure(figsize=(15,15))\n",
    "plt.subplot(3, 2, 1)\n",
    "sns.boxplot(x=\"Revenue\", y=\"Administrative\",data=shopping)\n",
    "plt.subplot(3, 2, 2)\n",
    "sns.boxplot(x=\"Revenue\", y=\"PageValues\",data=shopping)\n",
    "plt.subplot(3, 2, 3)\n",
    "sns.boxplot(x=\"Revenue\", y=\"Administrative_Duration\",data=shopping)\n",
    "\n",
    "plt.subplot(3, 2, 4)\n",
    "sns.boxplot(x=\"Revenue\", y=\"ProductRelated_Duration\",data=shopping)\n",
    "\n",
    "plt.subplot(3, 2, 5)\n",
    "sns.boxplot(x=\"Revenue\", y=\"ExitRates\",data=shopping)\n",
    "\n",
    "plt.subplot(3, 2, 6)\n",
    "sns.boxplot(x=\"Revenue\", y=\"BounceRates\",data=shopping)\n"
   ]
  },
  {
   "cell_type": "raw",
   "metadata": {},
   "source": [
    "Obaservations:\n",
    "from PageValue VS Revenue\n",
    "Page value is more than there is more chance of revenue will be true.\n",
    "from Exitrate VS Revenue\n",
    "If Exit rate is less there is more chance that user will do transcation. \n",
    "# But there are some outliers as well"
   ]
  },
  {
   "cell_type": "code",
   "execution_count": 49,
   "metadata": {},
   "outputs": [
    {
     "data": {
      "image/png": "[encoded data removed]",
      "text/plain": [
       "<Figure size 1296x504 with 2 Axes>"
      ]
     },
     "metadata": {
      "needs_background": "light"
     },
     "output_type": "display_data"
    }
   ],
   "source": [
    "# page values vs revenue\n",
    "\n",
    "plt.rcParams['figure.figsize'] = (18, 7)\n",
    "\n",
    "plt.subplot(1, 2, 1)\n",
    "sns.stripplot(data['Revenue'], data['PageValues'], palette = 'autumn')\n",
    "plt.title('PageValues vs Revenue', fontsize = 30)\n",
    "plt.xlabel('PageValues', fontsize = 15)\n",
    "plt.ylabel('Revenue', fontsize = 15)\n",
    "\n",
    "# bounce rates vs revenue\n",
    "plt.subplot(1, 2, 2)\n",
    "sns.stripplot(data['Revenue'], data['BounceRates'], palette = 'magma')\n",
    "plt.title('Bounce Rates vs Revenue', fontsize = 30)\n",
    "plt.xlabel('Boune Rates', fontsize = 15)\n",
    "plt.ylabel('Revenue', fontsize = 15)\n",
    "\n",
    "plt.show()"
   ]
  },
  {
   "cell_type": "code",
   "execution_count": 50,
   "metadata": {},
   "outputs": [],
   "source": [
    "# for two Numerical Variables-ScatterPlot"
   ]
  },
  {
   "cell_type": "code",
   "execution_count": 51,
   "metadata": {},
   "outputs": [
    {
     "data": {
      "text/plain": [
       "['Administrative',\n",
       " 'Informational',\n",
       " 'Administrative_Duration',\n",
       " 'Informational_Duration',\n",
       " 'ProductRelated',\n",
       " 'ProductRelated_Duration',\n",
       " 'BounceRates',\n",
       " 'ExitRates',\n",
       " 'PageValues',\n",
       " 'TrafficType']"
      ]
     },
     "execution_count": 51,
     "metadata": {},
     "output_type": "execute_result"
    }
   ],
   "source": [
    "Numerical_features"
   ]
  },
  {
   "cell_type": "code",
   "execution_count": 52,
   "metadata": {},
   "outputs": [
    {
     "data": {
      "text/plain": [
       "<matplotlib.axes._subplots.AxesSubplot at 0x2375a1185c0>"
      ]
     },
     "execution_count": 52,
     "metadata": {},
     "output_type": "execute_result"
    },
    {
     "data": {
      "image/png": "[encoded data removed]",
      "text/plain": [
       "<Figure size 1296x504 with 1 Axes>"
      ]
     },
     "metadata": {
      "needs_background": "light"
     },
     "output_type": "display_data"
    }
   ],
   "source": [
    "sns.scatterplot(data['ProductRelated_Duration'],data['BounceRates'])"
   ]
  },
  {
   "cell_type": "code",
   "execution_count": 53,
   "metadata": {},
   "outputs": [
    {
     "data": {
      "text/plain": [
       "<matplotlib.axes._subplots.AxesSubplot at 0x23759e79e10>"
      ]
     },
     "execution_count": 53,
     "metadata": {},
     "output_type": "execute_result"
    },
    {
     "data": {
      "image/png": "[encoded data removed]",
      "text/plain": [
       "<Figure size 1296x504 with 1 Axes>"
      ]
     },
     "metadata": {
      "needs_background": "light"
     },
     "output_type": "display_data"
    }
   ],
   "source": [
    "sns.scatterplot(data['Informational_Duration'],data['BounceRates'])"
   ]
  },
  {
   "cell_type": "code",
   "execution_count": 54,
   "metadata": {},
   "outputs": [],
   "source": [
    "# Clustering Analysis"
   ]
  },
  {
   "cell_type": "raw",
   "metadata": {},
   "source": [
    "# Q1: Time Spent by The Users on Website vs Bounce Rates\n",
    "\n",
    "'''\n",
    "Bounce Rate :The percentage of visitors to a particular website who navigate away from the site after \n",
    "viewing only one page.\n",
    "'''\n",
    "# let's cluster Administrative duration and Bounce Ratw to different types of clusters in the dataset.\n",
    "# preparing the dataset"
   ]
  },
  {
   "cell_type": "code",
   "execution_count": 55,
   "metadata": {},
   "outputs": [
    {
     "data": {
      "image/png": "[encoded data removed]",
      "text/plain": [
       "<Figure size 1080x504 with 1 Axes>"
      ]
     },
     "metadata": {
      "needs_background": "light"
     },
     "output_type": "display_data"
    }
   ],
   "source": [
    "x=shopping.iloc[:, [3,6]].values\n",
    "from sklearn.cluster import KMeans\n",
    "\n",
    "error = []\n",
    "for i in range(1, 11):\n",
    "    km = KMeans(n_clusters = i,\n",
    "              init = 'k-means++',\n",
    "              max_iter = 300,\n",
    "              n_init = 10,\n",
    "              random_state = 0,\n",
    "              algorithm = 'elkan',\n",
    "              tol = 0.001)\n",
    "    km.fit(x)\n",
    "    labels = km.labels_\n",
    "    error.append(km.inertia_)\n",
    "    \n",
    "plt.rcParams['figure.figsize'] = (15, 7)\n",
    "plt.plot(range(1, 11), error)\n",
    "plt.grid()\n",
    "plt.tight_layout()\n",
    "plt.title('The Elbow Method', fontsize = 20)\n",
    "plt.xlabel('No. of Clusters')\n",
    "plt.ylabel('error')\n",
    "plt.show()"
   ]
  },
  {
   "cell_type": "code",
   "execution_count": 56,
   "metadata": {},
   "outputs": [
    {
     "data": {
      "image/png": "[encoded data removed]",
      "text/plain": [
       "<Figure size 1080x504 with 1 Axes>"
      ]
     },
     "metadata": {
      "needs_background": "light"
     },
     "output_type": "display_data"
    }
   ],
   "source": [
    "km = KMeans(n_clusters = 4, init = 'k-means++', max_iter = 300, n_init = 10, random_state = 0)\n",
    "y_means = km.fit_predict(x)\n",
    "\n",
    "plt.scatter(x[y_means == 0, 0], x[y_means == 0, 1], s = 100, c = 'pink', label = 'Un-interested Customers')\n",
    "plt.scatter(x[y_means == 1, 0], x[y_means == 1, 1], s = 100, c = 'yellow', label = 'General Customers')\n",
    "plt.scatter(x[y_means == 2, 0], x[y_means == 2, 1], s = 100, c = 'cyan', label = 'Target Customers')\n",
    "plt.scatter(km.cluster_centers_[:,0], km.cluster_centers_[:, 1], s = 50, c = 'blue' , label = 'centeroid')\n",
    "\n",
    "plt.title('Administrative Duration vs Bounce Rate', fontsize = 20)\n",
    "plt.grid()\n",
    "plt.xlabel('Administrative Duration')\n",
    "plt.ylabel('Bounce Rates')\n",
    "plt.legend()\n",
    "plt.show()"
   ]
  },
  {
   "cell_type": "markdown",
   "metadata": {},
   "source": [
    "#### By, Looking at this Clustering plot, we can say confindently say that the customers who spent a longer administrative duration in a website are very less likely to bounce from the website that is navigating away from the website just after navigating one page of that website.\n"
   ]
  },
  {
   "cell_type": "markdown",
   "metadata": {},
   "source": [
    "### There are Three Groups, The Pink Group is a group of customers who stay for shortest adminstrative duration and have highest chance for Navigating away from a website"
   ]
  },
  {
   "cell_type": "code",
   "execution_count": 57,
   "metadata": {},
   "outputs": [],
   "source": [
    "col_list=['Administrative', 'Informational','Administrative_Duration',\n",
    "       'Informational_Duration', 'ProductRelated', 'ProductRelated_Duration',\n",
    "       'BounceRates', 'ExitRates', 'PageValues', 'TrafficType','Revenue']"
   ]
  },
  {
   "cell_type": "code",
   "execution_count": 58,
   "metadata": {},
   "outputs": [
    {
     "data": {
      "image/png": "[encoded data removed]",
      "text/plain": [
       "<Figure size 1080x720 with 2 Axes>"
      ]
     },
     "metadata": {
      "needs_background": "light"
     },
     "output_type": "display_data"
    }
   ],
   "source": [
    "\n",
    "# for the numerical\n",
    "plt.figure(figsize=(15,10))\n",
    "p=sns.heatmap(shopping[col_list].corr(), annot=True,cmap='RdYlGn',square=True)"
   ]
  },
  {
   "cell_type": "raw",
   "metadata": {},
   "source": [
    "correlation can varies from -1 to +1.\n",
    "if correlation is close to +1 indicate that this feature is positively correlated with target variable.\n",
    "if correlation is close to -1 indicate that this feature is negatively correlated with target variable."
   ]
  },
  {
   "cell_type": "raw",
   "metadata": {},
   "source": [
    "#Significant columns\n",
    "Which are highly correlated with the Revenue(target)\n",
    "['PageValue']\n",
    "# Redudant columns\n",
    "Which are highly correlated with the Independent variable\n",
    "'ProductRelated' and 'ProductRelated_Duration'\n",
    "'BounceRates' and  'ExitRates'\n",
    "'Administrative' and 'Administrative_Duration',\n",
    "'Informational' and 'Informational_Duration'"
   ]
  },
  {
   "cell_type": "code",
   "execution_count": 59,
   "metadata": {},
   "outputs": [],
   "source": [
    "# We will do statistical test to check which one feature is significant for the target variable"
   ]
  },
  {
   "cell_type": "markdown",
   "metadata": {},
   "source": [
    "# Data Preprocessing"
   ]
  },
  {
   "cell_type": "code",
   "execution_count": 60,
   "metadata": {},
   "outputs": [
    {
     "name": "stdout",
     "output_type": "stream",
     "text": [
      "<class 'pandas.core.frame.DataFrame'>\n",
      "RangeIndex: 12330 entries, 0 to 12329\n",
      "Data columns (total 18 columns):\n",
      "Administrative             12330 non-null int64\n",
      "Administrative_Duration    12330 non-null float64\n",
      "Informational              12330 non-null int64\n",
      "Informational_Duration     12330 non-null float64\n",
      "ProductRelated             12330 non-null int64\n",
      "ProductRelated_Duration    12330 non-null float64\n",
      "BounceRates                12330 non-null float64\n",
      "ExitRates                  12330 non-null float64\n",
      "PageValues                 12330 non-null float64\n",
      "SpecialDay                 12330 non-null float64\n",
      "Month                      12330 non-null object\n",
      "OperatingSystems           12330 non-null int64\n",
      "Browser                    12330 non-null int64\n",
      "Region                     12330 non-null int64\n",
      "TrafficType                12330 non-null int64\n",
      "VisitorType                12330 non-null object\n",
      "Weekend                    12330 non-null bool\n",
      "Revenue                    12330 non-null bool\n",
      "dtypes: bool(2), float64(7), int64(7), object(2)\n",
      "memory usage: 1.5+ MB\n"
     ]
    }
   ],
   "source": [
    "shopping.info()"
   ]
  },
  {
   "cell_type": "code",
   "execution_count": 61,
   "metadata": {},
   "outputs": [
    {
     "data": {
      "text/plain": [
       "Index(['Administrative', 'Administrative_Duration', 'Informational',\n",
       "       'Informational_Duration', 'ProductRelated', 'ProductRelated_Duration',\n",
       "       'BounceRates', 'ExitRates', 'PageValues', 'SpecialDay',\n",
       "       'OperatingSystems', 'Browser', 'Region', 'TrafficType', 'Weekend',\n",
       "       'Revenue', 'Month_Aug', 'Month_Dec', 'Month_Feb', 'Month_Jul',\n",
       "       'Month_June', 'Month_Mar', 'Month_May', 'Month_Nov', 'Month_Oct',\n",
       "       'Month_Sep', 'VisitorType_New_Visitor', 'VisitorType_Other',\n",
       "       'VisitorType_Returning_Visitor'],\n",
       "      dtype='object')"
      ]
     },
     "execution_count": 61,
     "metadata": {},
     "output_type": "execute_result"
    }
   ],
   "source": [
    " #one hot encoding \n",
    "dummies_data = pd.get_dummies(shopping)\n",
    "# check the columns \n",
    "dummies_data.columns"
   ]
  },
  {
   "cell_type": "code",
   "execution_count": 62,
   "metadata": {},
   "outputs": [
    {
     "data": {
      "text/plain": [
       "0    10422\n",
       "1     1908\n",
       "Name: Revenue, dtype: int64"
      ]
     },
     "execution_count": 62,
     "metadata": {},
     "output_type": "execute_result"
    }
   ],
   "source": [
    "# label encoding of revenue\n",
    "\n",
    "from sklearn.preprocessing import LabelEncoder\n",
    "\n",
    "le = LabelEncoder()\n",
    "dummies_data['Revenue'] = le.fit_transform(dummies_data['Revenue'])\n",
    "# check the Revenue column\n",
    "dummies_data['Revenue'].value_counts()"
   ]
  },
  {
   "cell_type": "markdown",
   "metadata": {},
   "source": [
    "# 3. Dataset splitting"
   ]
  },
  {
   "cell_type": "code",
   "execution_count": 63,
   "metadata": {},
   "outputs": [
    {
     "name": "stdout",
     "output_type": "stream",
     "text": [
      "Shape of x: (12330, 28)\n",
      "Shape of y: (12330,)\n"
     ]
    }
   ],
   "source": [
    "# getting dependent and independent variables\n",
    "\n",
    "x = dummies_data\n",
    "# removing the target column revenue from x\n",
    "x = x.drop(['Revenue'], axis = 1)\n",
    "\n",
    "y = dummies_data['Revenue']\n",
    "\n",
    "# checking the shapes\n",
    "print(\"Shape of x:\", x.shape)\n",
    "print(\"Shape of y:\", y.shape)"
   ]
  },
  {
   "cell_type": "code",
   "execution_count": 64,
   "metadata": {},
   "outputs": [
    {
     "name": "stdout",
     "output_type": "stream",
     "text": [
      "Shape of x_train : (8631, 28)\n",
      "Shape of y_train : (8631,)\n",
      "Shape of x_test : (3699, 28)\n",
      "Shape of y_test : (3699,)\n"
     ]
    }
   ],
   "source": [
    "# splitting the data\n",
    "\n",
    "from sklearn.model_selection import train_test_split\n",
    "\n",
    "x_train, x_test, y_train, y_test = train_test_split(x, y, test_size = 0.3, random_state = 0)\n",
    "\n",
    "# checking the shapes\n",
    "\n",
    "print(\"Shape of x_train :\", x_train.shape)\n",
    "print(\"Shape of y_train :\", y_train.shape)\n",
    "print(\"Shape of x_test :\", x_test.shape)\n",
    "print(\"Shape of y_test :\", y_test.shape)"
   ]
  },
  {
   "cell_type": "markdown",
   "metadata": {},
   "source": [
    "# 4. Modeling"
   ]
  },
  {
   "cell_type": "code",
   "execution_count": 65,
   "metadata": {},
   "outputs": [],
   "source": [
    "# This is a classification problem because we need to predict the class labels for the revenue.\n",
    "# It is binary classification problem because there are two labels in we need to predict."
   ]
  },
  {
   "cell_type": "code",
   "execution_count": 66,
   "metadata": {},
   "outputs": [
    {
     "name": "stdout",
     "output_type": "stream",
     "text": [
      "Training Accuracy : 0.8879619974510485\n",
      "Testing Accuracy : 0.8753717220870506\n",
      "              precision    recall  f1-score   support\n",
      "\n",
      "           0       0.89      0.98      0.93      3077\n",
      "           1       0.76      0.38      0.50       622\n",
      "\n",
      "    accuracy                           0.88      3699\n",
      "   macro avg       0.82      0.68      0.72      3699\n",
      "weighted avg       0.86      0.88      0.86      3699\n",
      "\n"
     ]
    }
   ],
   "source": [
    "from sklearn.linear_model import LogisticRegression\n",
    "from sklearn.metrics import confusion_matrix\n",
    "from sklearn.metrics import classification_report\n",
    "\n",
    "model = LogisticRegression()\n",
    "model.fit(x_train, y_train)\n",
    "\n",
    "y_pred = model.predict(x_test)\n",
    "\n",
    "# evaluating the model\n",
    "print(\"Training Accuracy :\", model.score(x_train, y_train))\n",
    "print(\"Testing Accuracy :\", model.score(x_test, y_test))\n",
    "\n",
    "\n",
    "\n",
    "# classification report\n",
    "cr = classification_report(y_test, y_pred)\n",
    "print(cr)"
   ]
  },
  {
   "cell_type": "code",
   "execution_count": 67,
   "metadata": {},
   "outputs": [
    {
     "data": {
      "text/plain": [
       "0.4426181443060392"
      ]
     },
     "execution_count": 67,
     "metadata": {},
     "output_type": "execute_result"
    }
   ],
   "source": [
    "from sklearn.metrics import cohen_kappa_score\n",
    "# cohen kappa show the predictive power of the model\n",
    "cohen_kappa_score(y_test, y_pred)"
   ]
  },
  {
   "cell_type": "code",
   "execution_count": 68,
   "metadata": {},
   "outputs": [],
   "source": [
    "# accuracy is good but model is not able to recall the true category\n",
    "# predictive power of the model is not good because cohhen kappa is not good\n",
    "# we need to balance the data"
   ]
  },
  {
   "cell_type": "code",
   "execution_count": 69,
   "metadata": {},
   "outputs": [
    {
     "name": "stdout",
     "output_type": "stream",
     "text": [
      "Training Accuracy : 0.991773838489167\n",
      "Testing Accuracy : 0.8886185455528521\n",
      "              precision    recall  f1-score   support\n",
      "\n",
      "           0       0.91      0.97      0.94      3077\n",
      "           1       0.75      0.50      0.60       622\n",
      "\n",
      "    accuracy                           0.89      3699\n",
      "   macro avg       0.83      0.74      0.77      3699\n",
      "weighted avg       0.88      0.89      0.88      3699\n",
      "\n"
     ]
    }
   ],
   "source": [
    "# MODELLING\n",
    "\n",
    "from sklearn.ensemble import RandomForestClassifier\n",
    "from sklearn.metrics import confusion_matrix\n",
    "from sklearn.metrics import classification_report\n",
    "\n",
    "model = RandomForestClassifier()\n",
    "model.fit(x_train, y_train)\n",
    "\n",
    "y_pred = model.predict(x_test)\n",
    "\n",
    "# evaluating the model\n",
    "print(\"Training Accuracy :\", model.score(x_train, y_train))\n",
    "print(\"Testing Accuracy :\", model.score(x_test, y_test))\n",
    "\n",
    "\n",
    "\n",
    "# classification report\n",
    "cr = classification_report(y_test, y_pred)\n",
    "print(cr)"
   ]
  },
  {
   "cell_type": "markdown",
   "metadata": {},
   "source": [
    "### Issues in the model"
   ]
  },
  {
   "cell_type": "raw",
   "metadata": {},
   "source": [
    "This is an overfitted model \n",
    "There are many ways to deal with the overfitted model\n",
    "1. Improve the Quality of the data\n",
    "2. Use an algo which is not high in Variance.\n",
    " We have used Random Forest Classifier which is high in variance that is why it is an overfitted model.\n",
    "3. Hyperparametric tuning: We can increase the penality  "
   ]
  },
  {
   "cell_type": "raw",
   "metadata": {},
   "source": [
    "Data is Imbalanced\n",
    "We have to balance the data otherwise it will be baised to the False Category.\n",
    "Solution:\n",
    "    We will use SMOTE."
   ]
  },
  {
   "cell_type": "markdown",
   "metadata": {},
   "source": [
    "# Statistical Tests "
   ]
  },
  {
   "cell_type": "raw",
   "metadata": {},
   "source": [
    "To find the significant variables we will do statistical tests:\n",
    "Becuase target variable is Categorical, So we will use two Statistical tests to check the association between Independent\n",
    "Variables and Dependent Variable:\n",
    "\n",
    "1.T-Test\n",
    "2.Chi-Square Test"
   ]
  },
  {
   "cell_type": "code",
   "execution_count": 70,
   "metadata": {},
   "outputs": [
    {
     "data": {
      "text/html": [
       "<div>\n",
       "<style scoped>\n",
       "    .dataframe tbody tr th:only-of-type {\n",
       "        vertical-align: middle;\n",
       "    }\n",
       "\n",
       "    .dataframe tbody tr th {\n",
       "        vertical-align: top;\n",
       "    }\n",
       "\n",
       "    .dataframe thead th {\n",
       "        text-align: right;\n",
       "    }\n",
       "</style>\n",
       "<table border=\"1\" class=\"dataframe\">\n",
       "  <thead>\n",
       "    <tr style=\"text-align: right;\">\n",
       "      <th></th>\n",
       "      <th>Administrative</th>\n",
       "      <th>Administrative_Duration</th>\n",
       "      <th>Informational</th>\n",
       "      <th>Informational_Duration</th>\n",
       "      <th>ProductRelated</th>\n",
       "      <th>ProductRelated_Duration</th>\n",
       "      <th>BounceRates</th>\n",
       "      <th>ExitRates</th>\n",
       "      <th>PageValues</th>\n",
       "      <th>SpecialDay</th>\n",
       "      <th>Month</th>\n",
       "      <th>OperatingSystems</th>\n",
       "      <th>Browser</th>\n",
       "      <th>Region</th>\n",
       "      <th>TrafficType</th>\n",
       "      <th>VisitorType</th>\n",
       "      <th>Weekend</th>\n",
       "      <th>Revenue</th>\n",
       "    </tr>\n",
       "  </thead>\n",
       "  <tbody>\n",
       "    <tr>\n",
       "      <th>0</th>\n",
       "      <td>0</td>\n",
       "      <td>0.0</td>\n",
       "      <td>0</td>\n",
       "      <td>0.0</td>\n",
       "      <td>1</td>\n",
       "      <td>0.000000</td>\n",
       "      <td>0.20</td>\n",
       "      <td>0.20</td>\n",
       "      <td>0.0</td>\n",
       "      <td>0.0</td>\n",
       "      <td>Feb</td>\n",
       "      <td>1</td>\n",
       "      <td>1</td>\n",
       "      <td>1</td>\n",
       "      <td>1</td>\n",
       "      <td>Returning_Visitor</td>\n",
       "      <td>False</td>\n",
       "      <td>False</td>\n",
       "    </tr>\n",
       "    <tr>\n",
       "      <th>1</th>\n",
       "      <td>0</td>\n",
       "      <td>0.0</td>\n",
       "      <td>0</td>\n",
       "      <td>0.0</td>\n",
       "      <td>2</td>\n",
       "      <td>64.000000</td>\n",
       "      <td>0.00</td>\n",
       "      <td>0.10</td>\n",
       "      <td>0.0</td>\n",
       "      <td>0.0</td>\n",
       "      <td>Feb</td>\n",
       "      <td>2</td>\n",
       "      <td>2</td>\n",
       "      <td>1</td>\n",
       "      <td>2</td>\n",
       "      <td>Returning_Visitor</td>\n",
       "      <td>False</td>\n",
       "      <td>False</td>\n",
       "    </tr>\n",
       "    <tr>\n",
       "      <th>2</th>\n",
       "      <td>0</td>\n",
       "      <td>0.0</td>\n",
       "      <td>0</td>\n",
       "      <td>0.0</td>\n",
       "      <td>1</td>\n",
       "      <td>0.000000</td>\n",
       "      <td>0.20</td>\n",
       "      <td>0.20</td>\n",
       "      <td>0.0</td>\n",
       "      <td>0.0</td>\n",
       "      <td>Feb</td>\n",
       "      <td>4</td>\n",
       "      <td>1</td>\n",
       "      <td>9</td>\n",
       "      <td>3</td>\n",
       "      <td>Returning_Visitor</td>\n",
       "      <td>False</td>\n",
       "      <td>False</td>\n",
       "    </tr>\n",
       "    <tr>\n",
       "      <th>3</th>\n",
       "      <td>0</td>\n",
       "      <td>0.0</td>\n",
       "      <td>0</td>\n",
       "      <td>0.0</td>\n",
       "      <td>2</td>\n",
       "      <td>2.666667</td>\n",
       "      <td>0.05</td>\n",
       "      <td>0.14</td>\n",
       "      <td>0.0</td>\n",
       "      <td>0.0</td>\n",
       "      <td>Feb</td>\n",
       "      <td>3</td>\n",
       "      <td>2</td>\n",
       "      <td>2</td>\n",
       "      <td>4</td>\n",
       "      <td>Returning_Visitor</td>\n",
       "      <td>False</td>\n",
       "      <td>False</td>\n",
       "    </tr>\n",
       "    <tr>\n",
       "      <th>4</th>\n",
       "      <td>0</td>\n",
       "      <td>0.0</td>\n",
       "      <td>0</td>\n",
       "      <td>0.0</td>\n",
       "      <td>10</td>\n",
       "      <td>627.500000</td>\n",
       "      <td>0.02</td>\n",
       "      <td>0.05</td>\n",
       "      <td>0.0</td>\n",
       "      <td>0.0</td>\n",
       "      <td>Feb</td>\n",
       "      <td>3</td>\n",
       "      <td>3</td>\n",
       "      <td>1</td>\n",
       "      <td>4</td>\n",
       "      <td>Returning_Visitor</td>\n",
       "      <td>True</td>\n",
       "      <td>False</td>\n",
       "    </tr>\n",
       "  </tbody>\n",
       "</table>\n",
       "</div>"
      ],
      "text/plain": [
       "   Administrative  Administrative_Duration  Informational  \\\n",
       "0               0                      0.0              0   \n",
       "1               0                      0.0              0   \n",
       "2               0                      0.0              0   \n",
       "3               0                      0.0              0   \n",
       "4               0                      0.0              0   \n",
       "\n",
       "   Informational_Duration  ProductRelated  ProductRelated_Duration  \\\n",
       "0                     0.0               1                 0.000000   \n",
       "1                     0.0               2                64.000000   \n",
       "2                     0.0               1                 0.000000   \n",
       "3                     0.0               2                 2.666667   \n",
       "4                     0.0              10               627.500000   \n",
       "\n",
       "   BounceRates  ExitRates  PageValues  SpecialDay Month  OperatingSystems  \\\n",
       "0         0.20       0.20         0.0         0.0   Feb                 1   \n",
       "1         0.00       0.10         0.0         0.0   Feb                 2   \n",
       "2         0.20       0.20         0.0         0.0   Feb                 4   \n",
       "3         0.05       0.14         0.0         0.0   Feb                 3   \n",
       "4         0.02       0.05         0.0         0.0   Feb                 3   \n",
       "\n",
       "   Browser  Region  TrafficType        VisitorType  Weekend  Revenue  \n",
       "0        1       1            1  Returning_Visitor    False    False  \n",
       "1        2       1            2  Returning_Visitor    False    False  \n",
       "2        1       9            3  Returning_Visitor    False    False  \n",
       "3        2       2            4  Returning_Visitor    False    False  \n",
       "4        3       1            4  Returning_Visitor     True    False  "
      ]
     },
     "execution_count": 70,
     "metadata": {},
     "output_type": "execute_result"
    }
   ],
   "source": [
    "df = shopping.copy()\n",
    "df.head()"
   ]
  },
  {
   "cell_type": "raw",
   "metadata": {},
   "source": [
    "Checking normality of output variable"
   ]
  },
  {
   "cell_type": "code",
   "execution_count": 71,
   "metadata": {},
   "outputs": [
    {
     "data": {
      "text/plain": [
       "<matplotlib.axes._subplots.AxesSubplot at 0x2375c782550>"
      ]
     },
     "execution_count": 71,
     "metadata": {},
     "output_type": "execute_result"
    },
    {
     "data": {
      "image/png": "[encoded data removed]",
      "text/plain": [
       "<Figure size 1080x504 with 1 Axes>"
      ]
     },
     "metadata": {
      "needs_background": "light"
     },
     "output_type": "display_data"
    }
   ],
   "source": [
    "df['Revenue'] = df['Revenue'].replace({False: 'False', True: 'True'})\n",
    "df['Revenue'] = df['Revenue'].replace({\"False\": 0, \"True\": 1})\n",
    "df['Revenue'] = df['Revenue'].astype(int)\n",
    "sns.distplot(df['Revenue'])"
   ]
  },
  {
   "cell_type": "raw",
   "metadata": {},
   "source": [
    "Inference -\n",
    "From the above plot we can see that output variable is not normally distributed. We will do statistical test\n",
    "of shapiro to test normality\n",
    "Moreover the output variable has imbalance data so we need to do SMOTE technique to reduce imbalancing of data\n"
   ]
  },
  {
   "cell_type": "code",
   "execution_count": 72,
   "metadata": {},
   "outputs": [],
   "source": [
    "from scipy.stats import shapiro, f_oneway, ttest_ind, chi2_contingency"
   ]
  },
  {
   "cell_type": "raw",
   "metadata": {},
   "source": [
    "Ho : Data is normally distributed\n",
    "Ha : Data is not normally distributed\n",
    "We will check at 5% significance level"
   ]
  },
  {
   "cell_type": "code",
   "execution_count": 73,
   "metadata": {},
   "outputs": [
    {
     "data": {
      "text/plain": [
       "(0.4331520199775696, 0.0)"
      ]
     },
     "execution_count": 73,
     "metadata": {},
     "output_type": "execute_result"
    }
   ],
   "source": [
    "shapiro(df['Revenue'])"
   ]
  },
  {
   "cell_type": "raw",
   "metadata": {},
   "source": [
    "since our alpha(0.05) value is greater than our p-value we will reject Ho saying that data is not normally distributed\n",
    "Hence our statistical test proves the same. i.e output variable is not normally distributed."
   ]
  },
  {
   "cell_type": "markdown",
   "metadata": {},
   "source": [
    "---------"
   ]
  },
  {
   "cell_type": "raw",
   "metadata": {},
   "source": [
    "By using one-way Anova- \n",
    "The one-way ANOVA is used to determine whether there are any statistically significant differences between the means of two or more independent (unrelated) groups "
   ]
  },
  {
   "cell_type": "raw",
   "metadata": {},
   "source": [
    "Now we will check Whether VisitorType variable is significantly same or different with average of ExitRates, BounceRates and \n",
    "PageValues\n",
    "\n",
    "Ho : There is no significant difference\n",
    "Ha : There is significant difference\n",
    "We will take alpha at 0.05%"
   ]
  },
  {
   "cell_type": "code",
   "execution_count": 74,
   "metadata": {},
   "outputs": [],
   "source": [
    "ri = df[df['VisitorType'] == 'Returning_Visitor']['ExitRates']\n",
    "rt = df[df['VisitorType'] == 'New_Visitor']['ExitRates']\n",
    "rc = df[df['VisitorType'] == 'Other']['ExitRates']"
   ]
  },
  {
   "cell_type": "code",
   "execution_count": 75,
   "metadata": {},
   "outputs": [
    {
     "data": {
      "text/plain": [
       "F_onewayResult(statistic=221.166709631569, pvalue=4.282460054622956e-95)"
      ]
     },
     "execution_count": 75,
     "metadata": {},
     "output_type": "execute_result"
    }
   ],
   "source": [
    "f_oneway(ri, rt, rc)"
   ]
  },
  {
   "cell_type": "raw",
   "metadata": {},
   "source": [
    "since our alpha value (0.05) is greater than p-value thus we reject our Null Hypothesis saying that there is significant \n",
    "difference between the average ExitRates of VisitorType\n",
    "Since we fail to reject Null Hypothesis, we will use post-hoc analysis to check which groups differ"
   ]
  },
  {
   "cell_type": "code",
   "execution_count": 76,
   "metadata": {},
   "outputs": [],
   "source": [
    "from statsmodels.stats.multicomp import pairwise_tukeyhsd"
   ]
  },
  {
   "cell_type": "code",
   "execution_count": 77,
   "metadata": {},
   "outputs": [
    {
     "data": {
      "text/html": [
       "<table class=\"simpletable\">\n",
       "<caption>Multiple Comparison of Means - Tukey HSD, FWER=0.05</caption>\n",
       "<tr>\n",
       "    <th>group1</th>         <th>group2</th>       <th>meandiff</th>  <th>p-adj</th>  <th>lower</th>  <th>upper</th>  <th>reject</th>\n",
       "</tr>\n",
       "<tr>\n",
       "  <td>New_Visitor</td>       <td>Other</td>        <td>0.0427</td>   <td>0.001</td> <td>0.0302</td> <td>0.0551</td>   <td>True</td> \n",
       "</tr>\n",
       "<tr>\n",
       "  <td>New_Visitor</td> <td>Returning_Visitor</td>  <td>0.0258</td>   <td>0.001</td> <td>0.0229</td> <td>0.0288</td>   <td>True</td> \n",
       "</tr>\n",
       "<tr>\n",
       "     <td>Other</td>    <td>Returning_Visitor</td>  <td>-0.0168</td> <td>0.0034</td> <td>-0.029</td> <td>-0.0047</td>  <td>True</td> \n",
       "</tr>\n",
       "</table>"
      ],
      "text/plain": [
       "<class 'statsmodels.iolib.table.SimpleTable'>"
      ]
     },
     "execution_count": 77,
     "metadata": {},
     "output_type": "execute_result"
    }
   ],
   "source": [
    "pairwise_tukeyhsd(df['ExitRates'], df['VisitorType'], alpha = 0.05).summary()"
   ]
  },
  {
   "cell_type": "raw",
   "metadata": {},
   "source": [
    "Hence all the groups differ from each other"
   ]
  },
  {
   "cell_type": "markdown",
   "metadata": {},
   "source": [
    "----"
   ]
  },
  {
   "cell_type": "code",
   "execution_count": 78,
   "metadata": {},
   "outputs": [],
   "source": [
    "ri = df[df['VisitorType'] == 'Returning_Visitor']['BounceRates']\n",
    "rt = df[df['VisitorType'] == 'New_Visitor']['BounceRates']\n",
    "rc = df[df['VisitorType'] == 'Other']['BounceRates']"
   ]
  },
  {
   "cell_type": "code",
   "execution_count": 79,
   "metadata": {},
   "outputs": [
    {
     "data": {
      "text/plain": [
       "F_onewayResult(statistic=125.59707533017409, pvalue=1.0050903309806886e-54)"
      ]
     },
     "execution_count": 79,
     "metadata": {},
     "output_type": "execute_result"
    }
   ],
   "source": [
    "f_oneway(ri, rt, rc)"
   ]
  },
  {
   "cell_type": "raw",
   "metadata": {},
   "source": [
    "since our alpha value (0.05) is greater than p-value thus we reject our Null Hypothesis saying that there is significant \n",
    "difference between the average BounceRates of VisitorType\n",
    "Since we fail to reject Null Hypothesis, we will use post-hoc analysis to check which groups differ"
   ]
  },
  {
   "cell_type": "code",
   "execution_count": 80,
   "metadata": {},
   "outputs": [
    {
     "data": {
      "text/html": [
       "<table class=\"simpletable\">\n",
       "<caption>Multiple Comparison of Means - Tukey HSD, FWER=0.05</caption>\n",
       "<tr>\n",
       "    <th>group1</th>         <th>group2</th>       <th>meandiff</th>  <th>p-adj</th>  <th>lower</th>  <th>upper</th>  <th>reject</th>\n",
       "</tr>\n",
       "<tr>\n",
       "  <td>New_Visitor</td>       <td>Other</td>        <td>0.0333</td>   <td>0.001</td> <td>0.0208</td> <td>0.0458</td>   <td>True</td> \n",
       "</tr>\n",
       "<tr>\n",
       "  <td>New_Visitor</td> <td>Returning_Visitor</td>  <td>0.0195</td>   <td>0.001</td> <td>0.0166</td> <td>0.0225</td>   <td>True</td> \n",
       "</tr>\n",
       "<tr>\n",
       "     <td>Other</td>    <td>Returning_Visitor</td>  <td>-0.0138</td> <td>0.0229</td> <td>-0.026</td> <td>-0.0015</td>  <td>True</td> \n",
       "</tr>\n",
       "</table>"
      ],
      "text/plain": [
       "<class 'statsmodels.iolib.table.SimpleTable'>"
      ]
     },
     "execution_count": 80,
     "metadata": {},
     "output_type": "execute_result"
    }
   ],
   "source": [
    "pairwise_tukeyhsd(df['BounceRates'], df['VisitorType'], alpha = 0.05).summary()"
   ]
  },
  {
   "cell_type": "raw",
   "metadata": {},
   "source": [
    "From the above observation, we conclude that all the groups differ from each other"
   ]
  },
  {
   "cell_type": "markdown",
   "metadata": {},
   "source": [
    "-------"
   ]
  },
  {
   "cell_type": "code",
   "execution_count": 81,
   "metadata": {},
   "outputs": [],
   "source": [
    "ri = df[df['VisitorType'] == 'Returning_Visitor']['PageValues']\n",
    "rt = df[df['VisitorType'] == 'New_Visitor']['PageValues']\n",
    "rc = df[df['VisitorType'] == 'Other']['PageValues']"
   ]
  },
  {
   "cell_type": "code",
   "execution_count": 82,
   "metadata": {},
   "outputs": [
    {
     "data": {
      "text/plain": [
       "F_onewayResult(statistic=90.45482263934828, pvalue=1.0033303968830675e-39)"
      ]
     },
     "execution_count": 82,
     "metadata": {},
     "output_type": "execute_result"
    }
   ],
   "source": [
    "f_oneway(ri, rt, rc)"
   ]
  },
  {
   "cell_type": "raw",
   "metadata": {},
   "source": [
    "since our alpha value (0.05) is greater than p-value thus we reject our Null Hypothesis saying that there is significant \n",
    "difference between the average PageValues of VisitorType\n",
    "Since we fail to reject Null Hypothesis, we will use post-hoc analysis to check which groups differ"
   ]
  },
  {
   "cell_type": "code",
   "execution_count": 83,
   "metadata": {},
   "outputs": [
    {
     "data": {
      "text/html": [
       "<table class=\"simpletable\">\n",
       "<caption>Multiple Comparison of Means - Tukey HSD, FWER=0.05</caption>\n",
       "<tr>\n",
       "    <th>group1</th>         <th>group2</th>       <th>meandiff</th> <th>p-adj</th>   <th>lower</th>   <th>upper</th>  <th>reject</th>\n",
       "</tr>\n",
       "<tr>\n",
       "  <td>New_Visitor</td>       <td>Other</td>        <td>7.4196</td>  <td>0.001</td>  <td>2.6165</td>  <td>12.2228</td>  <td>True</td> \n",
       "</tr>\n",
       "<tr>\n",
       "  <td>New_Visitor</td> <td>Returning_Visitor</td>  <td>-5.766</td>  <td>0.001</td>  <td>-6.8971</td> <td>-4.635</td>   <td>True</td> \n",
       "</tr>\n",
       "<tr>\n",
       "     <td>Other</td>    <td>Returning_Visitor</td> <td>-13.1856</td> <td>0.001</td> <td>-17.8915</td> <td>-8.4798</td>  <td>True</td> \n",
       "</tr>\n",
       "</table>"
      ],
      "text/plain": [
       "<class 'statsmodels.iolib.table.SimpleTable'>"
      ]
     },
     "execution_count": 83,
     "metadata": {},
     "output_type": "execute_result"
    }
   ],
   "source": [
    "pairwise_tukeyhsd(df['PageValues'], df['VisitorType'], alpha = 0.05).summary()"
   ]
  },
  {
   "cell_type": "raw",
   "metadata": {},
   "source": [
    "Hence all the groups differ from each other"
   ]
  },
  {
   "cell_type": "markdown",
   "metadata": {},
   "source": [
    "-----------"
   ]
  },
  {
   "cell_type": "raw",
   "metadata": {},
   "source": [
    "Now we will check Whether Month variable is significantly same or different with average of PageValues, BounceRates and \n",
    "ExitRates\n",
    "By using one-way Anova\n",
    "Ho : There is no significant difference\n",
    "Ha : There is significant difference"
   ]
  },
  {
   "cell_type": "code",
   "execution_count": 84,
   "metadata": {},
   "outputs": [],
   "source": [
    "ra = df[df['Month'] == 'May']['PageValues']\n",
    "rb = df[df['Month'] == 'Nov']['PageValues']\n",
    "rc = df[df['Month'] == 'Mar']['PageValues']\n",
    "rd = df[df['Month'] == 'Dec']['PageValues']\n",
    "re = df[df['Month'] == 'Oct']['PageValues']\n",
    "rf = df[df['Month'] == 'Sep']['PageValues']\n",
    "rg = df[df['Month'] == 'Aug']['PageValues']\n",
    "rh = df[df['Month'] == 'Jul']['PageValues']\n",
    "ri = df[df['Month'] == 'June']['PageValues']\n",
    "rj = df[df['Month'] == 'Feb']['PageValues']"
   ]
  },
  {
   "cell_type": "code",
   "execution_count": 85,
   "metadata": {},
   "outputs": [
    {
     "data": {
      "text/plain": [
       "F_onewayResult(statistic=8.796990472631139, pvalue=2.6212464572154173e-13)"
      ]
     },
     "execution_count": 85,
     "metadata": {},
     "output_type": "execute_result"
    }
   ],
   "source": [
    "f_oneway(ra, rb, rc, rd, re, rf, rg, rh, ri, rj)"
   ]
  },
  {
   "cell_type": "raw",
   "metadata": {},
   "source": [
    "since our alpha value (0.05) is greater than p-value thus we reject our Null Hypothesis saying that there is significant \n",
    "difference between the average PageValues of Month\n",
    "Since we fail to reject Null Hypothesis, we will use post-hoc analysis to check which groups differ"
   ]
  },
  {
   "cell_type": "code",
   "execution_count": 86,
   "metadata": {},
   "outputs": [
    {
     "data": {
      "text/html": [
       "<table class=\"simpletable\">\n",
       "<caption>Multiple Comparison of Means - Tukey HSD, FWER=0.05</caption>\n",
       "<tr>\n",
       "  <th>group1</th> <th>group2</th> <th>meandiff</th>  <th>p-adj</th>   <th>lower</th>   <th>upper</th>  <th>reject</th>\n",
       "</tr>\n",
       "<tr>\n",
       "    <td>Aug</td>    <td>Dec</td>   <td>0.8952</td>    <td>0.9</td>   <td>-2.2537</td> <td>4.0441</td>   <td>False</td>\n",
       "</tr>\n",
       "<tr>\n",
       "    <td>Aug</td>    <td>Feb</td>   <td>-5.0477</td> <td>0.0611</td> <td>-10.2037</td> <td>0.1083</td>   <td>False</td>\n",
       "</tr>\n",
       "<tr>\n",
       "    <td>Aug</td>    <td>Jul</td>   <td>-1.8337</td>   <td>0.9</td>   <td>-5.8179</td> <td>2.1506</td>   <td>False</td>\n",
       "</tr>\n",
       "<tr>\n",
       "    <td>Aug</td>   <td>June</td>   <td>-2.5466</td> <td>0.7025</td>  <td>-7.0016</td> <td>1.9084</td>   <td>False</td>\n",
       "</tr>\n",
       "<tr>\n",
       "    <td>Aug</td>    <td>Mar</td>   <td>-1.9784</td> <td>0.5806</td>  <td>-5.0973</td> <td>1.1406</td>   <td>False</td>\n",
       "</tr>\n",
       "<tr>\n",
       "    <td>Aug</td>    <td>May</td>   <td>-0.5065</td>   <td>0.9</td>   <td>-3.4979</td> <td>2.4849</td>   <td>False</td>\n",
       "</tr>\n",
       "<tr>\n",
       "    <td>Aug</td>    <td>Nov</td>   <td>1.1913</td>    <td>0.9</td>   <td>-1.8208</td> <td>4.2034</td>   <td>False</td>\n",
       "</tr>\n",
       "<tr>\n",
       "    <td>Aug</td>    <td>Oct</td>   <td>2.7075</td>  <td>0.4085</td>  <td>-1.0582</td> <td>6.4732</td>   <td>False</td>\n",
       "</tr>\n",
       "<tr>\n",
       "    <td>Aug</td>    <td>Sep</td>   <td>1.6188</td>    <td>0.9</td>   <td>-2.3297</td> <td>5.5672</td>   <td>False</td>\n",
       "</tr>\n",
       "<tr>\n",
       "    <td>Dec</td>    <td>Feb</td>   <td>-5.9429</td> <td>0.0014</td> <td>-10.4864</td> <td>-1.3993</td>  <td>True</td> \n",
       "</tr>\n",
       "<tr>\n",
       "    <td>Dec</td>    <td>Jul</td>   <td>-2.7288</td> <td>0.1581</td>  <td>-5.8806</td>  <td>0.423</td>   <td>False</td>\n",
       "</tr>\n",
       "<tr>\n",
       "    <td>Dec</td>   <td>June</td>   <td>-3.4418</td> <td>0.0999</td>  <td>-7.171</td>  <td>0.2874</td>   <td>False</td>\n",
       "</tr>\n",
       "<tr>\n",
       "    <td>Dec</td>    <td>Mar</td>   <td>-2.8736</td>  <td>0.001</td>  <td>-4.8198</td> <td>-0.9273</td>  <td>True</td> \n",
       "</tr>\n",
       "<tr>\n",
       "    <td>Dec</td>    <td>May</td>   <td>-1.4017</td> <td>0.2382</td>  <td>-3.1361</td> <td>0.3327</td>   <td>False</td>\n",
       "</tr>\n",
       "<tr>\n",
       "    <td>Dec</td>    <td>Nov</td>   <td>0.2961</td>    <td>0.9</td>   <td>-1.4738</td> <td>2.0661</td>   <td>False</td>\n",
       "</tr>\n",
       "<tr>\n",
       "    <td>Dec</td>    <td>Oct</td>   <td>1.8123</td>  <td>0.5863</td>  <td>-1.0583</td> <td>4.6829</td>   <td>False</td>\n",
       "</tr>\n",
       "<tr>\n",
       "    <td>Dec</td>    <td>Sep</td>   <td>0.7236</td>    <td>0.9</td>   <td>-2.3829</td>  <td>3.83</td>    <td>False</td>\n",
       "</tr>\n",
       "<tr>\n",
       "    <td>Feb</td>    <td>Jul</td>   <td>3.2141</td>  <td>0.6023</td>  <td>-1.9437</td> <td>8.3718</td>   <td>False</td>\n",
       "</tr>\n",
       "<tr>\n",
       "    <td>Feb</td>   <td>June</td>   <td>2.5011</td>    <td>0.9</td>   <td>-3.0284</td> <td>8.0306</td>   <td>False</td>\n",
       "</tr>\n",
       "<tr>\n",
       "    <td>Feb</td>    <td>Mar</td>   <td>3.0693</td>  <td>0.4942</td>  <td>-1.4535</td> <td>7.5922</td>   <td>False</td>\n",
       "</tr>\n",
       "<tr>\n",
       "    <td>Feb</td>    <td>May</td>   <td>4.5412</td>  <td>0.0398</td>  <td>0.1054</td>   <td>8.977</td>   <td>True</td> \n",
       "</tr>\n",
       "<tr>\n",
       "    <td>Feb</td>    <td>Nov</td>    <td>6.239</td>   <td>0.001</td>  <td>1.7892</td>  <td>10.6889</td>  <td>True</td> \n",
       "</tr>\n",
       "<tr>\n",
       "    <td>Feb</td>    <td>Oct</td>   <td>7.7552</td>   <td>0.001</td>  <td>2.7643</td>  <td>12.7461</td>  <td>True</td> \n",
       "</tr>\n",
       "<tr>\n",
       "    <td>Feb</td>    <td>Sep</td>   <td>6.6665</td>  <td>0.0016</td>  <td>1.5363</td>  <td>11.7966</td>  <td>True</td> \n",
       "</tr>\n",
       "<tr>\n",
       "    <td>Jul</td>   <td>June</td>   <td>-0.713</td>    <td>0.9</td>    <td>-5.17</td>  <td>3.7441</td>   <td>False</td>\n",
       "</tr>\n",
       "<tr>\n",
       "    <td>Jul</td>    <td>Mar</td>   <td>-0.1447</td>   <td>0.9</td>   <td>-3.2666</td> <td>2.9772</td>   <td>False</td>\n",
       "</tr>\n",
       "<tr>\n",
       "    <td>Jul</td>    <td>May</td>   <td>1.3272</td>    <td>0.9</td>   <td>-1.6673</td> <td>4.3216</td>   <td>False</td>\n",
       "</tr>\n",
       "<tr>\n",
       "    <td>Jul</td>    <td>Nov</td>    <td>3.025</td>  <td>0.0485</td>  <td>0.0098</td>  <td>6.0401</td>   <td>True</td> \n",
       "</tr>\n",
       "<tr>\n",
       "    <td>Jul</td>    <td>Oct</td>   <td>4.5412</td>  <td>0.0054</td>   <td>0.773</td>  <td>8.3093</td>   <td>True</td> \n",
       "</tr>\n",
       "<tr>\n",
       "    <td>Jul</td>    <td>Sep</td>   <td>3.4524</td>  <td>0.1485</td>  <td>-0.4984</td> <td>7.4032</td>   <td>False</td>\n",
       "</tr>\n",
       "<tr>\n",
       "   <td>June</td>    <td>Mar</td>   <td>0.5682</td>    <td>0.9</td>   <td>-3.1357</td> <td>4.2722</td>   <td>False</td>\n",
       "</tr>\n",
       "<tr>\n",
       "   <td>June</td>    <td>May</td>   <td>2.0401</td>  <td>0.7112</td>  <td>-1.557</td>  <td>5.6373</td>   <td>False</td>\n",
       "</tr>\n",
       "<tr>\n",
       "   <td>June</td>    <td>Nov</td>   <td>3.7379</td>  <td>0.0359</td>  <td>0.1235</td>  <td>7.3524</td>   <td>True</td> \n",
       "</tr>\n",
       "<tr>\n",
       "   <td>June</td>    <td>Oct</td>   <td>5.2541</td>  <td>0.0038</td>  <td>0.9913</td>   <td>9.517</td>   <td>True</td> \n",
       "</tr>\n",
       "<tr>\n",
       "   <td>June</td>    <td>Sep</td>   <td>4.1654</td>  <td>0.0858</td>  <td>-0.2597</td> <td>8.5905</td>   <td>False</td>\n",
       "</tr>\n",
       "<tr>\n",
       "    <td>Mar</td>    <td>May</td>   <td>1.4719</td>  <td>0.1455</td>  <td>-0.2075</td> <td>3.1513</td>   <td>False</td>\n",
       "</tr>\n",
       "<tr>\n",
       "    <td>Mar</td>    <td>Nov</td>   <td>3.1697</td>   <td>0.001</td>  <td>1.4536</td>  <td>4.8858</td>   <td>True</td> \n",
       "</tr>\n",
       "<tr>\n",
       "    <td>Mar</td>    <td>Oct</td>   <td>4.6859</td>   <td>0.001</td>  <td>1.8482</td>  <td>7.5236</td>   <td>True</td> \n",
       "</tr>\n",
       "<tr>\n",
       "    <td>Mar</td>    <td>Sep</td>   <td>3.5971</td>  <td>0.0082</td>   <td>0.521</td>  <td>6.6733</td>   <td>True</td> \n",
       "</tr>\n",
       "<tr>\n",
       "    <td>May</td>    <td>Nov</td>   <td>1.6978</td>  <td>0.0099</td>  <td>0.2263</td>  <td>3.1694</td>   <td>True</td> \n",
       "</tr>\n",
       "<tr>\n",
       "    <td>May</td>    <td>Oct</td>    <td>3.214</td>  <td>0.0063</td>  <td>0.5171</td>  <td>5.9109</td>   <td>True</td> \n",
       "</tr>\n",
       "<tr>\n",
       "    <td>May</td>    <td>Sep</td>   <td>2.1253</td>  <td>0.4036</td>  <td>-0.8214</td> <td>5.0719</td>   <td>False</td>\n",
       "</tr>\n",
       "<tr>\n",
       "    <td>Nov</td>    <td>Oct</td>   <td>1.5162</td>   <td>0.73</td>   <td>-1.2037</td> <td>4.2361</td>   <td>False</td>\n",
       "</tr>\n",
       "<tr>\n",
       "    <td>Nov</td>    <td>Sep</td>   <td>0.4274</td>    <td>0.9</td>   <td>-2.5403</td> <td>3.3952</td>   <td>False</td>\n",
       "</tr>\n",
       "<tr>\n",
       "    <td>Oct</td>    <td>Sep</td>   <td>-1.0888</td>   <td>0.9</td>   <td>-4.819</td>  <td>2.6415</td>   <td>False</td>\n",
       "</tr>\n",
       "</table>"
      ],
      "text/plain": [
       "<class 'statsmodels.iolib.table.SimpleTable'>"
      ]
     },
     "execution_count": 86,
     "metadata": {},
     "output_type": "execute_result"
    }
   ],
   "source": [
    "pairwise_tukeyhsd(df['PageValues'], df['Month'], alpha = 0.05).summary()"
   ]
  },
  {
   "cell_type": "raw",
   "metadata": {},
   "source": [
    "From the above observations we conclude that there are little groups which are differs from each other for example\n",
    "May and Oct(Bottom 5th Observation)"
   ]
  },
  {
   "cell_type": "markdown",
   "metadata": {},
   "source": [
    "---"
   ]
  },
  {
   "cell_type": "code",
   "execution_count": 87,
   "metadata": {},
   "outputs": [],
   "source": [
    "ra = df[df['Month'] == 'May']['BounceRates']\n",
    "rb = df[df['Month'] == 'Nov']['BounceRates']\n",
    "rc = df[df['Month'] == 'Mar']['BounceRates']\n",
    "rd = df[df['Month'] == 'Dec']['BounceRates']\n",
    "re = df[df['Month'] == 'Oct']['BounceRates']\n",
    "rf = df[df['Month'] == 'Sep']['BounceRates']\n",
    "rg = df[df['Month'] == 'Aug']['BounceRates']\n",
    "rh = df[df['Month'] == 'Jul']['BounceRates']\n",
    "ri = df[df['Month'] == 'June']['BounceRates']\n",
    "rj = df[df['Month'] == 'Feb']['BounceRates']"
   ]
  },
  {
   "cell_type": "code",
   "execution_count": 88,
   "metadata": {},
   "outputs": [
    {
     "data": {
      "text/plain": [
       "F_onewayResult(statistic=18.255957105401702, pvalue=1.5571685144568384e-30)"
      ]
     },
     "execution_count": 88,
     "metadata": {},
     "output_type": "execute_result"
    }
   ],
   "source": [
    "f_oneway(ra, rb, rc, rd, re, rf, rg, rh, ri, rj)"
   ]
  },
  {
   "cell_type": "raw",
   "metadata": {},
   "source": [
    "since our alpha value (0.05) is greater than p-value thus we reject our Null Hypothesis saying that there is significant \n",
    "difference between the average BounceRates of Month\n",
    "Since we fail to reject Null Hypothesis, we will use post-hoc analysis to check which groups differ"
   ]
  },
  {
   "cell_type": "code",
   "execution_count": 89,
   "metadata": {},
   "outputs": [
    {
     "data": {
      "text/html": [
       "<table class=\"simpletable\">\n",
       "<caption>Multiple Comparison of Means - Tukey HSD, FWER=0.05</caption>\n",
       "<tr>\n",
       "  <th>group1</th> <th>group2</th> <th>meandiff</th>  <th>p-adj</th>  <th>lower</th>   <th>upper</th>  <th>reject</th>\n",
       "</tr>\n",
       "<tr>\n",
       "    <td>Aug</td>    <td>Dec</td>   <td>0.0019</td>    <td>0.9</td>  <td>-0.0063</td> <td>0.0101</td>   <td>False</td>\n",
       "</tr>\n",
       "<tr>\n",
       "    <td>Aug</td>    <td>Feb</td>   <td>0.0288</td>   <td>0.001</td> <td>0.0154</td>  <td>0.0422</td>   <td>True</td> \n",
       "</tr>\n",
       "<tr>\n",
       "    <td>Aug</td>    <td>Jul</td>   <td>0.0065</td>  <td>0.6014</td> <td>-0.0039</td> <td>0.0168</td>   <td>False</td>\n",
       "</tr>\n",
       "<tr>\n",
       "    <td>Aug</td>   <td>June</td>   <td>0.0169</td>   <td>0.001</td> <td>0.0053</td>  <td>0.0285</td>   <td>True</td> \n",
       "</tr>\n",
       "<tr>\n",
       "    <td>Aug</td>    <td>Mar</td>   <td>0.0035</td>    <td>0.9</td>  <td>-0.0046</td> <td>0.0116</td>   <td>False</td>\n",
       "</tr>\n",
       "<tr>\n",
       "    <td>Aug</td>    <td>May</td>   <td>0.0087</td>  <td>0.0158</td> <td>0.0009</td>  <td>0.0164</td>   <td>True</td> \n",
       "</tr>\n",
       "<tr>\n",
       "    <td>Aug</td>    <td>Nov</td>    <td>0.001</td>    <td>0.9</td>  <td>-0.0068</td> <td>0.0089</td>   <td>False</td>\n",
       "</tr>\n",
       "<tr>\n",
       "    <td>Aug</td>    <td>Oct</td>   <td>-0.0064</td> <td>0.5517</td> <td>-0.0162</td> <td>0.0034</td>   <td>False</td>\n",
       "</tr>\n",
       "<tr>\n",
       "    <td>Aug</td>    <td>Sep</td>   <td>-0.006</td>  <td>0.6733</td> <td>-0.0163</td> <td>0.0042</td>   <td>False</td>\n",
       "</tr>\n",
       "<tr>\n",
       "    <td>Dec</td>    <td>Feb</td>   <td>0.0269</td>   <td>0.001</td>  <td>0.015</td>  <td>0.0387</td>   <td>True</td> \n",
       "</tr>\n",
       "<tr>\n",
       "    <td>Dec</td>    <td>Jul</td>   <td>0.0045</td>  <td>0.7407</td> <td>-0.0037</td> <td>0.0127</td>   <td>False</td>\n",
       "</tr>\n",
       "<tr>\n",
       "    <td>Dec</td>   <td>June</td>    <td>0.015</td>   <td>0.001</td> <td>0.0052</td>  <td>0.0247</td>   <td>True</td> \n",
       "</tr>\n",
       "<tr>\n",
       "    <td>Dec</td>    <td>Mar</td>   <td>0.0016</td>    <td>0.9</td>  <td>-0.0035</td> <td>0.0066</td>   <td>False</td>\n",
       "</tr>\n",
       "<tr>\n",
       "    <td>Dec</td>    <td>May</td>   <td>0.0067</td>   <td>0.001</td> <td>0.0022</td>  <td>0.0112</td>   <td>True</td> \n",
       "</tr>\n",
       "<tr>\n",
       "    <td>Dec</td>    <td>Nov</td>   <td>-0.0009</td>   <td>0.9</td>  <td>-0.0055</td> <td>0.0037</td>   <td>False</td>\n",
       "</tr>\n",
       "<tr>\n",
       "    <td>Dec</td>    <td>Oct</td>   <td>-0.0083</td>  <td>0.016</td> <td>-0.0158</td> <td>-0.0008</td>  <td>True</td> \n",
       "</tr>\n",
       "<tr>\n",
       "    <td>Dec</td>    <td>Sep</td>   <td>-0.008</td>  <td>0.0575</td> <td>-0.0161</td> <td>0.0001</td>   <td>False</td>\n",
       "</tr>\n",
       "<tr>\n",
       "    <td>Feb</td>    <td>Jul</td>   <td>-0.0223</td>  <td>0.001</td> <td>-0.0358</td> <td>-0.0089</td>  <td>True</td> \n",
       "</tr>\n",
       "<tr>\n",
       "    <td>Feb</td>   <td>June</td>   <td>-0.0119</td> <td>0.2077</td> <td>-0.0263</td> <td>0.0025</td>   <td>False</td>\n",
       "</tr>\n",
       "<tr>\n",
       "    <td>Feb</td>    <td>Mar</td>   <td>-0.0253</td>  <td>0.001</td> <td>-0.0371</td> <td>-0.0135</td>  <td>True</td> \n",
       "</tr>\n",
       "<tr>\n",
       "    <td>Feb</td>    <td>May</td>   <td>-0.0202</td>  <td>0.001</td> <td>-0.0317</td> <td>-0.0086</td>  <td>True</td> \n",
       "</tr>\n",
       "<tr>\n",
       "    <td>Feb</td>    <td>Nov</td>   <td>-0.0278</td>  <td>0.001</td> <td>-0.0393</td> <td>-0.0162</td>  <td>True</td> \n",
       "</tr>\n",
       "<tr>\n",
       "    <td>Feb</td>    <td>Oct</td>   <td>-0.0352</td>  <td>0.001</td> <td>-0.0482</td> <td>-0.0222</td>  <td>True</td> \n",
       "</tr>\n",
       "<tr>\n",
       "    <td>Feb</td>    <td>Sep</td>   <td>-0.0348</td>  <td>0.001</td> <td>-0.0482</td> <td>-0.0215</td>  <td>True</td> \n",
       "</tr>\n",
       "<tr>\n",
       "    <td>Jul</td>   <td>June</td>   <td>0.0104</td>  <td>0.1225</td> <td>-0.0012</td>  <td>0.022</td>   <td>False</td>\n",
       "</tr>\n",
       "<tr>\n",
       "    <td>Jul</td>    <td>Mar</td>   <td>-0.0029</td>   <td>0.9</td>  <td>-0.0111</td> <td>0.0052</td>   <td>False</td>\n",
       "</tr>\n",
       "<tr>\n",
       "    <td>Jul</td>    <td>May</td>   <td>0.0022</td>    <td>0.9</td>  <td>-0.0056</td>  <td>0.01</td>    <td>False</td>\n",
       "</tr>\n",
       "<tr>\n",
       "    <td>Jul</td>    <td>Nov</td>   <td>-0.0054</td> <td>0.4698</td> <td>-0.0133</td> <td>0.0024</td>   <td>False</td>\n",
       "</tr>\n",
       "<tr>\n",
       "    <td>Jul</td>    <td>Oct</td>   <td>-0.0128</td> <td>0.0014</td> <td>-0.0226</td> <td>-0.003</td>   <td>True</td> \n",
       "</tr>\n",
       "<tr>\n",
       "    <td>Jul</td>    <td>Sep</td>   <td>-0.0125</td> <td>0.0048</td> <td>-0.0228</td> <td>-0.0022</td>  <td>True</td> \n",
       "</tr>\n",
       "<tr>\n",
       "   <td>June</td>    <td>Mar</td>   <td>-0.0134</td>  <td>0.001</td> <td>-0.023</td>  <td>-0.0037</td>  <td>True</td> \n",
       "</tr>\n",
       "<tr>\n",
       "   <td>June</td>    <td>May</td>   <td>-0.0082</td> <td>0.1417</td> <td>-0.0176</td> <td>0.0011</td>   <td>False</td>\n",
       "</tr>\n",
       "<tr>\n",
       "   <td>June</td>    <td>Nov</td>   <td>-0.0158</td>  <td>0.001</td> <td>-0.0252</td> <td>-0.0064</td>  <td>True</td> \n",
       "</tr>\n",
       "<tr>\n",
       "   <td>June</td>    <td>Oct</td>   <td>-0.0233</td>  <td>0.001</td> <td>-0.0343</td> <td>-0.0122</td>  <td>True</td> \n",
       "</tr>\n",
       "<tr>\n",
       "   <td>June</td>    <td>Sep</td>   <td>-0.0229</td>  <td>0.001</td> <td>-0.0344</td> <td>-0.0114</td>  <td>True</td> \n",
       "</tr>\n",
       "<tr>\n",
       "    <td>Mar</td>    <td>May</td>   <td>0.0051</td>  <td>0.0076</td> <td>0.0008</td>  <td>0.0095</td>   <td>True</td> \n",
       "</tr>\n",
       "<tr>\n",
       "    <td>Mar</td>    <td>Nov</td>   <td>-0.0025</td>  <td>0.739</td> <td>-0.0069</td>  <td>0.002</td>   <td>False</td>\n",
       "</tr>\n",
       "<tr>\n",
       "    <td>Mar</td>    <td>Oct</td>   <td>-0.0099</td>  <td>0.001</td> <td>-0.0173</td> <td>-0.0025</td>  <td>True</td> \n",
       "</tr>\n",
       "<tr>\n",
       "    <td>Mar</td>    <td>Sep</td>   <td>-0.0095</td> <td>0.0063</td> <td>-0.0176</td> <td>-0.0015</td>  <td>True</td> \n",
       "</tr>\n",
       "<tr>\n",
       "    <td>May</td>    <td>Nov</td>   <td>-0.0076</td>  <td>0.001</td> <td>-0.0114</td> <td>-0.0038</td>  <td>True</td> \n",
       "</tr>\n",
       "<tr>\n",
       "    <td>May</td>    <td>Oct</td>   <td>-0.015</td>   <td>0.001</td> <td>-0.022</td>  <td>-0.008</td>   <td>True</td> \n",
       "</tr>\n",
       "<tr>\n",
       "    <td>May</td>    <td>Sep</td>   <td>-0.0147</td>  <td>0.001</td> <td>-0.0224</td> <td>-0.007</td>   <td>True</td> \n",
       "</tr>\n",
       "<tr>\n",
       "    <td>Nov</td>    <td>Oct</td>   <td>-0.0074</td> <td>0.0316</td> <td>-0.0145</td> <td>-0.0003</td>  <td>True</td> \n",
       "</tr>\n",
       "<tr>\n",
       "    <td>Nov</td>    <td>Sep</td>   <td>-0.0071</td> <td>0.1059</td> <td>-0.0148</td> <td>0.0006</td>   <td>False</td>\n",
       "</tr>\n",
       "<tr>\n",
       "    <td>Oct</td>    <td>Sep</td>   <td>0.0003</td>    <td>0.9</td>  <td>-0.0094</td>  <td>0.01</td>    <td>False</td>\n",
       "</tr>\n",
       "</table>"
      ],
      "text/plain": [
       "<class 'statsmodels.iolib.table.SimpleTable'>"
      ]
     },
     "execution_count": 89,
     "metadata": {},
     "output_type": "execute_result"
    }
   ],
   "source": [
    "pairwise_tukeyhsd(df['BounceRates'], df['Month'], alpha = 0.05).summary()"
   ]
  },
  {
   "cell_type": "raw",
   "metadata": {},
   "source": [
    "From the above observations we conclude that there are groups which are differs from each other"
   ]
  },
  {
   "cell_type": "markdown",
   "metadata": {},
   "source": [
    "------"
   ]
  },
  {
   "cell_type": "code",
   "execution_count": 90,
   "metadata": {},
   "outputs": [],
   "source": [
    "ra = df[df['Month'] == 'May']['ExitRates']\n",
    "rb = df[df['Month'] == 'Nov']['ExitRates']\n",
    "rc = df[df['Month'] == 'Mar']['ExitRates']\n",
    "rd = df[df['Month'] == 'Dec']['ExitRates']\n",
    "re = df[df['Month'] == 'Oct']['ExitRates']\n",
    "rf = df[df['Month'] == 'Sep']['ExitRates']\n",
    "rg = df[df['Month'] == 'Aug']['ExitRates']\n",
    "rh = df[df['Month'] == 'Jul']['ExitRates']\n",
    "ri = df[df['Month'] == 'June']['ExitRates']\n",
    "rj = df[df['Month'] == 'Feb']['ExitRates']"
   ]
  },
  {
   "cell_type": "code",
   "execution_count": 91,
   "metadata": {},
   "outputs": [
    {
     "data": {
      "text/plain": [
       "F_onewayResult(statistic=30.43008726432431, pvalue=3.728543398341977e-53)"
      ]
     },
     "execution_count": 91,
     "metadata": {},
     "output_type": "execute_result"
    }
   ],
   "source": [
    "f_oneway(ra, rb, rc, rd, re, rf, rg, rh, ri, rj)"
   ]
  },
  {
   "cell_type": "raw",
   "metadata": {},
   "source": [
    "since our alpha value (0.05) is greater than p-value thus we reject our Null Hypothesis saying that there is significant \n",
    "difference between the average ExitRates of Month\n",
    "Since we fail to reject Null Hypothesis, we will use post-hoc analysis to check which groups differ"
   ]
  },
  {
   "cell_type": "code",
   "execution_count": 92,
   "metadata": {},
   "outputs": [
    {
     "data": {
      "text/html": [
       "<table class=\"simpletable\">\n",
       "<caption>Multiple Comparison of Means - Tukey HSD, FWER=0.05</caption>\n",
       "<tr>\n",
       "  <th>group1</th> <th>group2</th> <th>meandiff</th>  <th>p-adj</th>  <th>lower</th>   <th>upper</th>  <th>reject</th>\n",
       "</tr>\n",
       "<tr>\n",
       "    <td>Aug</td>    <td>Dec</td>   <td>0.0036</td>    <td>0.9</td>  <td>-0.0046</td> <td>0.0118</td>   <td>False</td>\n",
       "</tr>\n",
       "<tr>\n",
       "    <td>Aug</td>    <td>Feb</td>   <td>0.0364</td>   <td>0.001</td>  <td>0.023</td>  <td>0.0498</td>   <td>True</td> \n",
       "</tr>\n",
       "<tr>\n",
       "    <td>Aug</td>    <td>Jul</td>   <td>0.0076</td>  <td>0.3742</td> <td>-0.0027</td>  <td>0.018</td>   <td>False</td>\n",
       "</tr>\n",
       "<tr>\n",
       "    <td>Aug</td>   <td>June</td>   <td>0.0205</td>   <td>0.001</td> <td>0.0089</td>  <td>0.0321</td>   <td>True</td> \n",
       "</tr>\n",
       "<tr>\n",
       "    <td>Aug</td>    <td>Mar</td>   <td>0.0069</td>  <td>0.1794</td> <td>-0.0012</td>  <td>0.015</td>   <td>False</td>\n",
       "</tr>\n",
       "<tr>\n",
       "    <td>Aug</td>    <td>May</td>   <td>0.0111</td>   <td>0.001</td> <td>0.0034</td>  <td>0.0189</td>   <td>True</td> \n",
       "</tr>\n",
       "<tr>\n",
       "    <td>Aug</td>    <td>Nov</td>   <td>0.0005</td>    <td>0.9</td>  <td>-0.0073</td> <td>0.0083</td>   <td>False</td>\n",
       "</tr>\n",
       "<tr>\n",
       "    <td>Aug</td>    <td>Oct</td>   <td>-0.0087</td> <td>0.1292</td> <td>-0.0185</td> <td>0.0011</td>   <td>False</td>\n",
       "</tr>\n",
       "<tr>\n",
       "    <td>Aug</td>    <td>Sep</td>   <td>-0.0074</td> <td>0.4013</td> <td>-0.0177</td> <td>0.0028</td>   <td>False</td>\n",
       "</tr>\n",
       "<tr>\n",
       "    <td>Dec</td>    <td>Feb</td>   <td>0.0328</td>   <td>0.001</td>  <td>0.021</td>  <td>0.0446</td>   <td>True</td> \n",
       "</tr>\n",
       "<tr>\n",
       "    <td>Dec</td>    <td>Jul</td>    <td>0.004</td>  <td>0.8572</td> <td>-0.0042</td> <td>0.0122</td>   <td>False</td>\n",
       "</tr>\n",
       "<tr>\n",
       "    <td>Dec</td>   <td>June</td>   <td>0.0169</td>   <td>0.001</td> <td>0.0073</td>  <td>0.0266</td>   <td>True</td> \n",
       "</tr>\n",
       "<tr>\n",
       "    <td>Dec</td>    <td>Mar</td>   <td>0.0033</td>  <td>0.5455</td> <td>-0.0018</td> <td>0.0084</td>   <td>False</td>\n",
       "</tr>\n",
       "<tr>\n",
       "    <td>Dec</td>    <td>May</td>   <td>0.0075</td>   <td>0.001</td>  <td>0.003</td>  <td>0.0121</td>   <td>True</td> \n",
       "</tr>\n",
       "<tr>\n",
       "    <td>Dec</td>    <td>Nov</td>   <td>-0.0031</td> <td>0.5022</td> <td>-0.0077</td> <td>0.0015</td>   <td>False</td>\n",
       "</tr>\n",
       "<tr>\n",
       "    <td>Dec</td>    <td>Oct</td>   <td>-0.0123</td>  <td>0.001</td> <td>-0.0197</td> <td>-0.0048</td>  <td>True</td> \n",
       "</tr>\n",
       "<tr>\n",
       "    <td>Dec</td>    <td>Sep</td>   <td>-0.011</td>   <td>0.001</td> <td>-0.019</td>  <td>-0.0029</td>  <td>True</td> \n",
       "</tr>\n",
       "<tr>\n",
       "    <td>Feb</td>    <td>Jul</td>   <td>-0.0288</td>  <td>0.001</td> <td>-0.0422</td> <td>-0.0154</td>  <td>True</td> \n",
       "</tr>\n",
       "<tr>\n",
       "    <td>Feb</td>   <td>June</td>   <td>-0.0159</td> <td>0.0166</td> <td>-0.0303</td> <td>-0.0015</td>  <td>True</td> \n",
       "</tr>\n",
       "<tr>\n",
       "    <td>Feb</td>    <td>Mar</td>   <td>-0.0295</td>  <td>0.001</td> <td>-0.0413</td> <td>-0.0178</td>  <td>True</td> \n",
       "</tr>\n",
       "<tr>\n",
       "    <td>Feb</td>    <td>May</td>   <td>-0.0253</td>  <td>0.001</td> <td>-0.0368</td> <td>-0.0138</td>  <td>True</td> \n",
       "</tr>\n",
       "<tr>\n",
       "    <td>Feb</td>    <td>Nov</td>   <td>-0.0359</td>  <td>0.001</td> <td>-0.0475</td> <td>-0.0244</td>  <td>True</td> \n",
       "</tr>\n",
       "<tr>\n",
       "    <td>Feb</td>    <td>Oct</td>   <td>-0.0451</td>  <td>0.001</td> <td>-0.0581</td> <td>-0.0322</td>  <td>True</td> \n",
       "</tr>\n",
       "<tr>\n",
       "    <td>Feb</td>    <td>Sep</td>   <td>-0.0438</td>  <td>0.001</td> <td>-0.0572</td> <td>-0.0305</td>  <td>True</td> \n",
       "</tr>\n",
       "<tr>\n",
       "    <td>Jul</td>   <td>June</td>   <td>0.0129</td>  <td>0.0152</td> <td>0.0013</td>  <td>0.0245</td>   <td>True</td> \n",
       "</tr>\n",
       "<tr>\n",
       "    <td>Jul</td>    <td>Mar</td>   <td>-0.0007</td>   <td>0.9</td>  <td>-0.0088</td> <td>0.0074</td>   <td>False</td>\n",
       "</tr>\n",
       "<tr>\n",
       "    <td>Jul</td>    <td>May</td>   <td>0.0035</td>    <td>0.9</td>  <td>-0.0043</td> <td>0.0113</td>   <td>False</td>\n",
       "</tr>\n",
       "<tr>\n",
       "    <td>Jul</td>    <td>Nov</td>   <td>-0.0071</td> <td>0.1113</td> <td>-0.015</td>  <td>0.0007</td>   <td>False</td>\n",
       "</tr>\n",
       "<tr>\n",
       "    <td>Jul</td>    <td>Oct</td>   <td>-0.0163</td>  <td>0.001</td> <td>-0.0261</td> <td>-0.0065</td>  <td>True</td> \n",
       "</tr>\n",
       "<tr>\n",
       "    <td>Jul</td>    <td>Sep</td>   <td>-0.015</td>   <td>0.001</td> <td>-0.0253</td> <td>-0.0048</td>  <td>True</td> \n",
       "</tr>\n",
       "<tr>\n",
       "   <td>June</td>    <td>Mar</td>   <td>-0.0136</td>  <td>0.001</td> <td>-0.0233</td> <td>-0.004</td>   <td>True</td> \n",
       "</tr>\n",
       "<tr>\n",
       "   <td>June</td>    <td>May</td>   <td>-0.0094</td> <td>0.0475</td> <td>-0.0187</td> <td>-0.0001</td>  <td>True</td> \n",
       "</tr>\n",
       "<tr>\n",
       "   <td>June</td>    <td>Nov</td>    <td>-0.02</td>   <td>0.001</td> <td>-0.0294</td> <td>-0.0107</td>  <td>True</td> \n",
       "</tr>\n",
       "<tr>\n",
       "   <td>June</td>    <td>Oct</td>   <td>-0.0292</td>  <td>0.001</td> <td>-0.0403</td> <td>-0.0182</td>  <td>True</td> \n",
       "</tr>\n",
       "<tr>\n",
       "   <td>June</td>    <td>Sep</td>   <td>-0.0279</td>  <td>0.001</td> <td>-0.0394</td> <td>-0.0164</td>  <td>True</td> \n",
       "</tr>\n",
       "<tr>\n",
       "    <td>Mar</td>    <td>May</td>   <td>0.0042</td>  <td>0.0637</td> <td>-0.0001</td> <td>0.0086</td>   <td>False</td>\n",
       "</tr>\n",
       "<tr>\n",
       "    <td>Mar</td>    <td>Nov</td>   <td>-0.0064</td>  <td>0.001</td> <td>-0.0109</td> <td>-0.0019</td>  <td>True</td> \n",
       "</tr>\n",
       "<tr>\n",
       "    <td>Mar</td>    <td>Oct</td>   <td>-0.0156</td>  <td>0.001</td> <td>-0.023</td>  <td>-0.0082</td>  <td>True</td> \n",
       "</tr>\n",
       "<tr>\n",
       "    <td>Mar</td>    <td>Sep</td>   <td>-0.0143</td>  <td>0.001</td> <td>-0.0223</td> <td>-0.0063</td>  <td>True</td> \n",
       "</tr>\n",
       "<tr>\n",
       "    <td>May</td>    <td>Nov</td>   <td>-0.0106</td>  <td>0.001</td> <td>-0.0145</td> <td>-0.0068</td>  <td>True</td> \n",
       "</tr>\n",
       "<tr>\n",
       "    <td>May</td>    <td>Oct</td>   <td>-0.0198</td>  <td>0.001</td> <td>-0.0268</td> <td>-0.0128</td>  <td>True</td> \n",
       "</tr>\n",
       "<tr>\n",
       "    <td>May</td>    <td>Sep</td>   <td>-0.0185</td>  <td>0.001</td> <td>-0.0262</td> <td>-0.0109</td>  <td>True</td> \n",
       "</tr>\n",
       "<tr>\n",
       "    <td>Nov</td>    <td>Oct</td>   <td>-0.0092</td> <td>0.0016</td> <td>-0.0163</td> <td>-0.0021</td>  <td>True</td> \n",
       "</tr>\n",
       "<tr>\n",
       "    <td>Nov</td>    <td>Sep</td>   <td>-0.0079</td> <td>0.0402</td> <td>-0.0156</td> <td>-0.0002</td>  <td>True</td> \n",
       "</tr>\n",
       "<tr>\n",
       "    <td>Oct</td>    <td>Sep</td>   <td>0.0013</td>    <td>0.9</td>  <td>-0.0084</td>  <td>0.011</td>   <td>False</td>\n",
       "</tr>\n",
       "</table>"
      ],
      "text/plain": [
       "<class 'statsmodels.iolib.table.SimpleTable'>"
      ]
     },
     "execution_count": 92,
     "metadata": {},
     "output_type": "execute_result"
    }
   ],
   "source": [
    "pairwise_tukeyhsd(df['ExitRates'], df['Month'], alpha = 0.05).summary()"
   ]
  },
  {
   "cell_type": "raw",
   "metadata": {},
   "source": [
    "From the above observations we conclude that there are little groups which are differs from each other for example\n",
    "May and Oct(Bottom 5th Observation)"
   ]
  },
  {
   "cell_type": "markdown",
   "metadata": {},
   "source": [
    "--------"
   ]
  },
  {
   "cell_type": "raw",
   "metadata": {},
   "source": [
    "2 sample Independent ttest-\n",
    "\n",
    "The Independent Samples t Test compares the means of two independent groups in order to determine whether there is statistical evidence that the associated population means are significantly different.\n",
    "For this we will separate numerical features and categorical features.\n",
    "\n",
    "Null Hypothesis and Alternate Hypothesis are\n",
    "Ho : 2 sample means is same\n",
    "Ha : 2 sample means is different\n",
    "We will take alpha at 5%"
   ]
  },
  {
   "cell_type": "code",
   "execution_count": 93,
   "metadata": {},
   "outputs": [],
   "source": [
    "numerical_features = df.drop(['SpecialDay', 'Month', 'OperatingSystems', 'Browser', 'Region', 'VisitorType', 'Weekend', \n",
    "                              'Revenue'], axis = 1)\n",
    "categorical_features = df.drop(['Administrative', 'Informational','Administrative_Duration', 'Informational_Duration', \n",
    "                                'ProductRelated', 'ProductRelated_Duration','BounceRates', 'ExitRates', 'PageValues', \n",
    "                                'TrafficType'], axis = 1)"
   ]
  },
  {
   "cell_type": "code",
   "execution_count": 94,
   "metadata": {},
   "outputs": [
    {
     "name": "stdout",
     "output_type": "stream",
     "text": [
      "Administrative\n",
      "Ttest_indResult(statistic=71.79423409134735, pvalue=0.0)\n",
      "\n",
      "Administrative_Duration\n",
      "Ttest_indResult(statistic=50.66741239721269, pvalue=0.0)\n",
      "\n",
      "Informational\n",
      "Ttest_indResult(statistic=29.32927920342698, pvalue=6.829583291381449e-186)\n",
      "\n",
      "Informational_Duration\n",
      "Ttest_indResult(statistic=27.0739399767082, pvalue=4.2317316568884093e-159)\n",
      "\n",
      "ProductRelated\n",
      "Ttest_indResult(statistic=78.83396511441096, pvalue=0.0)\n",
      "\n",
      "ProductRelated_Duration\n",
      "Ttest_indResult(statistic=69.31608966567282, pvalue=0.0)\n",
      "\n",
      "BounceRates\n",
      "Ttest_indResult(statistic=-40.33518525472262, pvalue=0.0)\n",
      "\n",
      "ExitRates\n",
      "Ttest_indResult(statistic=-33.979745559651704, pvalue=2.239395433249529e-247)\n",
      "\n",
      "PageValues\n",
      "Ttest_indResult(statistic=34.286282398549886, pvalue=1.0171760791556384e-251)\n",
      "\n",
      "TrafficType\n",
      "Ttest_indResult(statistic=107.56364016969864, pvalue=0.0)\n",
      "\n"
     ]
    }
   ],
   "source": [
    "for i in numerical_features:\n",
    "    print(i)\n",
    "    print(ttest_ind(df[i], df['Revenue']))\n",
    "    print()"
   ]
  },
  {
   "cell_type": "raw",
   "metadata": {},
   "source": [
    "Since our alpha value is less than p-value, we will reject Ho stating that samples have different means."
   ]
  },
  {
   "cell_type": "markdown",
   "metadata": {},
   "source": [
    "-----"
   ]
  },
  {
   "cell_type": "raw",
   "metadata": {},
   "source": [
    "Chi-Square test-\n",
    "The Chi-square test is intended to test how likely it is that an observed distribution is due to chance. It is also called a \"goodness of fit\" statistic, because it measures how well the observed distribution of data fits with the distribution that is expected if the variables are independent."
   ]
  },
  {
   "cell_type": "raw",
   "metadata": {},
   "source": [
    "H0: There is no association between categorical variables and output variable\n",
    "H1: There is an association between categorical variables and output variable\n",
    "we will take alpha at 5%"
   ]
  },
  {
   "cell_type": "code",
   "execution_count": 95,
   "metadata": {},
   "outputs": [
    {
     "name": "stdout",
     "output_type": "stream",
     "text": [
      "SpecialDay\n",
      "(96.07690626757704, 3.5432443403841987e-19, 5, array([[9364.58540146,  150.45547445,  205.39708029,  296.68467153,\n",
      "         274.7080292 ,  130.16934307],\n",
      "       [1714.41459854,   27.54452555,   37.60291971,   54.31532847,\n",
      "          50.2919708 ,   23.83065693]]))\n",
      "\n",
      "Month\n",
      "(384.93476153599426, 2.2387855164805443e-77, 9, array([[ 365.99562044, 1459.75620438,  155.5270073 ,  365.15036496,\n",
      "         243.43357664, 1611.90218978, 2843.43941606, 2534.07591241,\n",
      "         464.04525547,  378.67445255],\n",
      "       [  67.00437956,  267.24379562,   28.4729927 ,   66.84963504,\n",
      "          44.56642336,  295.09781022,  520.56058394,  463.92408759,\n",
      "          84.95474453,   69.32554745]]))\n",
      "\n",
      "OperatingSystems\n",
      "(75.02705620298461, 1.4160941129614507e-13, 7, array([[2.18498540e+03, 5.57953139e+03, 2.15962774e+03, 4.04032117e+02,\n",
      "        5.07153285e+00, 1.60598540e+01, 5.91678832e+00, 6.67751825e+01],\n",
      "       [4.00014599e+02, 1.02146861e+03, 3.95372263e+02, 7.39678832e+01,\n",
      "        9.28467153e-01, 2.94014599e+00, 1.08321168e+00, 1.22248175e+01]]))\n",
      "\n",
      "Browser\n",
      "(27.715299401381564, 0.00608754317955108, 12, array([[2.08101898e+03, 6.72907883e+03, 8.87518248e+01, 6.22108029e+02,\n",
      "        3.94734307e+02, 1.47074453e+02, 4.14175182e+01, 1.14109489e+02,\n",
      "        8.45255474e-01, 1.37776642e+02, 5.07153285e+00, 8.45255474e+00,\n",
      "        5.15605839e+01],\n",
      "       [3.80981022e+02, 1.23192117e+03, 1.62481752e+01, 1.13891971e+02,\n",
      "        7.22656934e+01, 2.69255474e+01, 7.58248175e+00, 2.08905109e+01,\n",
      "        1.54744526e-01, 2.52233577e+01, 9.28467153e-01, 1.54744526e+00,\n",
      "        9.43941606e+00]]))\n",
      "\n",
      "Region\n",
      "(9.252751430579844, 0.3214249979076556, 8, array([[4040.32116788,  960.21021898, 2031.14890511,  999.0919708 ,\n",
      "         268.79124088,  680.43065693,  643.23941606,  366.84087591,\n",
      "         431.92554745],\n",
      "       [ 739.67883212,  175.78978102,  371.85109489,  182.9080292 ,\n",
      "          49.20875912,  124.56934307,  117.76058394,   67.15912409,\n",
      "          79.07445255]]))\n",
      "\n",
      "VisitorType\n",
      "(135.2519228192047, 4.269904152293867e-30, 2, array([[1431.86277372,   71.84671533, 8918.29051095],\n",
      "       [ 262.13722628,   13.15328467, 1632.70948905]]))\n",
      "\n",
      "Weekend\n",
      "(10.390978319534856, 0.0012663251061221968, 1, array([[7997.80729927, 2424.19270073],\n",
      "       [1464.19270073,  443.80729927]]))\n",
      "\n",
      "Revenue\n",
      "(12322.355846725, 0.0, 1, array([[8809.25255474, 1612.74744526],\n",
      "       [1612.74744526,  295.25255474]]))\n",
      "\n"
     ]
    }
   ],
   "source": [
    "for i in categorical_features:\n",
    "    table = pd.crosstab(df['Revenue'], df[i])\n",
    "    print(i)\n",
    "    print(chi2_contingency(table))\n",
    "    print()\n",
    "    "
   ]
  },
  {
   "cell_type": "raw",
   "metadata": {},
   "source": [
    "Inference -\n",
    "For the region variable, our alpha value is greater than p-value hence we will accept null hypothesis saying that there is no\n",
    "association between region variable and Revenue variable\n",
    "For the rest of the categorical variable, we will reject null hypothesis saying that there is association with the Revenue\n",
    "variable."
   ]
  },
  {
   "cell_type": "markdown",
   "metadata": {},
   "source": [
    "-----------------"
   ]
  },
  {
   "cell_type": "markdown",
   "metadata": {},
   "source": [
    "# Model Evaluation"
   ]
  },
  {
   "cell_type": "code",
   "execution_count": 4,
   "metadata": {},
   "outputs": [
    {
     "data": {
      "text/html": [
       "<div>\n",
       "<style scoped>\n",
       "    .dataframe tbody tr th:only-of-type {\n",
       "        vertical-align: middle;\n",
       "    }\n",
       "\n",
       "    .dataframe tbody tr th {\n",
       "        vertical-align: top;\n",
       "    }\n",
       "\n",
       "    .dataframe thead th {\n",
       "        text-align: right;\n",
       "    }\n",
       "</style>\n",
       "<table border=\"1\" class=\"dataframe\">\n",
       "  <thead>\n",
       "    <tr style=\"text-align: right;\">\n",
       "      <th></th>\n",
       "      <th>Administrative</th>\n",
       "      <th>Administrative_Duration</th>\n",
       "      <th>Informational</th>\n",
       "      <th>Informational_Duration</th>\n",
       "      <th>ProductRelated</th>\n",
       "      <th>ProductRelated_Duration</th>\n",
       "      <th>BounceRates</th>\n",
       "      <th>ExitRates</th>\n",
       "      <th>PageValues</th>\n",
       "      <th>SpecialDay</th>\n",
       "      <th>...</th>\n",
       "      <th>Month_Jul</th>\n",
       "      <th>Month_June</th>\n",
       "      <th>Month_Mar</th>\n",
       "      <th>Month_May</th>\n",
       "      <th>Month_Nov</th>\n",
       "      <th>Month_Oct</th>\n",
       "      <th>Month_Sep</th>\n",
       "      <th>VisitorType_New_Visitor</th>\n",
       "      <th>VisitorType_Other</th>\n",
       "      <th>VisitorType_Returning_Visitor</th>\n",
       "    </tr>\n",
       "  </thead>\n",
       "  <tbody>\n",
       "    <tr>\n",
       "      <th>0</th>\n",
       "      <td>0</td>\n",
       "      <td>0.0</td>\n",
       "      <td>0</td>\n",
       "      <td>0.0</td>\n",
       "      <td>1</td>\n",
       "      <td>0.000000</td>\n",
       "      <td>0.20</td>\n",
       "      <td>0.20</td>\n",
       "      <td>0.0</td>\n",
       "      <td>0.0</td>\n",
       "      <td>...</td>\n",
       "      <td>0</td>\n",
       "      <td>0</td>\n",
       "      <td>0</td>\n",
       "      <td>0</td>\n",
       "      <td>0</td>\n",
       "      <td>0</td>\n",
       "      <td>0</td>\n",
       "      <td>0</td>\n",
       "      <td>0</td>\n",
       "      <td>1</td>\n",
       "    </tr>\n",
       "    <tr>\n",
       "      <th>1</th>\n",
       "      <td>0</td>\n",
       "      <td>0.0</td>\n",
       "      <td>0</td>\n",
       "      <td>0.0</td>\n",
       "      <td>2</td>\n",
       "      <td>64.000000</td>\n",
       "      <td>0.00</td>\n",
       "      <td>0.10</td>\n",
       "      <td>0.0</td>\n",
       "      <td>0.0</td>\n",
       "      <td>...</td>\n",
       "      <td>0</td>\n",
       "      <td>0</td>\n",
       "      <td>0</td>\n",
       "      <td>0</td>\n",
       "      <td>0</td>\n",
       "      <td>0</td>\n",
       "      <td>0</td>\n",
       "      <td>0</td>\n",
       "      <td>0</td>\n",
       "      <td>1</td>\n",
       "    </tr>\n",
       "    <tr>\n",
       "      <th>2</th>\n",
       "      <td>0</td>\n",
       "      <td>0.0</td>\n",
       "      <td>0</td>\n",
       "      <td>0.0</td>\n",
       "      <td>1</td>\n",
       "      <td>0.000000</td>\n",
       "      <td>0.20</td>\n",
       "      <td>0.20</td>\n",
       "      <td>0.0</td>\n",
       "      <td>0.0</td>\n",
       "      <td>...</td>\n",
       "      <td>0</td>\n",
       "      <td>0</td>\n",
       "      <td>0</td>\n",
       "      <td>0</td>\n",
       "      <td>0</td>\n",
       "      <td>0</td>\n",
       "      <td>0</td>\n",
       "      <td>0</td>\n",
       "      <td>0</td>\n",
       "      <td>1</td>\n",
       "    </tr>\n",
       "    <tr>\n",
       "      <th>3</th>\n",
       "      <td>0</td>\n",
       "      <td>0.0</td>\n",
       "      <td>0</td>\n",
       "      <td>0.0</td>\n",
       "      <td>2</td>\n",
       "      <td>2.666667</td>\n",
       "      <td>0.05</td>\n",
       "      <td>0.14</td>\n",
       "      <td>0.0</td>\n",
       "      <td>0.0</td>\n",
       "      <td>...</td>\n",
       "      <td>0</td>\n",
       "      <td>0</td>\n",
       "      <td>0</td>\n",
       "      <td>0</td>\n",
       "      <td>0</td>\n",
       "      <td>0</td>\n",
       "      <td>0</td>\n",
       "      <td>0</td>\n",
       "      <td>0</td>\n",
       "      <td>1</td>\n",
       "    </tr>\n",
       "    <tr>\n",
       "      <th>4</th>\n",
       "      <td>0</td>\n",
       "      <td>0.0</td>\n",
       "      <td>0</td>\n",
       "      <td>0.0</td>\n",
       "      <td>10</td>\n",
       "      <td>627.500000</td>\n",
       "      <td>0.02</td>\n",
       "      <td>0.05</td>\n",
       "      <td>0.0</td>\n",
       "      <td>0.0</td>\n",
       "      <td>...</td>\n",
       "      <td>0</td>\n",
       "      <td>0</td>\n",
       "      <td>0</td>\n",
       "      <td>0</td>\n",
       "      <td>0</td>\n",
       "      <td>0</td>\n",
       "      <td>0</td>\n",
       "      <td>0</td>\n",
       "      <td>0</td>\n",
       "      <td>1</td>\n",
       "    </tr>\n",
       "  </tbody>\n",
       "</table>\n",
       "<p>5 rows × 29 columns</p>\n",
       "</div>"
      ],
      "text/plain": [
       "   Administrative  Administrative_Duration  Informational  \\\n",
       "0               0                      0.0              0   \n",
       "1               0                      0.0              0   \n",
       "2               0                      0.0              0   \n",
       "3               0                      0.0              0   \n",
       "4               0                      0.0              0   \n",
       "\n",
       "   Informational_Duration  ProductRelated  ProductRelated_Duration  \\\n",
       "0                     0.0               1                 0.000000   \n",
       "1                     0.0               2                64.000000   \n",
       "2                     0.0               1                 0.000000   \n",
       "3                     0.0               2                 2.666667   \n",
       "4                     0.0              10               627.500000   \n",
       "\n",
       "   BounceRates  ExitRates  PageValues  SpecialDay  ...  Month_Jul  Month_June  \\\n",
       "0         0.20       0.20         0.0         0.0  ...          0           0   \n",
       "1         0.00       0.10         0.0         0.0  ...          0           0   \n",
       "2         0.20       0.20         0.0         0.0  ...          0           0   \n",
       "3         0.05       0.14         0.0         0.0  ...          0           0   \n",
       "4         0.02       0.05         0.0         0.0  ...          0           0   \n",
       "\n",
       "   Month_Mar  Month_May  Month_Nov  Month_Oct  Month_Sep  \\\n",
       "0          0          0          0          0          0   \n",
       "1          0          0          0          0          0   \n",
       "2          0          0          0          0          0   \n",
       "3          0          0          0          0          0   \n",
       "4          0          0          0          0          0   \n",
       "\n",
       "   VisitorType_New_Visitor  VisitorType_Other  VisitorType_Returning_Visitor  \n",
       "0                        0                  0                              1  \n",
       "1                        0                  0                              1  \n",
       "2                        0                  0                              1  \n",
       "3                        0                  0                              1  \n",
       "4                        0                  0                              1  \n",
       "\n",
       "[5 rows x 29 columns]"
      ]
     },
     "execution_count": 4,
     "metadata": {},
     "output_type": "execute_result"
    }
   ],
   "source": [
    "df = pd.read_csv('online_shoppers_intention.csv')\n",
    "df1 = pd.get_dummies(df)\n",
    "df1.head()"
   ]
  },
  {
   "cell_type": "code",
   "execution_count": 5,
   "metadata": {},
   "outputs": [],
   "source": [
    "from sklearn.preprocessing import LabelEncoder\n",
    "\n",
    "le = LabelEncoder()\n",
    "df1['Revenue'] = le.fit_transform(df1['Revenue'])"
   ]
  },
  {
   "cell_type": "code",
   "execution_count": 6,
   "metadata": {},
   "outputs": [],
   "source": [
    "x = df1.drop(['Revenue'], axis = 1)\n",
    "y = df1['Revenue']"
   ]
  },
  {
   "cell_type": "code",
   "execution_count": 7,
   "metadata": {},
   "outputs": [
    {
     "name": "stdout",
     "output_type": "stream",
     "text": [
      "Shape of x_train : (8631, 28)\n",
      "Shape of y_train : (8631,)\n",
      "Shape of x_test : (3699, 28)\n",
      "Shape of y_test : (3699,)\n"
     ]
    }
   ],
   "source": [
    "from sklearn.model_selection import train_test_split\n",
    "x_train, x_test, y_train, y_test = train_test_split(x, y, test_size = 0.3, random_state = 1)\n",
    "print(\"Shape of x_train :\", x_train.shape)\n",
    "print(\"Shape of y_train :\", y_train.shape)\n",
    "print(\"Shape of x_test :\", x_test.shape)\n",
    "print(\"Shape of y_test :\", y_test.shape)"
   ]
  },
  {
   "cell_type": "raw",
   "metadata": {},
   "source": [
    "Applying SMOTE"
   ]
  },
  {
   "cell_type": "code",
   "execution_count": 8,
   "metadata": {},
   "outputs": [
    {
     "name": "stdout",
     "output_type": "stream",
     "text": [
      "7273\n",
      "7273\n"
     ]
    }
   ],
   "source": [
    "from imblearn.over_sampling import SMOTE\n",
    "s=SMOTE(ratio='minority')\n",
    "xtrain_reset,ytrain_reset=s.fit_sample(x_train,y_train)\n",
    "xtest_reset,ytest_reset=s.fit_sample(x_test,y_test)\n",
    "print(sum(ytrain_reset==1))\n",
    "print(sum(ytrain_reset==0))"
   ]
  },
  {
   "cell_type": "code",
   "execution_count": 9,
   "metadata": {},
   "outputs": [],
   "source": [
    "from sklearn.preprocessing import StandardScaler\n",
    "sc = StandardScaler()\n",
    "\n",
    "xtrain_reset = sc.fit_transform(xtrain_reset)\n",
    "xtest_reset = sc.transform(xtest_reset)"
   ]
  },
  {
   "cell_type": "code",
   "execution_count": 10,
   "metadata": {},
   "outputs": [],
   "source": [
    "from sklearn.metrics import accuracy_score, classification_report, cohen_kappa_score, confusion_matrix, mean_squared_error"
   ]
  },
  {
   "cell_type": "code",
   "execution_count": 11,
   "metadata": {},
   "outputs": [
    {
     "data": {
      "text/html": [
       "<div>\n",
       "<style scoped>\n",
       "    .dataframe tbody tr th:only-of-type {\n",
       "        vertical-align: middle;\n",
       "    }\n",
       "\n",
       "    .dataframe tbody tr th {\n",
       "        vertical-align: top;\n",
       "    }\n",
       "\n",
       "    .dataframe thead th {\n",
       "        text-align: right;\n",
       "    }\n",
       "</style>\n",
       "<table border=\"1\" class=\"dataframe\">\n",
       "  <thead>\n",
       "    <tr style=\"text-align: right;\">\n",
       "      <th></th>\n",
       "      <th>Specs</th>\n",
       "      <th>Score</th>\n",
       "    </tr>\n",
       "  </thead>\n",
       "  <tbody>\n",
       "    <tr>\n",
       "      <th>5</th>\n",
       "      <td>ProductRelated_Duration</td>\n",
       "      <td>877404.339415</td>\n",
       "    </tr>\n",
       "    <tr>\n",
       "      <th>8</th>\n",
       "      <td>PageValues</td>\n",
       "      <td>175126.808512</td>\n",
       "    </tr>\n",
       "    <tr>\n",
       "      <th>1</th>\n",
       "      <td>Administrative_Duration</td>\n",
       "      <td>41754.836841</td>\n",
       "    </tr>\n",
       "    <tr>\n",
       "      <th>3</th>\n",
       "      <td>Informational_Duration</td>\n",
       "      <td>35059.775770</td>\n",
       "    </tr>\n",
       "    <tr>\n",
       "      <th>4</th>\n",
       "      <td>ProductRelated</td>\n",
       "      <td>19317.285376</td>\n",
       "    </tr>\n",
       "    <tr>\n",
       "      <th>0</th>\n",
       "      <td>Administrative</td>\n",
       "      <td>1133.965531</td>\n",
       "    </tr>\n",
       "    <tr>\n",
       "      <th>2</th>\n",
       "      <td>Informational</td>\n",
       "      <td>357.981605</td>\n",
       "    </tr>\n",
       "    <tr>\n",
       "      <th>22</th>\n",
       "      <td>Month_Nov</td>\n",
       "      <td>223.548231</td>\n",
       "    </tr>\n",
       "    <tr>\n",
       "      <th>25</th>\n",
       "      <td>VisitorType_New_Visitor</td>\n",
       "      <td>115.339482</td>\n",
       "    </tr>\n",
       "    <tr>\n",
       "      <th>21</th>\n",
       "      <td>Month_May</td>\n",
       "      <td>54.997108</td>\n",
       "    </tr>\n",
       "  </tbody>\n",
       "</table>\n",
       "</div>"
      ],
      "text/plain": [
       "                      Specs          Score\n",
       "5   ProductRelated_Duration  877404.339415\n",
       "8                PageValues  175126.808512\n",
       "1   Administrative_Duration   41754.836841\n",
       "3    Informational_Duration   35059.775770\n",
       "4            ProductRelated   19317.285376\n",
       "0            Administrative    1133.965531\n",
       "2             Informational     357.981605\n",
       "22                Month_Nov     223.548231\n",
       "25  VisitorType_New_Visitor     115.339482\n",
       "21                Month_May      54.997108"
      ]
     },
     "execution_count": 11,
     "metadata": {},
     "output_type": "execute_result"
    }
   ],
   "source": [
    "\n",
    "from sklearn.feature_selection import SelectKBest,chi2\n",
    "bestFeatures = SelectKBest(score_func=chi2, k = 10)\n",
    "fit = bestFeatures.fit(x, y)\n",
    "\n",
    "dfscores = pd.DataFrame(fit.scores_)\n",
    "dfcolumns = pd.DataFrame(x.columns)\n",
    "\n",
    "featureScores = pd.concat([dfcolumns, dfscores], axis = 1)\n",
    "featureScores.columns = ['Specs','Score']\n",
    "\n",
    "featureScores.nlargest(10, 'Score')\n"
   ]
  },
  {
   "cell_type": "code",
   "execution_count": 13,
   "metadata": {},
   "outputs": [],
   "source": [
    "x = df1.drop(['BounceRates', 'ExitRates','SpecialDay',\n",
    "       'OperatingSystems', 'Browser', 'Region', 'TrafficType', 'Weekend',\n",
    "        'Month_Aug', 'Month_Dec', 'Month_Feb', 'Month_Jul',\n",
    "       'Month_June', 'Month_Mar','Month_Oct',\n",
    "       'Month_Sep', 'VisitorType_Other',\n",
    "       'VisitorType_Returning_Visitor', 'Revenue'], axis =1)\n",
    "y = df1['Revenue']"
   ]
  },
  {
   "cell_type": "code",
   "execution_count": 14,
   "metadata": {},
   "outputs": [
    {
     "name": "stdout",
     "output_type": "stream",
     "text": [
      "Accuracy score is  0.8582089552238806\n",
      "Cohen Cappa score is 0.7164179104477613\n",
      "Training Accuracy : 0.8394060222741647\n",
      "Testing Accuracy : 0.8582089552238806\n",
      "              precision    recall  f1-score   support\n",
      "\n",
      "           0       0.84      0.88      0.86      3149\n",
      "           1       0.88      0.83      0.85      3149\n",
      "\n",
      "    accuracy                           0.86      6298\n",
      "   macro avg       0.86      0.86      0.86      6298\n",
      "weighted avg       0.86      0.86      0.86      6298\n",
      "\n",
      "[[2781  368]\n",
      " [ 525 2624]]\n"
     ]
    },
    {
     "data": {
      "text/html": [
       "<div>\n",
       "<style scoped>\n",
       "    .dataframe tbody tr th:only-of-type {\n",
       "        vertical-align: middle;\n",
       "    }\n",
       "\n",
       "    .dataframe tbody tr th {\n",
       "        vertical-align: top;\n",
       "    }\n",
       "\n",
       "    .dataframe thead th {\n",
       "        text-align: right;\n",
       "    }\n",
       "</style>\n",
       "<table border=\"1\" class=\"dataframe\">\n",
       "  <thead>\n",
       "    <tr style=\"text-align: right;\">\n",
       "      <th></th>\n",
       "      <th>Model</th>\n",
       "      <th>Accuracy Score</th>\n",
       "      <th>Recall</th>\n",
       "      <th>Precision</th>\n",
       "      <th>Kappa Score</th>\n",
       "      <th>Training Score</th>\n",
       "      <th>Test Score</th>\n",
       "      <th>RMSE</th>\n",
       "    </tr>\n",
       "  </thead>\n",
       "  <tbody>\n",
       "    <tr>\n",
       "      <th>0</th>\n",
       "      <td>Logistic Regression</td>\n",
       "      <td>0.858209</td>\n",
       "      <td>0.83328</td>\n",
       "      <td>0.877005</td>\n",
       "      <td>0.716418</td>\n",
       "      <td>0.839406</td>\n",
       "      <td>0.858209</td>\n",
       "      <td>0.376552</td>\n",
       "    </tr>\n",
       "  </tbody>\n",
       "</table>\n",
       "</div>"
      ],
      "text/plain": [
       "                 Model  Accuracy Score   Recall  Precision  Kappa Score  \\\n",
       "0  Logistic Regression        0.858209  0.83328   0.877005     0.716418   \n",
       "\n",
       "   Training Score  Test Score      RMSE  \n",
       "0        0.839406    0.858209  0.376552  "
      ]
     },
     "execution_count": 14,
     "metadata": {},
     "output_type": "execute_result"
    }
   ],
   "source": [
    "from sklearn.linear_model import LogisticRegression\n",
    "lor = LogisticRegression()\n",
    "lor.fit(xtrain_reset, ytrain_reset)\n",
    "lor_pred = lor.predict(xtest_reset)\n",
    "\n",
    "print(\"Accuracy score is \",accuracy_score(ytest_reset,lor_pred))\n",
    "print(\"Cohen Cappa score is\",cohen_kappa_score(ytest_reset,lor_pred))\n",
    "print(\"Training Accuracy :\", lor.score(xtrain_reset,ytrain_reset))\n",
    "print(\"Testing Accuracy :\", lor.score(xtest_reset, ytest_reset))\n",
    "print(classification_report(ytest_reset,lor_pred))\n",
    "\n",
    "confusion = confusion_matrix(ytest_reset, lor_pred)\n",
    "print(confusion)\n",
    "TP = confusion[1, 1]\n",
    "TN = confusion[0, 0]\n",
    "FP = confusion[0, 1]\n",
    "FN = confusion[1, 0]\n",
    "\n",
    "precision_lor = TP / float(TP + FP)\n",
    "sensitivity_lor = TP / float(FN + TP)\n",
    "\n",
    "rmse_lor = np.sqrt(mean_squared_error(ytest_reset, lor_pred))\n",
    "\n",
    "\n",
    "df2 = pd.DataFrame({'Model': ['Logistic Regression'],\n",
    "                    'Accuracy Score': [accuracy_score(ytest_reset,lor_pred)],\n",
    "                    'Recall': [sensitivity_lor],\n",
    "                    'Precision': [precision_lor],\n",
    "                    'Kappa Score':  [cohen_kappa_score(ytest_reset,lor_pred)],\n",
    "                    'Training Score':  [lor.score(xtrain_reset,ytrain_reset)],\n",
    "                    'Test Score':[lor.score(xtest_reset, ytest_reset)],\n",
    "                    'RMSE': [rmse_lor]\n",
    "                   })\n",
    "df2\n"
   ]
  },
  {
   "cell_type": "raw",
   "metadata": {},
   "source": [
    "Naive Bayes"
   ]
  },
  {
   "cell_type": "code",
   "execution_count": 15,
   "metadata": {},
   "outputs": [
    {
     "name": "stdout",
     "output_type": "stream",
     "text": [
      "Accuracy score is  0.7048269291838679\n",
      "Cohen Cappa score is 0.4096538583677358\n",
      "Training Accuracy : 0.7061047710710848\n",
      "Testing Accuracy : 0.7048269291838679\n",
      "              precision    recall  f1-score   support\n",
      "\n",
      "           0       0.86      0.49      0.62      3149\n",
      "           1       0.64      0.92      0.76      3149\n",
      "\n",
      "    accuracy                           0.70      6298\n",
      "   macro avg       0.75      0.70      0.69      6298\n",
      "weighted avg       0.75      0.70      0.69      6298\n",
      "\n",
      "[[1530 1619]\n",
      " [ 240 2909]]\n"
     ]
    },
    {
     "data": {
      "text/html": [
       "<div>\n",
       "<style scoped>\n",
       "    .dataframe tbody tr th:only-of-type {\n",
       "        vertical-align: middle;\n",
       "    }\n",
       "\n",
       "    .dataframe tbody tr th {\n",
       "        vertical-align: top;\n",
       "    }\n",
       "\n",
       "    .dataframe thead th {\n",
       "        text-align: right;\n",
       "    }\n",
       "</style>\n",
       "<table border=\"1\" class=\"dataframe\">\n",
       "  <thead>\n",
       "    <tr style=\"text-align: right;\">\n",
       "      <th></th>\n",
       "      <th>Model</th>\n",
       "      <th>Accuracy Score</th>\n",
       "      <th>Recall</th>\n",
       "      <th>Precision</th>\n",
       "      <th>Kappa Score</th>\n",
       "      <th>Training Score</th>\n",
       "      <th>Test Score</th>\n",
       "      <th>RMSE</th>\n",
       "    </tr>\n",
       "  </thead>\n",
       "  <tbody>\n",
       "    <tr>\n",
       "      <th>0</th>\n",
       "      <td>Logistic Regression</td>\n",
       "      <td>0.858209</td>\n",
       "      <td>0.833280</td>\n",
       "      <td>0.877005</td>\n",
       "      <td>0.716418</td>\n",
       "      <td>0.839406</td>\n",
       "      <td>0.858209</td>\n",
       "      <td>0.376552</td>\n",
       "    </tr>\n",
       "    <tr>\n",
       "      <th>1</th>\n",
       "      <td>Naive Bayes</td>\n",
       "      <td>0.704827</td>\n",
       "      <td>0.923785</td>\n",
       "      <td>0.642447</td>\n",
       "      <td>0.409654</td>\n",
       "      <td>0.706105</td>\n",
       "      <td>0.704827</td>\n",
       "      <td>0.543298</td>\n",
       "    </tr>\n",
       "  </tbody>\n",
       "</table>\n",
       "</div>"
      ],
      "text/plain": [
       "                 Model  Accuracy Score    Recall  Precision  Kappa Score  \\\n",
       "0  Logistic Regression        0.858209  0.833280   0.877005     0.716418   \n",
       "1          Naive Bayes        0.704827  0.923785   0.642447     0.409654   \n",
       "\n",
       "   Training Score  Test Score      RMSE  \n",
       "0        0.839406    0.858209  0.376552  \n",
       "1        0.706105    0.704827  0.543298  "
      ]
     },
     "execution_count": 15,
     "metadata": {},
     "output_type": "execute_result"
    }
   ],
   "source": [
    "## USING Naive Bayes\n",
    "\n",
    "from sklearn.naive_bayes import GaussianNB\n",
    "gnb = GaussianNB()\n",
    "gnb.fit(xtrain_reset, ytrain_reset)\n",
    "nb_pred = gnb.predict(xtest_reset)\n",
    "\n",
    "print(\"Accuracy score is \",accuracy_score(ytest_reset,nb_pred))\n",
    "print(\"Cohen Cappa score is\",cohen_kappa_score(ytest_reset,nb_pred))\n",
    "print(\"Training Accuracy :\", gnb.score(xtrain_reset,ytrain_reset))\n",
    "print(\"Testing Accuracy :\", gnb.score(xtest_reset, ytest_reset))\n",
    "print(classification_report(ytest_reset,nb_pred))\n",
    "\n",
    "confusion = confusion_matrix(ytest_reset, nb_pred)\n",
    "print(confusion)\n",
    "#[row, column]\n",
    "TP = confusion[1, 1]\n",
    "TN = confusion[0, 0]\n",
    "FP = confusion[0, 1]\n",
    "FN = confusion[1, 0]\n",
    "\n",
    "precision_nb = TP / float(TP + FP)\n",
    "\n",
    "## USING FORMULA\n",
    "sensitivity_nb = TP / float(FN + TP)\n",
    "\n",
    "rmse_nb = np.sqrt(mean_squared_error(ytest_reset, nb_pred))\n",
    "\n",
    "df2 = pd.DataFrame({'Model': ['Logistic Regression', 'Naive Bayes'],\n",
    "                    'Accuracy Score': [accuracy_score(ytest_reset,lor_pred), accuracy_score(ytest_reset,nb_pred)],\n",
    "                    'Recall': [sensitivity_lor, sensitivity_nb],\n",
    "                    'Precision': [precision_lor, precision_nb],\n",
    "                    'Kappa Score':  [cohen_kappa_score(ytest_reset,lor_pred), cohen_kappa_score(ytest_reset,nb_pred)],\n",
    "                    'Training Score':  [lor.score(xtrain_reset,ytrain_reset), gnb.score(xtrain_reset,ytrain_reset)],\n",
    "                    'Test Score':[lor.score(xtest_reset, ytest_reset), gnb.score(xtest_reset, ytest_reset)],\n",
    "                    'RMSE': [rmse_lor, rmse_nb]\n",
    "                   })\n",
    "df2"
   ]
  },
  {
   "cell_type": "raw",
   "metadata": {},
   "source": [
    "Random Forest"
   ]
  },
  {
   "cell_type": "code",
   "execution_count": 142,
   "metadata": {},
   "outputs": [
    {
     "name": "stdout",
     "output_type": "stream",
     "text": [
      "Shape of x_train : (8631, 28)\n",
      "Shape of y_train : (8631,)\n",
      "Shape of x_test : (3699, 28)\n",
      "Shape of y_test : (3699,)\n",
      "7273\n",
      "7273\n"
     ]
    }
   ],
   "source": [
    "x = df1.drop(['Revenue'], axis = 1)\n",
    "y = df1['Revenue']\n",
    "\n",
    "from sklearn.model_selection import train_test_split\n",
    "x_train, x_test, y_train, y_test = train_test_split(x, y, test_size = 0.3, random_state = 1)\n",
    "print(\"Shape of x_train :\", x_train.shape)\n",
    "print(\"Shape of y_train :\", y_train.shape)\n",
    "print(\"Shape of x_test :\", x_test.shape)\n",
    "print(\"Shape of y_test :\", y_test.shape)\n",
    "\n",
    "## Applying SMOTE\n",
    "\n",
    "from imblearn.over_sampling import SMOTE\n",
    "s=SMOTE(ratio='minority')\n",
    "xtrain_reset,ytrain_reset=s.fit_sample(x_train,y_train)\n",
    "xtest_reset,ytest_reset=s.fit_sample(x_test,y_test)\n",
    "print(sum(ytrain_reset==1))\n",
    "print(sum(ytrain_reset==0))\n",
    "\n",
    "from sklearn.preprocessing import StandardScaler\n",
    "sc = StandardScaler()\n",
    "\n",
    "xtrain_reset = sc.fit_transform(xtrain_reset)\n",
    "xtest_reset = sc.transform(xtest_reset)"
   ]
  },
  {
   "cell_type": "code",
   "execution_count": 143,
   "metadata": {},
   "outputs": [
    {
     "name": "stdout",
     "output_type": "stream",
     "text": [
      "[4.24124989e-02 5.36669113e-02 1.90787778e-02 2.56696681e-02\n",
      " 7.28054019e-02 9.52778424e-02 5.67203620e-02 7.47544136e-02\n",
      " 3.67018570e-01 4.46963474e-03 1.75211583e-02 2.06849129e-02\n",
      " 3.08986069e-02 3.27197917e-02 1.00937945e-02 3.32508706e-03\n",
      " 5.77538732e-03 7.85072049e-05 3.53454394e-03 2.93759159e-03\n",
      " 5.04444962e-03 6.68167790e-03 2.09575985e-02 3.32824027e-03\n",
      " 3.85845027e-03 8.92460987e-03 4.87557026e-04 1.12739548e-02]\n"
     ]
    },
    {
     "data": {
      "image/png": "[encoded data removed]",
      "text/plain": [
       "<Figure size 432x288 with 1 Axes>"
      ]
     },
     "metadata": {
      "needs_background": "light"
     },
     "output_type": "display_data"
    }
   ],
   "source": [
    "from sklearn.ensemble import RandomForestClassifier\n",
    "rf = RandomForestClassifier()\n",
    "rf.fit(xtrain_reset,ytrain_reset)\n",
    "rf.fit(x,y)\n",
    "print(rf.feature_importances_) #use inbuilt class feature_importances of tree based classifiers\n",
    "#plot graph of feature importances for better visualization\n",
    "feat_importances = pd.Series(rf.feature_importances_, index=x.columns)\n",
    "feat_importances.nlargest(10).plot(kind='barh')\n",
    "plt.show()"
   ]
  },
  {
   "cell_type": "code",
   "execution_count": 144,
   "metadata": {},
   "outputs": [
    {
     "name": "stdout",
     "output_type": "stream",
     "text": [
      "7273\n",
      "7273\n",
      "Accuracy score is  0.8974277548428072\n",
      "Cohen Cappa score is 0.7948555096856145\n",
      "Training Accuracy : 0.9950501856180394\n",
      "Testing Accuracy : 0.8974277548428072\n",
      "              precision    recall  f1-score   support\n",
      "\n",
      "           0       0.88      0.92      0.90      3149\n",
      "           1       0.92      0.87      0.89      3149\n",
      "\n",
      "    accuracy                           0.90      6298\n",
      "   macro avg       0.90      0.90      0.90      6298\n",
      "weighted avg       0.90      0.90      0.90      6298\n",
      "\n",
      "[[2911  238]\n",
      " [ 408 2741]]\n"
     ]
    }
   ],
   "source": [
    "x = df1.drop(['Informational','SpecialDay',\n",
    "       'OperatingSystems', 'Browser', 'Weekend', 'Month_Aug', 'Month_Dec', 'Month_Feb', 'Month_Jul',\n",
    "       'Month_June', 'Month_Mar', 'Month_May', 'Month_Nov', 'Month_Oct',\n",
    "       'Month_Sep', 'VisitorType_New_Visitor', 'VisitorType_Other',\n",
    "       'VisitorType_Returning_Visitor', 'Revenue'], axis = 1)\n",
    "y = df1['Revenue']\n",
    "\n",
    "from sklearn.model_selection import train_test_split\n",
    "x_train, x_test, y_train, y_test = train_test_split(x, y, test_size = 0.3, random_state = 1)\n",
    "\n",
    "## Applying SMOTE\n",
    "\n",
    "from imblearn.over_sampling import SMOTE\n",
    "s=SMOTE(ratio='minority')\n",
    "xtrain_reset,ytrain_reset=s.fit_sample(x_train,y_train)\n",
    "xtest_reset,ytest_reset=s.fit_sample(x_test,y_test)\n",
    "print(sum(ytrain_reset==1))\n",
    "print(sum(ytrain_reset==0))\n",
    "\n",
    "from sklearn.preprocessing import StandardScaler\n",
    "sc = StandardScaler()\n",
    "\n",
    "xtrain_reset = sc.fit_transform(xtrain_reset)\n",
    "xtest_reset = sc.transform(xtest_reset)\n",
    "from sklearn.ensemble import RandomForestClassifier\n",
    "rf = RandomForestClassifier()\n",
    "rf.fit(xtrain_reset,ytrain_reset)\n",
    "rf_pred = rf.predict(xtest_reset)\n",
    "\n",
    "print(\"Accuracy score is \",accuracy_score(ytest_reset,rf_pred))\n",
    "print(\"Cohen Cappa score is\",cohen_kappa_score(ytest_reset,rf_pred))\n",
    "print(\"Training Accuracy :\", rf.score(xtrain_reset,ytrain_reset))\n",
    "print(\"Testing Accuracy :\", rf.score(xtest_reset, ytest_reset))\n",
    "print(classification_report(ytest_reset,rf_pred))\n",
    "confusion = confusion_matrix(ytest_reset, rf_pred)\n",
    "print(confusion)\n"
   ]
  },
  {
   "cell_type": "raw",
   "metadata": {},
   "source": [
    "# Since we observe the problem of overfit, we will apply hyperparamter tuning"
   ]
  },
  {
   "cell_type": "code",
   "execution_count": 145,
   "metadata": {},
   "outputs": [
    {
     "name": "stdout",
     "output_type": "stream",
     "text": [
      "Fitting 3 folds for each of 3780 candidates, totalling 11340 fits\n"
     ]
    },
    {
     "name": "stderr",
     "output_type": "stream",
     "text": [
      "[Parallel(n_jobs=-1)]: Using backend LokyBackend with 8 concurrent workers.\n",
      "[Parallel(n_jobs=-1)]: Done  34 tasks      | elapsed:    3.7s\n",
      "[Parallel(n_jobs=-1)]: Done 546 tasks      | elapsed:    9.3s\n",
      "[Parallel(n_jobs=-1)]: Done 1546 tasks      | elapsed:   20.8s\n",
      "[Parallel(n_jobs=-1)]: Done 2946 tasks      | elapsed:   39.1s\n",
      "[Parallel(n_jobs=-1)]: Done 4746 tasks      | elapsed:  1.1min\n",
      "[Parallel(n_jobs=-1)]: Done 6946 tasks      | elapsed:  1.7min\n",
      "[Parallel(n_jobs=-1)]: Done 9546 tasks      | elapsed:  2.5min\n",
      "[Parallel(n_jobs=-1)]: Done 11340 out of 11340 | elapsed:  3.2min finished\n"
     ]
    }
   ],
   "source": [
    "from sklearn.model_selection import GridSearchCV, cross_val_score\n",
    "from sklearn.pipeline import Pipeline\n",
    "\n",
    "from sklearn.ensemble import RandomForestClassifier\n",
    "rf = RandomForestClassifier()\n",
    "rf.fit(xtrain_reset,ytrain_reset)\n",
    "rf_pred = rf.predict(xtest_reset)\n",
    "\n",
    "n_estimators = [x for x in range(1,10)]\n",
    "max_depth = [4, 5, 6, 7, 8]\n",
    "min_samples_split = [x for x in range(2,8)]\n",
    "min_samples_leaf = [x for x in range(1,8)] \n",
    "criterion = ['gini', 'entropy']\n",
    "\n",
    "\n",
    "hyperF = dict(n_estimators = n_estimators, max_depth = max_depth,  \n",
    "              min_samples_split = min_samples_split, \n",
    "             min_samples_leaf = min_samples_leaf, criterion = criterion)\n",
    "\n",
    "gridF = GridSearchCV(rf, hyperF, cv = 3, verbose = 1, \n",
    "                      n_jobs = -1)\n",
    "bestF = gridF.fit(xtrain_reset,ytrain_reset)"
   ]
  },
  {
   "cell_type": "code",
   "execution_count": 146,
   "metadata": {},
   "outputs": [
    {
     "data": {
      "text/plain": [
       "{'criterion': 'entropy',\n",
       " 'max_depth': 8,\n",
       " 'min_samples_leaf': 2,\n",
       " 'min_samples_split': 5,\n",
       " 'n_estimators': 9}"
      ]
     },
     "execution_count": 146,
     "metadata": {},
     "output_type": "execute_result"
    }
   ],
   "source": [
    "bestF.best_params_"
   ]
  },
  {
   "cell_type": "code",
   "execution_count": 147,
   "metadata": {},
   "outputs": [
    {
     "data": {
      "text/plain": [
       "RandomForestClassifier(bootstrap=True, class_weight=None, criterion='entropy',\n",
       "                       max_depth=8, max_features='auto', max_leaf_nodes=None,\n",
       "                       min_impurity_decrease=0.0, min_impurity_split=None,\n",
       "                       min_samples_leaf=2, min_samples_split=5,\n",
       "                       min_weight_fraction_leaf=0.0, n_estimators=9,\n",
       "                       n_jobs=None, oob_score=False, random_state=None,\n",
       "                       verbose=0, warm_start=False)"
      ]
     },
     "execution_count": 147,
     "metadata": {},
     "output_type": "execute_result"
    }
   ],
   "source": [
    "bestF.best_estimator_"
   ]
  },
  {
   "cell_type": "code",
   "execution_count": 148,
   "metadata": {},
   "outputs": [
    {
     "data": {
      "text/plain": [
       "0.9128282689399148"
      ]
     },
     "execution_count": 148,
     "metadata": {},
     "output_type": "execute_result"
    }
   ],
   "source": [
    "bestF.best_score_"
   ]
  },
  {
   "cell_type": "code",
   "execution_count": 149,
   "metadata": {},
   "outputs": [
    {
     "name": "stdout",
     "output_type": "stream",
     "text": [
      "Accuracy score is  0.9013972689742775\n",
      "Cohen Cappa score is 0.802794537948555\n",
      "Training Accuracy : 0.9192905266052523\n",
      "Testing Accuracy : 0.9013972689742775\n",
      "              precision    recall  f1-score   support\n",
      "\n",
      "           0       0.91      0.89      0.90      3149\n",
      "           1       0.89      0.91      0.90      3149\n",
      "\n",
      "    accuracy                           0.90      6298\n",
      "   macro avg       0.90      0.90      0.90      6298\n",
      "weighted avg       0.90      0.90      0.90      6298\n",
      "\n",
      "[[2804  345]\n",
      " [ 276 2873]]\n",
      "0.8927905531385955\n",
      "0.9123531279771356\n"
     ]
    },
    {
     "data": {
      "text/html": [
       "<div>\n",
       "<style scoped>\n",
       "    .dataframe tbody tr th:only-of-type {\n",
       "        vertical-align: middle;\n",
       "    }\n",
       "\n",
       "    .dataframe tbody tr th {\n",
       "        vertical-align: top;\n",
       "    }\n",
       "\n",
       "    .dataframe thead th {\n",
       "        text-align: right;\n",
       "    }\n",
       "</style>\n",
       "<table border=\"1\" class=\"dataframe\">\n",
       "  <thead>\n",
       "    <tr style=\"text-align: right;\">\n",
       "      <th></th>\n",
       "      <th>Model</th>\n",
       "      <th>Accuracy Score</th>\n",
       "      <th>Recall</th>\n",
       "      <th>Precision</th>\n",
       "      <th>Kappa Score</th>\n",
       "      <th>Training Score</th>\n",
       "      <th>Test Score</th>\n",
       "      <th>RMSE</th>\n",
       "    </tr>\n",
       "  </thead>\n",
       "  <tbody>\n",
       "    <tr>\n",
       "      <th>0</th>\n",
       "      <td>Logistic Regression</td>\n",
       "      <td>0.852652</td>\n",
       "      <td>0.804065</td>\n",
       "      <td>0.890609</td>\n",
       "      <td>0.705303</td>\n",
       "      <td>0.835006</td>\n",
       "      <td>0.852652</td>\n",
       "      <td>0.383860</td>\n",
       "    </tr>\n",
       "    <tr>\n",
       "      <th>1</th>\n",
       "      <td>Naive Bayes</td>\n",
       "      <td>0.763099</td>\n",
       "      <td>0.638298</td>\n",
       "      <td>0.850614</td>\n",
       "      <td>0.526199</td>\n",
       "      <td>0.745910</td>\n",
       "      <td>0.763099</td>\n",
       "      <td>0.486724</td>\n",
       "    </tr>\n",
       "    <tr>\n",
       "      <th>2</th>\n",
       "      <td>Random Forest Classifier</td>\n",
       "      <td>0.901397</td>\n",
       "      <td>0.912353</td>\n",
       "      <td>0.892791</td>\n",
       "      <td>0.802795</td>\n",
       "      <td>0.919291</td>\n",
       "      <td>0.901397</td>\n",
       "      <td>0.314011</td>\n",
       "    </tr>\n",
       "  </tbody>\n",
       "</table>\n",
       "</div>"
      ],
      "text/plain": [
       "                      Model  Accuracy Score    Recall  Precision  Kappa Score  \\\n",
       "0       Logistic Regression        0.852652  0.804065   0.890609     0.705303   \n",
       "1               Naive Bayes        0.763099  0.638298   0.850614     0.526199   \n",
       "2  Random Forest Classifier        0.901397  0.912353   0.892791     0.802795   \n",
       "\n",
       "   Training Score  Test Score      RMSE  \n",
       "0        0.835006    0.852652  0.383860  \n",
       "1        0.745910    0.763099  0.486724  \n",
       "2        0.919291    0.901397  0.314011  "
      ]
     },
     "execution_count": 149,
     "metadata": {},
     "output_type": "execute_result"
    }
   ],
   "source": [
    "from sklearn.ensemble import RandomForestClassifier\n",
    "rf = RandomForestClassifier(criterion='entropy', max_depth=8, min_samples_leaf=2, min_samples_split=5, n_estimators=9)\n",
    "rf.fit(xtrain_reset,ytrain_reset)\n",
    "rf_pred = rf.predict(xtest_reset)\n",
    "\n",
    "print(\"Accuracy score is \",accuracy_score(ytest_reset,rf_pred))\n",
    "print(\"Cohen Cappa score is\",cohen_kappa_score(ytest_reset,rf_pred))\n",
    "print(\"Training Accuracy :\", rf.score(xtrain_reset,ytrain_reset))\n",
    "print(\"Testing Accuracy :\", rf.score(xtest_reset, ytest_reset))\n",
    "print(classification_report(ytest_reset,rf_pred))\n",
    "\n",
    "confusion = confusion_matrix(ytest_reset, rf_pred)\n",
    "print(confusion)\n",
    "#[row, column]\n",
    "TP = confusion[1, 1]\n",
    "TN = confusion[0, 0]\n",
    "FP = confusion[0, 1]\n",
    "FN = confusion[1, 0]\n",
    "\n",
    "precision_rf = TP / float(TP + FP)\n",
    "print(precision_rf)\n",
    "\n",
    "sensitivity_rf = TP / float(FN + TP)\n",
    "print(sensitivity_rf)\n",
    "\n",
    "rmse_rf = np.sqrt(mean_squared_error(ytest_reset, rf_pred))\n",
    "rmse_rf\n",
    "\n",
    "df2 = pd.DataFrame({'Model': ['Logistic Regression', 'Naive Bayes', 'Random Forest Classifier'],\n",
    "                    'Accuracy Score': [0.852652, 0.763099, accuracy_score(ytest_reset,rf_pred)],\n",
    "                    'Recall': [0.804065, 0.638298, sensitivity_rf],\n",
    "                    'Precision': [0.890609, 0.850614, precision_rf],\n",
    "                    'Kappa Score':  [0.705303, 0.526199, cohen_kappa_score(ytest_reset, rf_pred)],\n",
    "                    'Training Score':  [0.835006, 0.745910, rf.score(xtrain_reset,ytrain_reset)],\n",
    "                    'Test Score':[0.852652, 0.763099, rf.score(xtest_reset, ytest_reset)],\n",
    "                    'RMSE': [0.383860, 0.486724, rmse_rf]\n",
    "                   })\n",
    "df2"
   ]
  },
  {
   "cell_type": "raw",
   "metadata": {},
   "source": [
    "Decision Tree"
   ]
  },
  {
   "cell_type": "code",
   "execution_count": 150,
   "metadata": {},
   "outputs": [
    {
     "name": "stdout",
     "output_type": "stream",
     "text": [
      "Shape of x_train : (8631, 28)\n",
      "Shape of y_train : (8631,)\n",
      "Shape of x_test : (3699, 28)\n",
      "Shape of y_test : (3699,)\n",
      "7273\n",
      "7273\n"
     ]
    }
   ],
   "source": [
    "x = df1.drop(['Revenue'], axis = 1)\n",
    "y = df1['Revenue']\n",
    "\n",
    "from sklearn.model_selection import train_test_split\n",
    "x_train, x_test, y_train, y_test = train_test_split(x, y, test_size = 0.3, random_state = 1)\n",
    "print(\"Shape of x_train :\", x_train.shape)\n",
    "print(\"Shape of y_train :\", y_train.shape)\n",
    "print(\"Shape of x_test :\", x_test.shape)\n",
    "print(\"Shape of y_test :\", y_test.shape)\n",
    "\n",
    "## Applying SMOTE\n",
    "\n",
    "from imblearn.over_sampling import SMOTE\n",
    "s=SMOTE(ratio='minority')\n",
    "xtrain_reset,ytrain_reset=s.fit_sample(x_train,y_train)\n",
    "xtest_reset,ytest_reset=s.fit_sample(x_test,y_test)\n",
    "print(sum(ytrain_reset==1))\n",
    "print(sum(ytrain_reset==0))\n",
    "\n",
    "from sklearn.preprocessing import StandardScaler\n",
    "sc = StandardScaler()\n",
    "\n",
    "xtrain_reset = sc.fit_transform(xtrain_reset)\n",
    "xtest_reset = sc.transform(xtest_reset)"
   ]
  },
  {
   "cell_type": "code",
   "execution_count": 115,
   "metadata": {},
   "outputs": [
    {
     "name": "stdout",
     "output_type": "stream",
     "text": [
      "[0.04136524 0.05228964 0.01091006 0.02355625 0.06423102 0.07709431\n",
      " 0.08368967 0.06761745 0.41645913 0.00364824 0.01775971 0.01689453\n",
      " 0.03485172 0.02212525 0.01017494 0.00201424 0.00397978 0.00101602\n",
      " 0.0014721  0.00155048 0.00515367 0.00449746 0.02492648 0.00276462\n",
      " 0.00198204 0.00327023 0.00105924 0.00364648]\n"
     ]
    },
    {
     "data": {
      "image/png": "[encoded data removed]",
      "text/plain": [
       "<Figure size 432x288 with 1 Axes>"
      ]
     },
     "metadata": {
      "needs_background": "light"
     },
     "output_type": "display_data"
    }
   ],
   "source": [
    "from sklearn.tree import DecisionTreeClassifier\n",
    "dtree = DecisionTreeClassifier()\n",
    "dtree.fit(xtrain_reset,ytrain_reset)\n",
    "dtree.fit(x,y)\n",
    "print(dtree.feature_importances_) #use inbuilt class feature_importances of tree based classifiers\n",
    "#plot graph of feature importances for better visualization\n",
    "feat_importances = pd.Series(dtree.feature_importances_, index=x.columns)\n",
    "feat_importances.nlargest(10).plot(kind='barh')\n",
    "plt.show()"
   ]
  },
  {
   "cell_type": "code",
   "execution_count": 116,
   "metadata": {},
   "outputs": [
    {
     "name": "stdout",
     "output_type": "stream",
     "text": [
      "7273\n",
      "7273\n",
      "Accuracy score is  0.8577326135281041\n",
      "Cohen Cappa score is 0.7154652270562083\n",
      "Training Accuracy : 0.9998625051560567\n",
      "Testing Accuracy : 0.8577326135281041\n",
      "              precision    recall  f1-score   support\n",
      "\n",
      "           0       0.83      0.89      0.86      3149\n",
      "           1       0.88      0.82      0.85      3149\n",
      "\n",
      "    accuracy                           0.86      6298\n",
      "   macro avg       0.86      0.86      0.86      6298\n",
      "weighted avg       0.86      0.86      0.86      6298\n",
      "\n"
     ]
    }
   ],
   "source": [
    "x = df1.drop(['Informational','SpecialDay',\n",
    "       'OperatingSystems', 'Browser', 'Weekend', 'TrafficType', 'Month_Aug', 'Month_Dec', 'Month_Feb', 'Month_Jul',\n",
    "       'Month_June', 'Month_Mar', 'Month_May',  'Month_Oct',\n",
    "       'Month_Sep', 'VisitorType_New_Visitor', 'VisitorType_Other',\n",
    "       'VisitorType_Returning_Visitor', 'Revenue'], axis = 1)\n",
    "y = df1['Revenue']\n",
    "\n",
    "from sklearn.model_selection import train_test_split\n",
    "x_train, x_test, y_train, y_test = train_test_split(x, y, test_size = 0.3, random_state = 1)\n",
    "\n",
    "## Applying SMOTE\n",
    "\n",
    "from imblearn.over_sampling import SMOTE\n",
    "s=SMOTE(ratio='minority')\n",
    "xtrain_reset,ytrain_reset=s.fit_sample(x_train,y_train)\n",
    "xtest_reset,ytest_reset=s.fit_sample(x_test,y_test)\n",
    "print(sum(ytrain_reset==1))\n",
    "print(sum(ytrain_reset==0))\n",
    "\n",
    "from sklearn.preprocessing import StandardScaler\n",
    "sc = StandardScaler()\n",
    "\n",
    "xtrain_reset = sc.fit_transform(xtrain_reset)\n",
    "xtest_reset = sc.transform(xtest_reset)\n",
    "\n",
    "from sklearn.tree import DecisionTreeClassifier\n",
    "dtree = DecisionTreeClassifier()\n",
    "dtree.fit(xtrain_reset,ytrain_reset)\n",
    "dtree_pred = dtree.predict(xtest_reset)\n",
    "\n",
    "print(\"Accuracy score is \",accuracy_score(ytest_reset,dtree_pred))\n",
    "print(\"Cohen Cappa score is\",cohen_kappa_score(ytest_reset,dtree_pred))\n",
    "print(\"Training Accuracy :\", dtree.score(xtrain_reset,ytrain_reset))\n",
    "print(\"Testing Accuracy :\", dtree.score(xtest_reset, ytest_reset))\n",
    "print(classification_report(ytest_reset,dtree_pred))\n"
   ]
  },
  {
   "cell_type": "raw",
   "metadata": {},
   "source": [
    "Since we observe the problem of overfit, we will apply hyperparamter tuning"
   ]
  },
  {
   "cell_type": "code",
   "execution_count": 117,
   "metadata": {},
   "outputs": [
    {
     "name": "stdout",
     "output_type": "stream",
     "text": [
      "Best Criterion: entropy\n",
      "Best max_depth: 3\n",
      "DecisionTreeClassifier(class_weight=None, criterion='entropy', max_depth=3,\n",
      "                       max_features=None, max_leaf_nodes=None,\n",
      "                       min_impurity_decrease=0.0, min_impurity_split=None,\n",
      "                       min_samples_leaf=1, min_samples_split=2,\n",
      "                       min_weight_fraction_leaf=0.0, presort=False,\n",
      "                       random_state=None, splitter='best')\n"
     ]
    }
   ],
   "source": [
    "def decision_tree():\n",
    "    from sklearn import tree\n",
    "    from sklearn.model_selection import GridSearchCV, cross_val_score\n",
    "    from sklearn.pipeline import Pipeline\n",
    "\n",
    "    decisiontree = tree.DecisionTreeClassifier()\n",
    "\n",
    "    pipe = Pipeline(steps=[('sc', sc),\n",
    "                           ('decisiontree', decisiontree)])\n",
    "\n",
    "    n_components = list(range(1,7))\n",
    "\n",
    "    criterion = ['gini', 'entropy']\n",
    "    max_depth = [1,2,3,4,5]\n",
    "\n",
    "    parameters = dict(decisiontree__criterion=criterion,\n",
    "                      decisiontree__max_depth=max_depth)\n",
    "\n",
    "    clf = GridSearchCV(pipe, parameters)\n",
    "\n",
    "    clf.fit(xtrain_reset,ytrain_reset)\n",
    "\n",
    "    print('Best Criterion:', clf.best_estimator_.get_params()['decisiontree__criterion'])\n",
    "    print('Best max_depth:', clf.best_estimator_.get_params()['decisiontree__max_depth'])\n",
    "    print(clf.best_estimator_.get_params()['decisiontree'])\n",
    "\n",
    "\n",
    "\n",
    "decision_tree()\n"
   ]
  },
  {
   "cell_type": "code",
   "execution_count": 120,
   "metadata": {},
   "outputs": [
    {
     "name": "stdout",
     "output_type": "stream",
     "text": [
      "Accuracy score is  0.8990155604953953\n",
      "Cohen Cappa score is 0.7980311209907908\n",
      "Training Accuracy : 0.9085659287776708\n",
      "Testing Accuracy : 0.8990155604953953\n",
      "              precision    recall  f1-score   support\n",
      "\n",
      "           0       0.92      0.88      0.90      3149\n",
      "           1       0.88      0.92      0.90      3149\n",
      "\n",
      "    accuracy                           0.90      6298\n",
      "   macro avg       0.90      0.90      0.90      6298\n",
      "weighted avg       0.90      0.90      0.90      6298\n",
      "\n",
      "[[2769  380]\n",
      " [ 256 2893]]\n",
      "0.8838985640085548\n",
      "0.9187043505874881\n"
     ]
    },
    {
     "data": {
      "text/html": [
       "<div>\n",
       "<style scoped>\n",
       "    .dataframe tbody tr th:only-of-type {\n",
       "        vertical-align: middle;\n",
       "    }\n",
       "\n",
       "    .dataframe tbody tr th {\n",
       "        vertical-align: top;\n",
       "    }\n",
       "\n",
       "    .dataframe thead th {\n",
       "        text-align: right;\n",
       "    }\n",
       "</style>\n",
       "<table border=\"1\" class=\"dataframe\">\n",
       "  <thead>\n",
       "    <tr style=\"text-align: right;\">\n",
       "      <th></th>\n",
       "      <th>Model</th>\n",
       "      <th>Accuracy Score</th>\n",
       "      <th>Recall</th>\n",
       "      <th>Precision</th>\n",
       "      <th>Kappa Score</th>\n",
       "      <th>Training Score</th>\n",
       "      <th>Test Score</th>\n",
       "      <th>RMSE</th>\n",
       "    </tr>\n",
       "  </thead>\n",
       "  <tbody>\n",
       "    <tr>\n",
       "      <th>0</th>\n",
       "      <td>Logistic Regression</td>\n",
       "      <td>0.852652</td>\n",
       "      <td>0.804065</td>\n",
       "      <td>0.890609</td>\n",
       "      <td>0.705303</td>\n",
       "      <td>0.835006</td>\n",
       "      <td>0.852652</td>\n",
       "      <td>0.383860</td>\n",
       "    </tr>\n",
       "    <tr>\n",
       "      <th>1</th>\n",
       "      <td>Naive Bayes</td>\n",
       "      <td>0.763099</td>\n",
       "      <td>0.638298</td>\n",
       "      <td>0.850614</td>\n",
       "      <td>0.526199</td>\n",
       "      <td>0.745910</td>\n",
       "      <td>0.763099</td>\n",
       "      <td>0.486724</td>\n",
       "    </tr>\n",
       "    <tr>\n",
       "      <th>2</th>\n",
       "      <td>Random Forest Classifier</td>\n",
       "      <td>0.895205</td>\n",
       "      <td>0.901238</td>\n",
       "      <td>0.890493</td>\n",
       "      <td>0.790410</td>\n",
       "      <td>0.920115</td>\n",
       "      <td>0.895205</td>\n",
       "      <td>0.323721</td>\n",
       "    </tr>\n",
       "    <tr>\n",
       "      <th>3</th>\n",
       "      <td>Decision Tree</td>\n",
       "      <td>0.899016</td>\n",
       "      <td>0.918704</td>\n",
       "      <td>0.883899</td>\n",
       "      <td>0.798031</td>\n",
       "      <td>0.908566</td>\n",
       "      <td>0.899016</td>\n",
       "      <td>0.317780</td>\n",
       "    </tr>\n",
       "  </tbody>\n",
       "</table>\n",
       "</div>"
      ],
      "text/plain": [
       "                      Model  Accuracy Score    Recall  Precision  Kappa Score  \\\n",
       "0       Logistic Regression        0.852652  0.804065   0.890609     0.705303   \n",
       "1               Naive Bayes        0.763099  0.638298   0.850614     0.526199   \n",
       "2  Random Forest Classifier        0.895205  0.901238   0.890493     0.790410   \n",
       "3             Decision Tree        0.899016  0.918704   0.883899     0.798031   \n",
       "\n",
       "   Training Score  Test Score      RMSE  \n",
       "0        0.835006    0.852652  0.383860  \n",
       "1        0.745910    0.763099  0.486724  \n",
       "2        0.920115    0.895205  0.323721  \n",
       "3        0.908566    0.899016  0.317780  "
      ]
     },
     "execution_count": 120,
     "metadata": {},
     "output_type": "execute_result"
    }
   ],
   "source": [
    "from sklearn.tree import DecisionTreeClassifier\n",
    "dtree = DecisionTreeClassifier(criterion='entropy', max_depth=3)\n",
    "dtree.fit(xtrain_reset,ytrain_reset)\n",
    "dtree_pred = dtree.predict(xtest_reset)\n",
    "\n",
    "print(\"Accuracy score is \",accuracy_score(ytest_reset,dtree_pred))\n",
    "print(\"Cohen Cappa score is\",cohen_kappa_score(ytest_reset,dtree_pred))\n",
    "print(\"Training Accuracy :\", dtree.score(xtrain_reset,ytrain_reset))\n",
    "print(\"Testing Accuracy :\", dtree.score(xtest_reset, ytest_reset))\n",
    "print(classification_report(ytest_reset,dtree_pred))\n",
    "\n",
    "confusion = confusion_matrix(ytest_reset, dtree_pred)\n",
    "print(confusion)\n",
    "#[row, column]\n",
    "TP = confusion[1, 1]\n",
    "TN = confusion[0, 0]\n",
    "FP = confusion[0, 1]\n",
    "FN = confusion[1, 0]\n",
    "\n",
    "precision_dtree = TP / float(TP + FP)\n",
    "print(precision_dtree)\n",
    "\n",
    "## USING FORMULA\n",
    "sensitivity_dtree = TP / float(FN + TP)\n",
    "print(sensitivity_dtree)\n",
    "\n",
    "rmse_dtree = np.sqrt(mean_squared_error(ytest_reset, dtree_pred))\n",
    "rmse_dtree\n",
    "df2 = pd.DataFrame({'Model': ['Logistic Regression', 'Naive Bayes', 'Random Forest Classifier', 'Decision Tree'],\n",
    "                    'Accuracy Score': [0.852652, 0.763099, 0.895205,accuracy_score(ytest_reset,dtree_pred)],\n",
    "                    'Recall': [0.804065, 0.638298, 0.901238,sensitivity_dtree],\n",
    "                    'Precision': [0.890609, 0.850614, 0.890493,precision_dtree],\n",
    "                    'Kappa Score':  [0.705303, 0.526199, 0.790410,cohen_kappa_score(ytest_reset, dtree_pred)],\n",
    "                    'Training Score':  [0.835006, 0.745910, 0.920115,dtree.score(xtrain_reset,ytrain_reset)],\n",
    "                    'Test Score':[0.852652, 0.763099, 0.895205,dtree.score(xtest_reset, ytest_reset)],\n",
    "                    'RMSE': [0.383860, 0.486724, 0.323721,rmse_dtree]\n",
    "                   })\n",
    "df2\n"
   ]
  },
  {
   "cell_type": "raw",
   "metadata": {},
   "source": [
    "Adaboost"
   ]
  },
  {
   "cell_type": "code",
   "execution_count": 121,
   "metadata": {},
   "outputs": [
    {
     "name": "stdout",
     "output_type": "stream",
     "text": [
      "Shape of x_train : (8631, 28)\n",
      "Shape of y_train : (8631,)\n",
      "Shape of x_test : (3699, 28)\n",
      "Shape of y_test : (3699,)\n",
      "7273\n",
      "7273\n",
      "[0.04 0.02 0.   0.   0.06 0.1  0.06 0.16 0.18 0.02 0.   0.02 0.04 0.1\n",
      " 0.   0.02 0.   0.02 0.02 0.   0.02 0.02 0.02 0.02 0.02 0.   0.   0.04]\n"
     ]
    },
    {
     "data": {
      "image/png": "[encoded data removed]",
      "text/plain": [
       "<Figure size 432x288 with 1 Axes>"
      ]
     },
     "metadata": {
      "needs_background": "light"
     },
     "output_type": "display_data"
    }
   ],
   "source": [
    "x = df1.drop(['Revenue'], axis = 1)\n",
    "y = df1['Revenue']\n",
    "\n",
    "from sklearn.model_selection import train_test_split\n",
    "x_train, x_test, y_train, y_test = train_test_split(x, y, test_size = 0.3, random_state = 1)\n",
    "print(\"Shape of x_train :\", x_train.shape)\n",
    "print(\"Shape of y_train :\", y_train.shape)\n",
    "print(\"Shape of x_test :\", x_test.shape)\n",
    "print(\"Shape of y_test :\", y_test.shape)\n",
    "\n",
    "## Applying SMOTE\n",
    "\n",
    "from imblearn.over_sampling import SMOTE\n",
    "s=SMOTE(ratio='minority')\n",
    "xtrain_reset,ytrain_reset=s.fit_sample(x_train,y_train)\n",
    "xtest_reset,ytest_reset=s.fit_sample(x_test,y_test)\n",
    "print(sum(ytrain_reset==1))\n",
    "print(sum(ytrain_reset==0))\n",
    "\n",
    "from sklearn.preprocessing import StandardScaler\n",
    "sc = StandardScaler()\n",
    "\n",
    "xtrain_reset = sc.fit_transform(xtrain_reset)\n",
    "xtest_reset = sc.transform(xtest_reset)\n",
    "from sklearn.ensemble import AdaBoostClassifier\n",
    "adab = AdaBoostClassifier()\n",
    "adab.fit(xtrain_reset,ytrain_reset)\n",
    "adab.fit(x,y)\n",
    "print(adab.feature_importances_) #use inbuilt class feature_importances of tree based classifiers\n",
    "#plot graph of feature importances for better visualization\n",
    "feat_importances = pd.Series(adab.feature_importances_, index=x.columns)\n",
    "feat_importances.nlargest(10).plot(kind='barh')\n",
    "plt.show()"
   ]
  },
  {
   "cell_type": "code",
   "execution_count": 123,
   "metadata": {},
   "outputs": [
    {
     "name": "stdout",
     "output_type": "stream",
     "text": [
      "7273\n",
      "7273\n",
      "The Accuracy Score is 0.9045728802794538\n",
      "The Kappa Score is 0.8091457605589076\n",
      "Training Accuracy : 0.9139282276914615\n",
      "Testing Accuracy : 0.9045728802794538\n",
      "              precision    recall  f1-score   support\n",
      "\n",
      "           0       0.92      0.89      0.90      3149\n",
      "           1       0.89      0.92      0.91      3149\n",
      "\n",
      "    accuracy                           0.90      6298\n",
      "   macro avg       0.91      0.90      0.90      6298\n",
      "weighted avg       0.91      0.90      0.90      6298\n",
      "\n",
      "[[2792  357]\n",
      " [ 244 2905]]\n",
      "0.8905579399141631\n",
      "0.9225150841536995\n"
     ]
    },
    {
     "data": {
      "text/html": [
       "<div>\n",
       "<style scoped>\n",
       "    .dataframe tbody tr th:only-of-type {\n",
       "        vertical-align: middle;\n",
       "    }\n",
       "\n",
       "    .dataframe tbody tr th {\n",
       "        vertical-align: top;\n",
       "    }\n",
       "\n",
       "    .dataframe thead th {\n",
       "        text-align: right;\n",
       "    }\n",
       "</style>\n",
       "<table border=\"1\" class=\"dataframe\">\n",
       "  <thead>\n",
       "    <tr style=\"text-align: right;\">\n",
       "      <th></th>\n",
       "      <th>Model</th>\n",
       "      <th>Accuracy Score</th>\n",
       "      <th>Recall</th>\n",
       "      <th>Precision</th>\n",
       "      <th>Kappa Score</th>\n",
       "      <th>Training Score</th>\n",
       "      <th>Test Score</th>\n",
       "      <th>RMSE</th>\n",
       "    </tr>\n",
       "  </thead>\n",
       "  <tbody>\n",
       "    <tr>\n",
       "      <th>0</th>\n",
       "      <td>Logistic Regression</td>\n",
       "      <td>0.852652</td>\n",
       "      <td>0.804065</td>\n",
       "      <td>0.890609</td>\n",
       "      <td>0.705303</td>\n",
       "      <td>0.835006</td>\n",
       "      <td>0.852652</td>\n",
       "      <td>0.383860</td>\n",
       "    </tr>\n",
       "    <tr>\n",
       "      <th>1</th>\n",
       "      <td>Naive Bayes</td>\n",
       "      <td>0.763099</td>\n",
       "      <td>0.638298</td>\n",
       "      <td>0.850614</td>\n",
       "      <td>0.526199</td>\n",
       "      <td>0.745910</td>\n",
       "      <td>0.763099</td>\n",
       "      <td>0.486724</td>\n",
       "    </tr>\n",
       "    <tr>\n",
       "      <th>2</th>\n",
       "      <td>Random Forest Classifier</td>\n",
       "      <td>0.895205</td>\n",
       "      <td>0.901238</td>\n",
       "      <td>0.890493</td>\n",
       "      <td>0.790410</td>\n",
       "      <td>0.920115</td>\n",
       "      <td>0.895205</td>\n",
       "      <td>0.323721</td>\n",
       "    </tr>\n",
       "    <tr>\n",
       "      <th>3</th>\n",
       "      <td>Decision Tree</td>\n",
       "      <td>0.899016</td>\n",
       "      <td>0.918704</td>\n",
       "      <td>0.883899</td>\n",
       "      <td>0.798031</td>\n",
       "      <td>0.908566</td>\n",
       "      <td>0.899016</td>\n",
       "      <td>0.317780</td>\n",
       "    </tr>\n",
       "    <tr>\n",
       "      <th>4</th>\n",
       "      <td>Ada Boosting</td>\n",
       "      <td>0.904573</td>\n",
       "      <td>0.922515</td>\n",
       "      <td>0.890558</td>\n",
       "      <td>0.809146</td>\n",
       "      <td>0.913928</td>\n",
       "      <td>0.904573</td>\n",
       "      <td>0.308913</td>\n",
       "    </tr>\n",
       "  </tbody>\n",
       "</table>\n",
       "</div>"
      ],
      "text/plain": [
       "                      Model  Accuracy Score    Recall  Precision  Kappa Score  \\\n",
       "0       Logistic Regression        0.852652  0.804065   0.890609     0.705303   \n",
       "1               Naive Bayes        0.763099  0.638298   0.850614     0.526199   \n",
       "2  Random Forest Classifier        0.895205  0.901238   0.890493     0.790410   \n",
       "3             Decision Tree        0.899016  0.918704   0.883899     0.798031   \n",
       "4              Ada Boosting        0.904573  0.922515   0.890558     0.809146   \n",
       "\n",
       "   Training Score  Test Score      RMSE  \n",
       "0        0.835006    0.852652  0.383860  \n",
       "1        0.745910    0.763099  0.486724  \n",
       "2        0.920115    0.895205  0.323721  \n",
       "3        0.908566    0.899016  0.317780  \n",
       "4        0.913928    0.904573  0.308913  "
      ]
     },
     "execution_count": 123,
     "metadata": {},
     "output_type": "execute_result"
    }
   ],
   "source": [
    "x = df1.drop(['Informational', 'Informational_Duration', 'Revenue', 'SpecialDay',\n",
    "       'OperatingSystems', 'Browser','Weekend', 'Month_Aug', 'Month_Dec', 'Month_Feb', 'Month_Jul',\n",
    "       'Month_June', 'Month_Mar', 'Month_May', 'Month_Nov', 'Month_Oct',\n",
    "       'Month_Sep', 'VisitorType_New_Visitor', 'VisitorType_Other',], axis = 1)\n",
    "y = df1['Revenue']\n",
    "\n",
    "from sklearn.model_selection import train_test_split\n",
    "x_train, x_test, y_train, y_test = train_test_split(x, y, test_size = 0.3, random_state = 1)\n",
    "\n",
    "## Applying SMOTE\n",
    "\n",
    "from imblearn.over_sampling import SMOTE\n",
    "s=SMOTE(ratio='minority')\n",
    "xtrain_reset,ytrain_reset=s.fit_sample(x_train,y_train)\n",
    "xtest_reset,ytest_reset=s.fit_sample(x_test,y_test)\n",
    "print(sum(ytrain_reset==1))\n",
    "print(sum(ytrain_reset==0))\n",
    "\n",
    "from sklearn.preprocessing import StandardScaler\n",
    "sc = StandardScaler()\n",
    "\n",
    "xtrain_reset = sc.fit_transform(xtrain_reset)\n",
    "xtest_reset = sc.transform(xtest_reset)\n",
    "\n",
    "from sklearn.ensemble import AdaBoostClassifier\n",
    "adab = AdaBoostClassifier()\n",
    "\n",
    "pred_adab = adab.fit(xtrain_reset, ytrain_reset).predict(xtest_reset)\n",
    "\n",
    "print(\"The Accuracy Score is\",accuracy_score(ytest_reset,pred_adab))\n",
    "print(\"The Kappa Score is\",cohen_kappa_score(ytest_reset,pred_adab))\n",
    "print(\"Training Accuracy :\", adab.score(xtrain_reset,ytrain_reset))\n",
    "print(\"Testing Accuracy :\", adab.score(xtest_reset, ytest_reset))\n",
    "print(classification_report(ytest_reset,pred_adab))\n",
    "\n",
    "confusion = confusion_matrix(ytest_reset, pred_adab)\n",
    "print(confusion)\n",
    "TP = confusion[1, 1]\n",
    "TN = confusion[0, 0]\n",
    "FP = confusion[0, 1]\n",
    "FN = confusion[1, 0]\n",
    "\n",
    "precision_adab = TP / float(TP + FP)\n",
    "print(precision_adab)\n",
    "\n",
    "sensitivity_adab = TP / float(FN + TP)\n",
    "print(sensitivity_adab)\n",
    "\n",
    "rmse_adab = np.sqrt(mean_squared_error(ytest_reset, pred_adab))\n",
    "rmse_adab\n",
    "\n",
    "df2 = pd.DataFrame({'Model': ['Logistic Regression', 'Naive Bayes', 'Random Forest Classifier', 'Decision Tree', 'Ada Boosting'],\n",
    "                    'Accuracy Score': [0.852652, 0.763099, 0.895205, 0.899016,accuracy_score(ytest_reset,pred_adab)],\n",
    "                    'Recall': [0.804065, 0.638298, 0.901238, 0.918704,sensitivity_adab],\n",
    "                    'Precision': [0.890609, 0.850614, 0.890493, 0.883899,precision_adab],\n",
    "                    'Kappa Score':  [0.705303, 0.526199, 0.790410, 0.798031,cohen_kappa_score(ytest_reset, pred_adab)],\n",
    "                    'Training Score':  [0.835006, 0.745910, 0.920115, 0.908566,adab.score(xtrain_reset,ytrain_reset)],\n",
    "                    'Test Score':[0.852652, 0.763099, 0.895205, 0.899016,adab.score(xtest_reset, ytest_reset)],\n",
    "                    'RMSE': [0.383860, 0.486724, 0.323721, 0.317780,rmse_adab]\n",
    "                   })\n",
    "df2\n"
   ]
  },
  {
   "cell_type": "code",
   "execution_count": null,
   "metadata": {},
   "outputs": [],
   "source": []
  },
  {
   "cell_type": "code",
   "execution_count": null,
   "metadata": {},
   "outputs": [],
   "source": []
  },
  {
   "cell_type": "raw",
   "metadata": {},
   "source": [
    "Gradient Boosting"
   ]
  },
  {
   "cell_type": "code",
   "execution_count": 124,
   "metadata": {},
   "outputs": [
    {
     "name": "stdout",
     "output_type": "stream",
     "text": [
      "Shape of x_train : (8631, 28)\n",
      "Shape of y_train : (8631,)\n",
      "Shape of x_test : (3699, 28)\n",
      "Shape of y_test : (3699,)\n",
      "7273\n",
      "7273\n",
      "[2.49804779e-02 1.38165169e-02 1.83596724e-03 3.25940964e-03\n",
      " 2.28192343e-02 2.61430414e-02 3.99702743e-02 2.60293524e-02\n",
      " 7.60405287e-01 5.24755525e-04 6.72898320e-04 1.19059657e-03\n",
      " 1.83177377e-03 4.43503980e-03 5.32707003e-04 2.13149631e-04\n",
      " 7.61376824e-04 0.00000000e+00 2.24484420e-04 1.21397602e-03\n",
      " 4.49530982e-03 7.56438178e-03 4.49523509e-02 2.38665961e-04\n",
      " 1.26969403e-03 2.99920288e-03 0.00000000e+00 7.62007531e-03]\n"
     ]
    },
    {
     "data": {
      "image/png": "[encoded data removed]",
      "text/plain": [
       "<Figure size 432x288 with 1 Axes>"
      ]
     },
     "metadata": {
      "needs_background": "light"
     },
     "output_type": "display_data"
    }
   ],
   "source": [
    "x = df1.drop(['Revenue'], axis = 1)\n",
    "y = df1['Revenue']\n",
    "\n",
    "from sklearn.model_selection import train_test_split\n",
    "x_train, x_test, y_train, y_test = train_test_split(x, y, test_size = 0.3, random_state = 1)\n",
    "print(\"Shape of x_train :\", x_train.shape)\n",
    "print(\"Shape of y_train :\", y_train.shape)\n",
    "print(\"Shape of x_test :\", x_test.shape)\n",
    "print(\"Shape of y_test :\", y_test.shape)\n",
    "\n",
    "## Applying SMOTE\n",
    "\n",
    "from imblearn.over_sampling import SMOTE\n",
    "s=SMOTE(ratio='minority')\n",
    "xtrain_reset,ytrain_reset=s.fit_sample(x_train,y_train)\n",
    "xtest_reset,ytest_reset=s.fit_sample(x_test,y_test)\n",
    "print(sum(ytrain_reset==1))\n",
    "print(sum(ytrain_reset==0))\n",
    "\n",
    "from sklearn.preprocessing import StandardScaler\n",
    "sc = StandardScaler()\n",
    "\n",
    "xtrain_reset = sc.fit_transform(xtrain_reset)\n",
    "xtest_reset = sc.transform(xtest_reset)\n",
    "from sklearn.ensemble import GradientBoostingClassifier\n",
    "gbm = GradientBoostingClassifier()\n",
    "gbm.fit(xtrain_reset,ytrain_reset)\n",
    "gbm.fit(x,y)\n",
    "print(gbm.feature_importances_) #use inbuilt class feature_importances of tree based classifiers\n",
    "#plot graph of feature importances for better visualization\n",
    "feat_importances = pd.Series(gbm.feature_importances_, index=x.columns)\n",
    "feat_importances.nlargest(10).plot(kind='barh')\n",
    "plt.show()"
   ]
  },
  {
   "cell_type": "code",
   "execution_count": 126,
   "metadata": {},
   "outputs": [
    {
     "name": "stdout",
     "output_type": "stream",
     "text": [
      "7273\n",
      "7273\n",
      "The Accuracy Score is 0.9207684979358527\n",
      "The Kappa Score is 0.8415369958717053\n",
      "Training Accuracy : 0.9313213254502957\n",
      "Testing Accuracy : 0.9207684979358527\n",
      "              precision    recall  f1-score   support\n",
      "\n",
      "           0       0.92      0.92      0.92      3149\n",
      "           1       0.92      0.92      0.92      3149\n",
      "\n",
      "    accuracy                           0.92      6298\n",
      "   macro avg       0.92      0.92      0.92      6298\n",
      "weighted avg       0.92      0.92      0.92      6298\n",
      "\n",
      "[[2893  256]\n",
      " [ 243 2906]]\n",
      "0.9190385831752056\n",
      "0.9228326452842172\n"
     ]
    },
    {
     "data": {
      "text/html": [
       "<div>\n",
       "<style scoped>\n",
       "    .dataframe tbody tr th:only-of-type {\n",
       "        vertical-align: middle;\n",
       "    }\n",
       "\n",
       "    .dataframe tbody tr th {\n",
       "        vertical-align: top;\n",
       "    }\n",
       "\n",
       "    .dataframe thead th {\n",
       "        text-align: right;\n",
       "    }\n",
       "</style>\n",
       "<table border=\"1\" class=\"dataframe\">\n",
       "  <thead>\n",
       "    <tr style=\"text-align: right;\">\n",
       "      <th></th>\n",
       "      <th>Model</th>\n",
       "      <th>Accuracy Score</th>\n",
       "      <th>Recall</th>\n",
       "      <th>Precision</th>\n",
       "      <th>Kappa Score</th>\n",
       "      <th>Training Score</th>\n",
       "      <th>Test Score</th>\n",
       "      <th>RMSE</th>\n",
       "    </tr>\n",
       "  </thead>\n",
       "  <tbody>\n",
       "    <tr>\n",
       "      <th>0</th>\n",
       "      <td>Logistic Regression</td>\n",
       "      <td>0.852652</td>\n",
       "      <td>0.804065</td>\n",
       "      <td>0.890609</td>\n",
       "      <td>0.705303</td>\n",
       "      <td>0.835006</td>\n",
       "      <td>0.852652</td>\n",
       "      <td>0.383860</td>\n",
       "    </tr>\n",
       "    <tr>\n",
       "      <th>1</th>\n",
       "      <td>Naive Bayes</td>\n",
       "      <td>0.763099</td>\n",
       "      <td>0.638298</td>\n",
       "      <td>0.850614</td>\n",
       "      <td>0.526199</td>\n",
       "      <td>0.745910</td>\n",
       "      <td>0.763099</td>\n",
       "      <td>0.486724</td>\n",
       "    </tr>\n",
       "    <tr>\n",
       "      <th>2</th>\n",
       "      <td>Random Forest Classifier</td>\n",
       "      <td>0.895205</td>\n",
       "      <td>0.901238</td>\n",
       "      <td>0.890493</td>\n",
       "      <td>0.790410</td>\n",
       "      <td>0.920115</td>\n",
       "      <td>0.895205</td>\n",
       "      <td>0.323721</td>\n",
       "    </tr>\n",
       "    <tr>\n",
       "      <th>3</th>\n",
       "      <td>Decision Tree</td>\n",
       "      <td>0.899016</td>\n",
       "      <td>0.918704</td>\n",
       "      <td>0.883899</td>\n",
       "      <td>0.798031</td>\n",
       "      <td>0.908566</td>\n",
       "      <td>0.899016</td>\n",
       "      <td>0.317780</td>\n",
       "    </tr>\n",
       "    <tr>\n",
       "      <th>4</th>\n",
       "      <td>Ada Boosting</td>\n",
       "      <td>0.904573</td>\n",
       "      <td>0.922515</td>\n",
       "      <td>0.890558</td>\n",
       "      <td>0.809146</td>\n",
       "      <td>0.913928</td>\n",
       "      <td>0.904573</td>\n",
       "      <td>0.308913</td>\n",
       "    </tr>\n",
       "    <tr>\n",
       "      <th>5</th>\n",
       "      <td>Gradient Boosting</td>\n",
       "      <td>0.920768</td>\n",
       "      <td>0.922833</td>\n",
       "      <td>0.919039</td>\n",
       "      <td>0.841537</td>\n",
       "      <td>0.931321</td>\n",
       "      <td>0.920768</td>\n",
       "      <td>0.281481</td>\n",
       "    </tr>\n",
       "  </tbody>\n",
       "</table>\n",
       "</div>"
      ],
      "text/plain": [
       "                      Model  Accuracy Score    Recall  Precision  Kappa Score  \\\n",
       "0       Logistic Regression        0.852652  0.804065   0.890609     0.705303   \n",
       "1               Naive Bayes        0.763099  0.638298   0.850614     0.526199   \n",
       "2  Random Forest Classifier        0.895205  0.901238   0.890493     0.790410   \n",
       "3             Decision Tree        0.899016  0.918704   0.883899     0.798031   \n",
       "4              Ada Boosting        0.904573  0.922515   0.890558     0.809146   \n",
       "5         Gradient Boosting        0.920768  0.922833   0.919039     0.841537   \n",
       "\n",
       "   Training Score  Test Score      RMSE  \n",
       "0        0.835006    0.852652  0.383860  \n",
       "1        0.745910    0.763099  0.486724  \n",
       "2        0.920115    0.895205  0.323721  \n",
       "3        0.908566    0.899016  0.317780  \n",
       "4        0.913928    0.904573  0.308913  \n",
       "5        0.931321    0.920768  0.281481  "
      ]
     },
     "execution_count": 126,
     "metadata": {},
     "output_type": "execute_result"
    }
   ],
   "source": [
    "x = df1.drop(['Revenue', 'Informational',\n",
    "       'Informational_Duration', 'SpecialDay',\n",
    "       'OperatingSystems', 'Browser', 'Region', 'TrafficType', 'Weekend', 'Month_Aug', 'Month_Dec', 'Month_Feb', 'Month_Jul',\n",
    "       'Month_June', 'Month_Mar', 'Month_Oct',\n",
    "       'Month_Sep', 'VisitorType_New_Visitor', 'VisitorType_Other',], axis = 1)\n",
    "y = df1['Revenue']\n",
    "\n",
    "from sklearn.model_selection import train_test_split\n",
    "x_train, x_test, y_train, y_test = train_test_split(x, y, test_size = 0.3, random_state = 1)\n",
    "\n",
    "## Applying SMOTE\n",
    "\n",
    "from imblearn.over_sampling import SMOTE\n",
    "s=SMOTE(ratio='minority')\n",
    "xtrain_reset,ytrain_reset=s.fit_sample(x_train,y_train)\n",
    "xtest_reset,ytest_reset=s.fit_sample(x_test,y_test)\n",
    "print(sum(ytrain_reset==1))\n",
    "print(sum(ytrain_reset==0))\n",
    "\n",
    "from sklearn.preprocessing import StandardScaler\n",
    "sc = StandardScaler()\n",
    "\n",
    "xtrain_reset = sc.fit_transform(xtrain_reset)\n",
    "xtest_reset = sc.transform(xtest_reset)\n",
    "\n",
    "from sklearn.ensemble import GradientBoostingClassifier\n",
    "gbm = GradientBoostingClassifier()\n",
    "\n",
    "pred_gbm = gbm.fit(xtrain_reset, ytrain_reset).predict(xtest_reset)\n",
    "\n",
    "print(\"The Accuracy Score is\",accuracy_score(ytest_reset,pred_gbm))\n",
    "print(\"The Kappa Score is\",cohen_kappa_score(ytest_reset,pred_gbm))\n",
    "print(\"Training Accuracy :\", gbm.score(xtrain_reset,ytrain_reset))\n",
    "print(\"Testing Accuracy :\", gbm.score(xtest_reset, ytest_reset))\n",
    "print(classification_report(ytest_reset,pred_gbm))\n",
    "\n",
    "confusion = confusion_matrix(ytest_reset, pred_gbm)\n",
    "print(confusion)\n",
    "TP = confusion[1, 1]\n",
    "TN = confusion[0, 0]\n",
    "FP = confusion[0, 1]\n",
    "FN = confusion[1, 0]\n",
    "\n",
    "precision_gbm = TP / float(TP + FP)\n",
    "print(precision_gbm)\n",
    "\n",
    "sensitivity_gbm = TP / float(FN + TP)\n",
    "print(sensitivity_gbm)\n",
    "\n",
    "rmse_gbm = np.sqrt(mean_squared_error(ytest_reset, pred_gbm))\n",
    "rmse_gbm\n",
    "df2 = pd.DataFrame({'Model': ['Logistic Regression', 'Naive Bayes', 'Random Forest Classifier', 'Decision Tree', 'Ada Boosting', 'Gradient Boosting'],\n",
    "                    'Accuracy Score': [0.852652, 0.763099, 0.895205, 0.899016, 0.904573,accuracy_score(ytest_reset,pred_gbm)],\n",
    "                    'Recall': [0.804065, 0.638298, 0.901238, 0.918704, 0.922515,sensitivity_gbm],\n",
    "                    'Precision': [0.890609, 0.850614, 0.890493, 0.883899, 0.890558,precision_gbm],\n",
    "                    'Kappa Score':  [0.705303, 0.526199, 0.790410, 0.798031, 0.809146,cohen_kappa_score(ytest_reset, pred_gbm)],\n",
    "                    'Training Score':  [0.835006, 0.745910, 0.920115, 0.908566, 0.913928,gbm.score(xtrain_reset,ytrain_reset)],\n",
    "                    'Test Score':[0.852652, 0.763099, 0.895205, 0.899016, 0.904573,gbm.score(xtest_reset, ytest_reset)],\n",
    "                    'RMSE': [0.383860, 0.486724, 0.323721, 0.317780, 0.308913,rmse_gbm]\n",
    "                   })\n",
    "\n",
    "df2\n"
   ]
  },
  {
   "cell_type": "raw",
   "metadata": {},
   "source": [
    "XG Boost"
   ]
  },
  {
   "cell_type": "code",
   "execution_count": 127,
   "metadata": {},
   "outputs": [
    {
     "name": "stdout",
     "output_type": "stream",
     "text": [
      "Shape of x_train : (8631, 28)\n",
      "Shape of y_train : (8631,)\n",
      "Shape of x_test : (3699, 28)\n",
      "Shape of y_test : (3699,)\n",
      "7273\n",
      "7273\n",
      "[0.03564584 0.0174468  0.00668537 0.01200439 0.03055229 0.025863\n",
      " 0.06304824 0.02948234 0.41027054 0.00762506 0.0078814  0.00645894\n",
      " 0.00555917 0.01138645 0.00923084 0.00661979 0.01370424 0.0052227\n",
      " 0.01363728 0.         0.04285364 0.05531566 0.07018686 0.\n",
      " 0.01711254 0.0213375  0.         0.07486912]\n"
     ]
    },
    {
     "data": {
      "image/png": "[encoded data removed]",
      "text/plain": [
       "<Figure size 432x288 with 1 Axes>"
      ]
     },
     "metadata": {
      "needs_background": "light"
     },
     "output_type": "display_data"
    }
   ],
   "source": [
    "x = df1.drop(['Revenue'], axis = 1)\n",
    "y = df1['Revenue']\n",
    "\n",
    "from sklearn.model_selection import train_test_split\n",
    "x_train, x_test, y_train, y_test = train_test_split(x, y, test_size = 0.3, random_state = 1)\n",
    "print(\"Shape of x_train :\", x_train.shape)\n",
    "print(\"Shape of y_train :\", y_train.shape)\n",
    "print(\"Shape of x_test :\", x_test.shape)\n",
    "print(\"Shape of y_test :\", y_test.shape)\n",
    "\n",
    "## Applying SMOTE\n",
    "\n",
    "from imblearn.over_sampling import SMOTE\n",
    "s=SMOTE(ratio='minority')\n",
    "xtrain_reset,ytrain_reset=s.fit_sample(x_train,y_train)\n",
    "xtest_reset,ytest_reset=s.fit_sample(x_test,y_test)\n",
    "print(sum(ytrain_reset==1))\n",
    "print(sum(ytrain_reset==0))\n",
    "\n",
    "from sklearn.preprocessing import StandardScaler\n",
    "sc = StandardScaler()\n",
    "\n",
    "xtrain_reset = sc.fit_transform(xtrain_reset)\n",
    "xtest_reset = sc.transform(xtest_reset)\n",
    "\n",
    "from xgboost import XGBClassifier\n",
    "xgb = XGBClassifier()\n",
    "xgb.fit(xtrain_reset,ytrain_reset)\n",
    "xgb.fit(x,y)\n",
    "print(xgb.feature_importances_) #use inbuilt class feature_importances of tree based classifiers\n",
    "#plot graph of feature importances for better visualization\n",
    "feat_importances = pd.Series(xgb.feature_importances_, index=x.columns)\n",
    "feat_importances.nlargest(10).plot(kind='barh')\n",
    "plt.show()"
   ]
  },
  {
   "cell_type": "code",
   "execution_count": 129,
   "metadata": {},
   "outputs": [
    {
     "data": {
      "text/plain": [
       "(12330, 29)"
      ]
     },
     "execution_count": 129,
     "metadata": {},
     "output_type": "execute_result"
    }
   ],
   "source": [
    "df1.shape"
   ]
  },
  {
   "cell_type": "code",
   "execution_count": 128,
   "metadata": {},
   "outputs": [
    {
     "data": {
      "text/plain": [
       "Index(['Administrative', 'Administrative_Duration', 'Informational',\n",
       "       'Informational_Duration', 'ProductRelated', 'ProductRelated_Duration',\n",
       "       'BounceRates', 'ExitRates', 'PageValues', 'SpecialDay',\n",
       "       'OperatingSystems', 'Browser', 'Region', 'TrafficType', 'Weekend',\n",
       "       'Revenue', 'Month_Aug', 'Month_Dec', 'Month_Feb', 'Month_Jul',\n",
       "       'Month_June', 'Month_Mar', 'Month_May', 'Month_Nov', 'Month_Oct',\n",
       "       'Month_Sep', 'VisitorType_New_Visitor', 'VisitorType_Other',\n",
       "       'VisitorType_Returning_Visitor'],\n",
       "      dtype='object')"
      ]
     },
     "execution_count": 128,
     "metadata": {},
     "output_type": "execute_result"
    }
   ],
   "source": [
    "df1.columns"
   ]
  },
  {
   "cell_type": "code",
   "execution_count": 130,
   "metadata": {},
   "outputs": [
    {
     "name": "stdout",
     "output_type": "stream",
     "text": [
      "7273\n",
      "7273\n"
     ]
    }
   ],
   "source": [
    "x = df1.drop(['Revenue', 'Administrative_Duration','Informational',\n",
    "       'Informational_Duration', 'SpecialDay',\n",
    "       'OperatingSystems', 'Browser', 'Region', 'TrafficType', 'Weekend', 'Month_Aug', 'Month_Dec', 'Month_Feb', 'Month_Jul',\n",
    "       'Month_June','Month_Oct',\n",
    "       'Month_Sep', 'VisitorType_New_Visitor', 'VisitorType_Other'], axis = 1)\n",
    "y = df1['Revenue']\n",
    "\n",
    "from sklearn.model_selection import train_test_split\n",
    "x_train, x_test, y_train, y_test = train_test_split(x, y, test_size = 0.3, random_state = 1)\n",
    "\n",
    "## Applying SMOTE\n",
    "\n",
    "from imblearn.over_sampling import SMOTE\n",
    "s=SMOTE(ratio='minority')\n",
    "xtrain_reset,ytrain_reset=s.fit_sample(x_train,y_train)\n",
    "xtest_reset,ytest_reset=s.fit_sample(x_test,y_test)\n",
    "print(sum(ytrain_reset==1))\n",
    "print(sum(ytrain_reset==0))\n",
    "\n",
    "from sklearn.preprocessing import StandardScaler\n",
    "sc = StandardScaler()\n",
    "\n",
    "xtrain_reset = sc.fit_transform(xtrain_reset)\n",
    "xtest_reset = sc.transform(xtest_reset)\n",
    "from xgboost import XGBClassifier\n",
    "xgb = XGBClassifier()\n",
    "xgbparams = {'booster':['gbtree', 'gblinear', 'dart'], 'max_depth' : [3,4,5,6], 'learning_rate' : [0.1, 0.3, 0.5], \n",
    "            'n_estimators' : [x for x in range(1,10)]}\n",
    "\n",
    "grid = GridSearchCV(estimator=xgb, param_grid= xgbparams, cv = 5)\n",
    "\n",
    "pred_xgb = grid.fit(xtrain_reset, ytrain_reset).predict(xtest_reset)\n"
   ]
  },
  {
   "cell_type": "code",
   "execution_count": 131,
   "metadata": {},
   "outputs": [
    {
     "data": {
      "text/plain": [
       "{'booster': 'gbtree', 'learning_rate': 0.1, 'max_depth': 6, 'n_estimators': 7}"
      ]
     },
     "execution_count": 131,
     "metadata": {},
     "output_type": "execute_result"
    }
   ],
   "source": [
    "grid.best_params_"
   ]
  },
  {
   "cell_type": "code",
   "execution_count": 132,
   "metadata": {},
   "outputs": [
    {
     "data": {
      "text/plain": [
       "0.9211467069984876"
      ]
     },
     "execution_count": 132,
     "metadata": {},
     "output_type": "execute_result"
    }
   ],
   "source": [
    "grid.best_score_"
   ]
  },
  {
   "cell_type": "code",
   "execution_count": 133,
   "metadata": {},
   "outputs": [
    {
     "data": {
      "text/plain": [
       "XGBClassifier(base_score=0.5, booster='gbtree', colsample_bylevel=1,\n",
       "              colsample_bynode=1, colsample_bytree=1, gamma=0,\n",
       "              learning_rate=0.1, max_delta_step=0, max_depth=6,\n",
       "              min_child_weight=1, missing=None, n_estimators=7, n_jobs=1,\n",
       "              nthread=None, objective='binary:logistic', random_state=0,\n",
       "              reg_alpha=0, reg_lambda=1, scale_pos_weight=1, seed=None,\n",
       "              silent=None, subsample=1, verbosity=1)"
      ]
     },
     "execution_count": 133,
     "metadata": {},
     "output_type": "execute_result"
    }
   ],
   "source": [
    "grid.best_estimator_"
   ]
  },
  {
   "cell_type": "code",
   "execution_count": 134,
   "metadata": {},
   "outputs": [
    {
     "name": "stdout",
     "output_type": "stream",
     "text": [
      "The Accuracy Score is 0.9098126389329946\n",
      "The Kappa Score is 0.8196252778659892\n",
      "Training Accuracy : 0.9281589440395985\n",
      "Testing Accuracy : 0.9098126389329946\n",
      "              precision    recall  f1-score   support\n",
      "\n",
      "           0       0.92      0.90      0.91      3149\n",
      "           1       0.90      0.92      0.91      3149\n",
      "\n",
      "    accuracy                           0.91      6298\n",
      "   macro avg       0.91      0.91      0.91      6298\n",
      "weighted avg       0.91      0.91      0.91      6298\n",
      "\n",
      "[[2845  304]\n",
      " [ 264 2885]]\n",
      "0.9046723110693007\n",
      "0.9161638615433471\n"
     ]
    },
    {
     "data": {
      "text/html": [
       "<div>\n",
       "<style scoped>\n",
       "    .dataframe tbody tr th:only-of-type {\n",
       "        vertical-align: middle;\n",
       "    }\n",
       "\n",
       "    .dataframe tbody tr th {\n",
       "        vertical-align: top;\n",
       "    }\n",
       "\n",
       "    .dataframe thead th {\n",
       "        text-align: right;\n",
       "    }\n",
       "</style>\n",
       "<table border=\"1\" class=\"dataframe\">\n",
       "  <thead>\n",
       "    <tr style=\"text-align: right;\">\n",
       "      <th></th>\n",
       "      <th>Model</th>\n",
       "      <th>Accuracy Score</th>\n",
       "      <th>Recall</th>\n",
       "      <th>Precision</th>\n",
       "      <th>Kappa Score</th>\n",
       "      <th>Training Score</th>\n",
       "      <th>Test Score</th>\n",
       "      <th>RMSE</th>\n",
       "    </tr>\n",
       "  </thead>\n",
       "  <tbody>\n",
       "    <tr>\n",
       "      <th>0</th>\n",
       "      <td>Logistic Regression</td>\n",
       "      <td>0.852652</td>\n",
       "      <td>0.804065</td>\n",
       "      <td>0.890609</td>\n",
       "      <td>0.705303</td>\n",
       "      <td>0.835006</td>\n",
       "      <td>0.852652</td>\n",
       "      <td>0.383860</td>\n",
       "    </tr>\n",
       "    <tr>\n",
       "      <th>1</th>\n",
       "      <td>Naive Bayes</td>\n",
       "      <td>0.763099</td>\n",
       "      <td>0.638298</td>\n",
       "      <td>0.850614</td>\n",
       "      <td>0.526199</td>\n",
       "      <td>0.745910</td>\n",
       "      <td>0.763099</td>\n",
       "      <td>0.486724</td>\n",
       "    </tr>\n",
       "    <tr>\n",
       "      <th>2</th>\n",
       "      <td>Random Forest Classifier</td>\n",
       "      <td>0.895205</td>\n",
       "      <td>0.901238</td>\n",
       "      <td>0.890493</td>\n",
       "      <td>0.790410</td>\n",
       "      <td>0.920115</td>\n",
       "      <td>0.895205</td>\n",
       "      <td>0.323721</td>\n",
       "    </tr>\n",
       "    <tr>\n",
       "      <th>3</th>\n",
       "      <td>Decision Tree</td>\n",
       "      <td>0.899016</td>\n",
       "      <td>0.918704</td>\n",
       "      <td>0.883899</td>\n",
       "      <td>0.798031</td>\n",
       "      <td>0.908566</td>\n",
       "      <td>0.899016</td>\n",
       "      <td>0.317780</td>\n",
       "    </tr>\n",
       "    <tr>\n",
       "      <th>4</th>\n",
       "      <td>Ada Boosting</td>\n",
       "      <td>0.904573</td>\n",
       "      <td>0.922515</td>\n",
       "      <td>0.890558</td>\n",
       "      <td>0.809146</td>\n",
       "      <td>0.913928</td>\n",
       "      <td>0.904573</td>\n",
       "      <td>0.308913</td>\n",
       "    </tr>\n",
       "    <tr>\n",
       "      <th>5</th>\n",
       "      <td>Gradient Boosting</td>\n",
       "      <td>0.920768</td>\n",
       "      <td>0.922833</td>\n",
       "      <td>0.919039</td>\n",
       "      <td>0.841537</td>\n",
       "      <td>0.931321</td>\n",
       "      <td>0.920768</td>\n",
       "      <td>0.281481</td>\n",
       "    </tr>\n",
       "    <tr>\n",
       "      <th>6</th>\n",
       "      <td>XG Boost</td>\n",
       "      <td>0.909813</td>\n",
       "      <td>0.916164</td>\n",
       "      <td>0.904672</td>\n",
       "      <td>0.819625</td>\n",
       "      <td>0.928159</td>\n",
       "      <td>0.909813</td>\n",
       "      <td>0.300312</td>\n",
       "    </tr>\n",
       "  </tbody>\n",
       "</table>\n",
       "</div>"
      ],
      "text/plain": [
       "                      Model  Accuracy Score    Recall  Precision  Kappa Score  \\\n",
       "0       Logistic Regression        0.852652  0.804065   0.890609     0.705303   \n",
       "1               Naive Bayes        0.763099  0.638298   0.850614     0.526199   \n",
       "2  Random Forest Classifier        0.895205  0.901238   0.890493     0.790410   \n",
       "3             Decision Tree        0.899016  0.918704   0.883899     0.798031   \n",
       "4              Ada Boosting        0.904573  0.922515   0.890558     0.809146   \n",
       "5         Gradient Boosting        0.920768  0.922833   0.919039     0.841537   \n",
       "6                  XG Boost        0.909813  0.916164   0.904672     0.819625   \n",
       "\n",
       "   Training Score  Test Score      RMSE  \n",
       "0        0.835006    0.852652  0.383860  \n",
       "1        0.745910    0.763099  0.486724  \n",
       "2        0.920115    0.895205  0.323721  \n",
       "3        0.908566    0.899016  0.317780  \n",
       "4        0.913928    0.904573  0.308913  \n",
       "5        0.931321    0.920768  0.281481  \n",
       "6        0.928159    0.909813  0.300312  "
      ]
     },
     "execution_count": 134,
     "metadata": {},
     "output_type": "execute_result"
    }
   ],
   "source": [
    "from xgboost import XGBClassifier\n",
    "xgb = XGBClassifier(booster='gbtree', learning_rate=0.1, max_depth=6, n_estimators=7)\n",
    "pred_xgb = xgb.fit(xtrain_reset, ytrain_reset).predict(xtest_reset)\n",
    "\n",
    "print(\"The Accuracy Score is\",accuracy_score(ytest_reset,pred_xgb))\n",
    "print(\"The Kappa Score is\",cohen_kappa_score(ytest_reset,pred_xgb))\n",
    "print(\"Training Accuracy :\", xgb.score(xtrain_reset,ytrain_reset))\n",
    "print(\"Testing Accuracy :\", xgb.score(xtest_reset, ytest_reset))\n",
    "print(classification_report(ytest_reset,pred_xgb))\n",
    "\n",
    "confusion = confusion_matrix(ytest_reset, pred_xgb)\n",
    "print(confusion)\n",
    "TP = confusion[1, 1]\n",
    "TN = confusion[0, 0]\n",
    "FP = confusion[0, 1]\n",
    "FN = confusion[1, 0]\n",
    "\n",
    "precision_xgb = TP / float(TP + FP)\n",
    "print(precision_xgb)\n",
    "\n",
    "sensitivity_xgb = TP / float(FN + TP)\n",
    "print(sensitivity_xgb)\n",
    "\n",
    "rmse_xgb = np.sqrt(mean_squared_error(ytest_reset, pred_xgb))\n",
    "rmse_xgb\n",
    "\n",
    "df2 = pd.DataFrame({'Model': ['Logistic Regression', 'Naive Bayes', 'Random Forest Classifier', 'Decision Tree', 'Ada Boosting', 'Gradient Boosting', 'XG Boost'],\n",
    "                    'Accuracy Score': [0.852652, 0.763099, 0.895205, 0.899016, 0.904573, 0.920768,accuracy_score(ytest_reset,pred_xgb)],\n",
    "                    'Recall': [0.804065, 0.638298, 0.901238, 0.918704, 0.922515, 0.922833,sensitivity_xgb],\n",
    "                    'Precision': [0.890609, 0.850614, 0.890493, 0.883899, 0.890558, 0.919039,precision_xgb],\n",
    "                    'Kappa Score':  [0.705303, 0.526199, 0.790410, 0.798031, 0.809146, 0.841537,cohen_kappa_score(ytest_reset, pred_xgb)],\n",
    "                    'Training Score':  [0.835006, 0.745910, 0.920115, 0.908566, 0.913928, 0.931321,xgb.score(xtrain_reset,ytrain_reset)],\n",
    "                    'Test Score':[0.852652, 0.763099, 0.895205, 0.899016, 0.904573, 0.920768,xgb.score(xtest_reset, ytest_reset)],\n",
    "                    'RMSE': [0.383860, 0.486724, 0.323721, 0.317780, 0.308913, 0.281481,rmse_xgb]\n",
    "                   })\n",
    "df2\n"
   ]
  },
  {
   "cell_type": "raw",
   "metadata": {},
   "source": [
    "Bagging Classifier"
   ]
  },
  {
   "cell_type": "code",
   "execution_count": 135,
   "metadata": {},
   "outputs": [
    {
     "name": "stdout",
     "output_type": "stream",
     "text": [
      "The Accuracy Score is 0.903620196887901\n",
      "The Kappa Score is 0.8072403937758018\n",
      "Training Accuracy : 0.9951876804619827\n",
      "Testing Accuracy : 0.903620196887901\n",
      "              precision    recall  f1-score   support\n",
      "\n",
      "           0       0.92      0.92      0.92      3149\n",
      "           1       0.92      0.92      0.92      3149\n",
      "\n",
      "    accuracy                           0.92      6298\n",
      "   macro avg       0.92      0.92      0.92      6298\n",
      "weighted avg       0.92      0.92      0.92      6298\n",
      "\n",
      "[[2937  212]\n",
      " [ 395 2754]]\n",
      "0.9285232636547539\n",
      "0.8745633534455383\n"
     ]
    },
    {
     "data": {
      "text/html": [
       "<div>\n",
       "<style scoped>\n",
       "    .dataframe tbody tr th:only-of-type {\n",
       "        vertical-align: middle;\n",
       "    }\n",
       "\n",
       "    .dataframe tbody tr th {\n",
       "        vertical-align: top;\n",
       "    }\n",
       "\n",
       "    .dataframe thead th {\n",
       "        text-align: right;\n",
       "    }\n",
       "</style>\n",
       "<table border=\"1\" class=\"dataframe\">\n",
       "  <thead>\n",
       "    <tr style=\"text-align: right;\">\n",
       "      <th></th>\n",
       "      <th>Model</th>\n",
       "      <th>Accuracy Score</th>\n",
       "      <th>Recall</th>\n",
       "      <th>Precision</th>\n",
       "      <th>Kappa Score</th>\n",
       "      <th>Training Score</th>\n",
       "      <th>Test Score</th>\n",
       "      <th>RMSE</th>\n",
       "    </tr>\n",
       "  </thead>\n",
       "  <tbody>\n",
       "    <tr>\n",
       "      <th>0</th>\n",
       "      <td>Logistic Regression</td>\n",
       "      <td>0.852652</td>\n",
       "      <td>0.804065</td>\n",
       "      <td>0.890609</td>\n",
       "      <td>0.705303</td>\n",
       "      <td>0.835006</td>\n",
       "      <td>0.852652</td>\n",
       "      <td>0.383860</td>\n",
       "    </tr>\n",
       "    <tr>\n",
       "      <th>1</th>\n",
       "      <td>Naive Bayes</td>\n",
       "      <td>0.763099</td>\n",
       "      <td>0.638298</td>\n",
       "      <td>0.850614</td>\n",
       "      <td>0.526199</td>\n",
       "      <td>0.745910</td>\n",
       "      <td>0.763099</td>\n",
       "      <td>0.486724</td>\n",
       "    </tr>\n",
       "    <tr>\n",
       "      <th>2</th>\n",
       "      <td>Random Forest Classifier</td>\n",
       "      <td>0.895205</td>\n",
       "      <td>0.901238</td>\n",
       "      <td>0.890493</td>\n",
       "      <td>0.790410</td>\n",
       "      <td>0.920115</td>\n",
       "      <td>0.895205</td>\n",
       "      <td>0.323721</td>\n",
       "    </tr>\n",
       "    <tr>\n",
       "      <th>3</th>\n",
       "      <td>Decision Tree</td>\n",
       "      <td>0.899016</td>\n",
       "      <td>0.918704</td>\n",
       "      <td>0.883899</td>\n",
       "      <td>0.798031</td>\n",
       "      <td>0.908566</td>\n",
       "      <td>0.899016</td>\n",
       "      <td>0.317780</td>\n",
       "    </tr>\n",
       "    <tr>\n",
       "      <th>4</th>\n",
       "      <td>Ada Boosting</td>\n",
       "      <td>0.904573</td>\n",
       "      <td>0.922515</td>\n",
       "      <td>0.890558</td>\n",
       "      <td>0.809146</td>\n",
       "      <td>0.913928</td>\n",
       "      <td>0.904573</td>\n",
       "      <td>0.308913</td>\n",
       "    </tr>\n",
       "    <tr>\n",
       "      <th>5</th>\n",
       "      <td>Gradient Boosting</td>\n",
       "      <td>0.920768</td>\n",
       "      <td>0.922833</td>\n",
       "      <td>0.919039</td>\n",
       "      <td>0.841537</td>\n",
       "      <td>0.931321</td>\n",
       "      <td>0.920768</td>\n",
       "      <td>0.281481</td>\n",
       "    </tr>\n",
       "    <tr>\n",
       "      <th>6</th>\n",
       "      <td>XG Boost</td>\n",
       "      <td>0.909813</td>\n",
       "      <td>0.916164</td>\n",
       "      <td>0.904672</td>\n",
       "      <td>0.819625</td>\n",
       "      <td>0.928159</td>\n",
       "      <td>0.909813</td>\n",
       "      <td>0.300312</td>\n",
       "    </tr>\n",
       "    <tr>\n",
       "      <th>7</th>\n",
       "      <td>Bagging</td>\n",
       "      <td>0.903620</td>\n",
       "      <td>0.874563</td>\n",
       "      <td>0.928523</td>\n",
       "      <td>0.807240</td>\n",
       "      <td>0.995188</td>\n",
       "      <td>0.903620</td>\n",
       "      <td>0.310451</td>\n",
       "    </tr>\n",
       "  </tbody>\n",
       "</table>\n",
       "</div>"
      ],
      "text/plain": [
       "                      Model  Accuracy Score    Recall  Precision  Kappa Score  \\\n",
       "0       Logistic Regression        0.852652  0.804065   0.890609     0.705303   \n",
       "1               Naive Bayes        0.763099  0.638298   0.850614     0.526199   \n",
       "2  Random Forest Classifier        0.895205  0.901238   0.890493     0.790410   \n",
       "3             Decision Tree        0.899016  0.918704   0.883899     0.798031   \n",
       "4              Ada Boosting        0.904573  0.922515   0.890558     0.809146   \n",
       "5         Gradient Boosting        0.920768  0.922833   0.919039     0.841537   \n",
       "6                  XG Boost        0.909813  0.916164   0.904672     0.819625   \n",
       "7                   Bagging        0.903620  0.874563   0.928523     0.807240   \n",
       "\n",
       "   Training Score  Test Score      RMSE  \n",
       "0        0.835006    0.852652  0.383860  \n",
       "1        0.745910    0.763099  0.486724  \n",
       "2        0.920115    0.895205  0.323721  \n",
       "3        0.908566    0.899016  0.317780  \n",
       "4        0.913928    0.904573  0.308913  \n",
       "5        0.931321    0.920768  0.281481  \n",
       "6        0.928159    0.909813  0.300312  \n",
       "7        0.995188    0.903620  0.310451  "
      ]
     },
     "execution_count": 135,
     "metadata": {},
     "output_type": "execute_result"
    }
   ],
   "source": [
    "x = df1.drop(['BounceRates', 'ExitRates','SpecialDay',\n",
    "       'OperatingSystems', 'Browser', 'Region', 'TrafficType', 'Weekend',\n",
    "        'Month_Aug', 'Month_Dec', 'Month_Feb', 'Month_Jul',\n",
    "       'Month_June', 'Month_Mar','Month_Oct',\n",
    "       'Month_Sep', 'VisitorType_Other',\n",
    "       'VisitorType_Returning_Visitor'], axis =1)\n",
    "y = df1['Revenue']\n",
    "from sklearn.ensemble import BaggingClassifier\n",
    "bagg = BaggingClassifier()\n",
    "\n",
    "pred_bagg = bagg.fit(xtrain_reset, ytrain_reset).predict(xtest_reset)\n",
    "\n",
    "print(\"The Accuracy Score is\",accuracy_score(ytest_reset,pred_bagg))\n",
    "print(\"The Kappa Score is\",cohen_kappa_score(ytest_reset,pred_bagg))\n",
    "print(\"Training Accuracy :\", bagg.score(xtrain_reset,ytrain_reset))\n",
    "print(\"Testing Accuracy :\", bagg.score(xtest_reset, ytest_reset))\n",
    "print(classification_report(ytest_reset,pred_gbm))\n",
    "\n",
    "confusion = confusion_matrix(ytest_reset, pred_bagg)\n",
    "print(confusion)\n",
    "TP = confusion[1, 1]\n",
    "TN = confusion[0, 0]\n",
    "FP = confusion[0, 1]\n",
    "FN = confusion[1, 0]\n",
    "\n",
    "precision_bagg = TP / float(TP + FP)\n",
    "print(precision_bagg)\n",
    "\n",
    "sensitivity_bagg = TP / float(FN + TP)\n",
    "print(sensitivity_bagg)\n",
    "\n",
    "rmse_bagg = np.sqrt(mean_squared_error(ytest_reset, pred_bagg))\n",
    "rmse_bagg\n",
    "\n",
    "df2 = pd.DataFrame({'Model': ['Logistic Regression', 'Naive Bayes', 'Random Forest Classifier', 'Decision Tree', 'Ada Boosting', 'Gradient Boosting', 'XG Boost', 'Bagging'],\n",
    "                    'Accuracy Score': [0.852652, 0.763099, 0.895205, 0.899016, 0.904573, 0.920768, 0.909813,accuracy_score(ytest_reset,pred_bagg)],\n",
    "                    'Recall': [0.804065, 0.638298, 0.901238, 0.918704, 0.922515, 0.922833, 0.916164,sensitivity_bagg],\n",
    "                    'Precision': [0.890609, 0.850614, 0.890493, 0.883899, 0.890558, 0.919039, 0.904672,precision_bagg],\n",
    "                    'Kappa Score':  [0.705303, 0.526199, 0.790410, 0.798031, 0.809146, 0.841537, 0.819625,cohen_kappa_score(ytest_reset, pred_bagg)],\n",
    "                    'Training Score':  [0.835006, 0.745910, 0.920115, 0.908566, 0.913928, 0.931321, 0.928159,bagg.score(xtrain_reset,ytrain_reset)],\n",
    "                    'Test Score':[0.852652, 0.763099, 0.895205, 0.899016, 0.904573, 0.920768, 0.909813,bagg.score(xtest_reset, ytest_reset)],\n",
    "                    'RMSE': [0.383860, 0.486724, 0.323721, 0.317780, 0.308913, 0.281481 ,0.300312,rmse_bagg]\n",
    "                   })\n",
    "df2\n"
   ]
  },
  {
   "cell_type": "code",
   "execution_count": 136,
   "metadata": {},
   "outputs": [
    {
     "data": {
      "text/html": [
       "<div>\n",
       "<style scoped>\n",
       "    .dataframe tbody tr th:only-of-type {\n",
       "        vertical-align: middle;\n",
       "    }\n",
       "\n",
       "    .dataframe tbody tr th {\n",
       "        vertical-align: top;\n",
       "    }\n",
       "\n",
       "    .dataframe thead th {\n",
       "        text-align: right;\n",
       "    }\n",
       "</style>\n",
       "<table border=\"1\" class=\"dataframe\">\n",
       "  <thead>\n",
       "    <tr style=\"text-align: right;\">\n",
       "      <th></th>\n",
       "      <th>Model</th>\n",
       "      <th>Accuracy Score</th>\n",
       "      <th>Recall</th>\n",
       "      <th>Precision</th>\n",
       "      <th>Kappa Score</th>\n",
       "      <th>Training Score</th>\n",
       "      <th>Test Score</th>\n",
       "      <th>RMSE</th>\n",
       "    </tr>\n",
       "  </thead>\n",
       "  <tbody>\n",
       "    <tr>\n",
       "      <th>5</th>\n",
       "      <td>Gradient Boosting</td>\n",
       "      <td>0.920768</td>\n",
       "      <td>0.922833</td>\n",
       "      <td>0.919039</td>\n",
       "      <td>0.841537</td>\n",
       "      <td>0.931321</td>\n",
       "      <td>0.920768</td>\n",
       "      <td>0.281481</td>\n",
       "    </tr>\n",
       "    <tr>\n",
       "      <th>6</th>\n",
       "      <td>XG Boost</td>\n",
       "      <td>0.909813</td>\n",
       "      <td>0.916164</td>\n",
       "      <td>0.904672</td>\n",
       "      <td>0.819625</td>\n",
       "      <td>0.928159</td>\n",
       "      <td>0.909813</td>\n",
       "      <td>0.300312</td>\n",
       "    </tr>\n",
       "    <tr>\n",
       "      <th>4</th>\n",
       "      <td>Ada Boosting</td>\n",
       "      <td>0.904573</td>\n",
       "      <td>0.922515</td>\n",
       "      <td>0.890558</td>\n",
       "      <td>0.809146</td>\n",
       "      <td>0.913928</td>\n",
       "      <td>0.904573</td>\n",
       "      <td>0.308913</td>\n",
       "    </tr>\n",
       "    <tr>\n",
       "      <th>7</th>\n",
       "      <td>Bagging</td>\n",
       "      <td>0.903620</td>\n",
       "      <td>0.874563</td>\n",
       "      <td>0.928523</td>\n",
       "      <td>0.807240</td>\n",
       "      <td>0.995188</td>\n",
       "      <td>0.903620</td>\n",
       "      <td>0.310451</td>\n",
       "    </tr>\n",
       "    <tr>\n",
       "      <th>3</th>\n",
       "      <td>Decision Tree</td>\n",
       "      <td>0.899016</td>\n",
       "      <td>0.918704</td>\n",
       "      <td>0.883899</td>\n",
       "      <td>0.798031</td>\n",
       "      <td>0.908566</td>\n",
       "      <td>0.899016</td>\n",
       "      <td>0.317780</td>\n",
       "    </tr>\n",
       "    <tr>\n",
       "      <th>2</th>\n",
       "      <td>Random Forest Classifier</td>\n",
       "      <td>0.895205</td>\n",
       "      <td>0.901238</td>\n",
       "      <td>0.890493</td>\n",
       "      <td>0.790410</td>\n",
       "      <td>0.920115</td>\n",
       "      <td>0.895205</td>\n",
       "      <td>0.323721</td>\n",
       "    </tr>\n",
       "    <tr>\n",
       "      <th>0</th>\n",
       "      <td>Logistic Regression</td>\n",
       "      <td>0.852652</td>\n",
       "      <td>0.804065</td>\n",
       "      <td>0.890609</td>\n",
       "      <td>0.705303</td>\n",
       "      <td>0.835006</td>\n",
       "      <td>0.852652</td>\n",
       "      <td>0.383860</td>\n",
       "    </tr>\n",
       "    <tr>\n",
       "      <th>1</th>\n",
       "      <td>Naive Bayes</td>\n",
       "      <td>0.763099</td>\n",
       "      <td>0.638298</td>\n",
       "      <td>0.850614</td>\n",
       "      <td>0.526199</td>\n",
       "      <td>0.745910</td>\n",
       "      <td>0.763099</td>\n",
       "      <td>0.486724</td>\n",
       "    </tr>\n",
       "  </tbody>\n",
       "</table>\n",
       "</div>"
      ],
      "text/plain": [
       "                      Model  Accuracy Score    Recall  Precision  Kappa Score  \\\n",
       "5         Gradient Boosting        0.920768  0.922833   0.919039     0.841537   \n",
       "6                  XG Boost        0.909813  0.916164   0.904672     0.819625   \n",
       "4              Ada Boosting        0.904573  0.922515   0.890558     0.809146   \n",
       "7                   Bagging        0.903620  0.874563   0.928523     0.807240   \n",
       "3             Decision Tree        0.899016  0.918704   0.883899     0.798031   \n",
       "2  Random Forest Classifier        0.895205  0.901238   0.890493     0.790410   \n",
       "0       Logistic Regression        0.852652  0.804065   0.890609     0.705303   \n",
       "1               Naive Bayes        0.763099  0.638298   0.850614     0.526199   \n",
       "\n",
       "   Training Score  Test Score      RMSE  \n",
       "5        0.931321    0.920768  0.281481  \n",
       "6        0.928159    0.909813  0.300312  \n",
       "4        0.913928    0.904573  0.308913  \n",
       "7        0.995188    0.903620  0.310451  \n",
       "3        0.908566    0.899016  0.317780  \n",
       "2        0.920115    0.895205  0.323721  \n",
       "0        0.835006    0.852652  0.383860  \n",
       "1        0.745910    0.763099  0.486724  "
      ]
     },
     "execution_count": 136,
     "metadata": {},
     "output_type": "execute_result"
    }
   ],
   "source": [
    "## Comparing all the models with highest accuracy score\n",
    "\n",
    "df2 = pd.DataFrame({'Model': ['Logistic Regression', 'Naive Bayes', 'Random Forest Classifier', 'Decision Tree', 'Ada Boosting', 'Gradient Boosting', 'XG Boost', 'Bagging'],\n",
    "                    'Accuracy Score': [0.852652, 0.763099, 0.895205, 0.899016, 0.904573, 0.920768, 0.909813,0.903620],\n",
    "                    'Recall': [0.804065, 0.638298, 0.901238, 0.918704, 0.922515, 0.922833, 0.916164,0.874563],\n",
    "                    'Precision': [0.890609, 0.850614, 0.890493, 0.883899, 0.890558, 0.919039, 0.904672,0.928523],\n",
    "                    'Kappa Score':  [0.705303, 0.526199, 0.790410, 0.798031, 0.809146, 0.841537, 0.819625,0.807240],\n",
    "                    'Training Score':  [0.835006, 0.745910, 0.920115, 0.908566, 0.913928, 0.931321, 0.928159,0.995188],\n",
    "                    'Test Score':[0.852652, 0.763099, 0.895205, 0.899016, 0.904573, 0.920768, 0.909813,0.903620],\n",
    "                    'RMSE': [0.383860, 0.486724, 0.323721, 0.317780, 0.308913, 0.281481 ,0.300312,0.310451]\n",
    "                   })\n",
    "\n",
    "df2.sort_values(by = 'Accuracy Score', ascending = False)"
   ]
  },
  {
   "cell_type": "raw",
   "metadata": {},
   "source": [
    "Hence Gradient Boosting tops our model performance in terms of highest accuracy and least RMSE."
   ]
  },
  {
   "cell_type": "code",
   "execution_count": null,
   "metadata": {},
   "outputs": [],
   "source": []
  }
 ],
 "metadata": {
  "kernelspec": {
   "display_name": "Python 3",
   "language": "python",
   "name": "python3"
  },
  "language_info": {
   "codemirror_mode": {
    "name": "ipython",
    "version": 3
   },
   "file_extension": ".py",
   "mimetype": "text/x-python",
   "name": "python",
   "nbconvert_exporter": "python",
   "pygments_lexer": "ipython3",
   "version": "3.7.3"
  }
 },
 "nbformat": 4,
 "nbformat_minor": 2
}
